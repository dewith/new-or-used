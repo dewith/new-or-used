{
 "cells": [
  {
   "cell_type": "markdown",
   "metadata": {},
   "source": [
    "# Dataset Exploration\n"
   ]
  },
  {
   "cell_type": "markdown",
   "metadata": {},
   "source": [
    "Here we are going to explore the dataset with thousands of Mercado Libre items to see which features are more suitable for our model.\n"
   ]
  },
  {
   "cell_type": "markdown",
   "metadata": {},
   "source": [
    "First we import the packages we need and set the palette for our plots.\n"
   ]
  },
  {
   "cell_type": "code",
   "execution_count": 1,
   "metadata": {},
   "outputs": [
    {
     "name": "stdout",
     "output_type": "stream",
     "text": [
      "Current working directory: /Users/dewith/Repos/new-or-used\n"
     ]
    }
   ],
   "source": [
    "import os\n",
    "\n",
    "for _ in range(3):\n",
    "    if os.path.exists(f'{os.getcwd()}/setup.py'):\n",
    "        break\n",
    "    os.chdir('..')\n",
    "print('Current working directory:', os.getcwd())"
   ]
  },
  {
   "cell_type": "code",
   "execution_count": 2,
   "metadata": {},
   "outputs": [],
   "source": [
    "import json\n",
    "import re\n",
    "import unicodedata\n",
    "from collections import Counter\n",
    "\n",
    "import matplotlib.pyplot as plt\n",
    "import nltk\n",
    "import numpy as np\n",
    "import pandas as pd\n",
    "import seaborn as sns\n",
    "from matplotlib.ticker import FuncFormatter\n",
    "from nltk.corpus import stopwords\n",
    "\n",
    "from src.utils.config import get_dataset_path\n",
    "from src.utils.styling import apply_styling, make_palette"
   ]
  },
  {
   "cell_type": "code",
   "execution_count": 3,
   "metadata": {},
   "outputs": [
    {
     "name": "stderr",
     "output_type": "stream",
     "text": [
      "[nltk_data] Downloading package stopwords to\n",
      "[nltk_data]     /Users/dewith/nltk_data...\n",
      "[nltk_data]   Package stopwords is already up-to-date!\n"
     ]
    },
    {
     "data": {
      "text/plain": [
       "True"
      ]
     },
     "execution_count": 3,
     "metadata": {},
     "output_type": "execute_result"
    }
   ],
   "source": [
    "# Seaborn\n",
    "colors = make_palette()\n",
    "palette = colors['palette']\n",
    "apply_styling(colors)\n",
    "\n",
    "# Pandas\n",
    "pd.set_option('display.max_columns', 200)\n",
    "pd.set_option('display.max_rows', 100)\n",
    "# pd.set_option('display.float_format', lambda x: f'{x:.3f}')\n",
    "# pd.set_option('display.max_colwidth', 50)\n",
    "\n",
    "# NLTK\n",
    "nltk.download('stopwords')"
   ]
  },
  {
   "cell_type": "markdown",
   "metadata": {},
   "source": [
    "## Data Loading\n"
   ]
  },
  {
   "cell_type": "markdown",
   "metadata": {},
   "source": [
    "Read the jsonl file\n"
   ]
  },
  {
   "cell_type": "code",
   "execution_count": 4,
   "metadata": {},
   "outputs": [
    {
     "name": "stdout",
     "output_type": "stream",
     "text": [
      "Number of lines: 90000\n"
     ]
    }
   ],
   "source": [
    "train_path = get_dataset_path('raw_items_train')\n",
    "with open(train_path, 'r') as f:\n",
    "    lines = f.readlines()\n",
    "    dict_objects = [json.loads(line) for line in lines[:]]\n",
    "    print('Number of lines:', len(lines))"
   ]
  },
  {
   "cell_type": "markdown",
   "metadata": {},
   "source": [
    "Load the data into a pandas dataframe\n"
   ]
  },
  {
   "cell_type": "code",
   "execution_count": 5,
   "metadata": {},
   "outputs": [
    {
     "name": "stdout",
     "output_type": "stream",
     "text": [
      "Shape: (90000, 45)\n"
     ]
    }
   ],
   "source": [
    "df = pd.DataFrame.from_records(dict_objects)\n",
    "print('Shape:', df.shape)"
   ]
  },
  {
   "cell_type": "markdown",
   "metadata": {},
   "source": [
    "## Data Exploration\n"
   ]
  },
  {
   "cell_type": "markdown",
   "metadata": {},
   "source": [
    "### Target variable\n",
    "\n",
    "Let's see the distribution of the target variable\n"
   ]
  },
  {
   "cell_type": "code",
   "execution_count": 6,
   "metadata": {},
   "outputs": [],
   "source": [
    "target_column = 'condition'"
   ]
  },
  {
   "cell_type": "code",
   "execution_count": 7,
   "metadata": {},
   "outputs": [
    {
     "data": {
      "image/png": "[encoded data removed]",
      "text/plain": [
       "<Figure size 500x350 with 1 Axes>"
      ]
     },
     "metadata": {},
     "output_type": "display_data"
    }
   ],
   "source": [
    "plt.figure(figsize=(5, 3.5), dpi=100)\n",
    "sns.barplot(\n",
    "    df[target_column].value_counts(dropna=False),\n",
    "    edgecolor=colors['lines'],\n",
    "    linewidth=0.6,\n",
    "    alpha=1,\n",
    "    saturation=1,\n",
    ")\n",
    "plt.title(\"Distribution of the items' conditions\")\n",
    "plt.xlabel('')\n",
    "plt.ylabel('')\n",
    "sns.despine(left=True)\n",
    "plt.show()"
   ]
  },
  {
   "cell_type": "code",
   "execution_count": 8,
   "metadata": {},
   "outputs": [
    {
     "name": "stdout",
     "output_type": "stream",
     "text": [
      "Majority class baseline: 0.537\n"
     ]
    }
   ],
   "source": [
    "df[target_column] = df[target_column].map({'new': 1, 'used': 0})\n",
    "print('Majority class baseline:', df.condition.mean().round(3))"
   ]
  },
  {
   "cell_type": "markdown",
   "metadata": {},
   "source": [
    "### Schema\n"
   ]
  },
  {
   "cell_type": "code",
   "execution_count": 9,
   "metadata": {},
   "outputs": [
    {
     "name": "stdout",
     "output_type": "stream",
     "text": [
      "{\n",
      "  \"seller_address\": {\n",
      "    \"country\": {\n",
      "      \"name\": \"Argentina\",\n",
      "      \"id\": \"AR\"\n",
      "    },\n",
      "    \"state\": {\n",
      "      \"name\": \"Capital Federal\",\n",
      "      \"id\": \"AR-C\"\n",
      "    },\n",
      "    \"city\": {\n",
      "      \"name\": \"San Crist\\u00f3bal\",\n",
      "      \"id\": \"TUxBQlNBTjkwNTZa\"\n",
      "    }\n",
      "  },\n",
      "  \"warranty\": null,\n",
      "  \"sub_status\": [],\n",
      "  \"condition\": \"new\",\n",
      "  \"deal_ids\": [],\n",
      "  \"base_price\": 80.0,\n",
      "  \"shipping\": {\n",
      "    \"local_pick_up\": true,\n",
      "    \"methods\": [],\n",
      "    \"tags\": [],\n",
      "    \"free_shipping\": false,\n",
      "    \"mode\": \"not_specified\",\n",
      "    \"dimensions\": null\n",
      "  },\n",
      "  \"non_mercado_pago_payment_methods\": [\n",
      "    {\n",
      "      \"description\": \"Transferencia bancaria\",\n",
      "      \"id\": \"MLATB\",\n",
      "      \"type\": \"G\"\n",
      "    },\n",
      "    {\n",
      "      \"description\": \"Acordar con el comprador\",\n",
      "      \"id\": \"MLAWC\",\n",
      "      \"type\": \"G\"\n",
      "    },\n",
      "    {\n",
      "      \"description\": \"Efectivo\",\n",
      "      \"id\": \"MLAMO\",\n",
      "      \"type\": \"G\"\n",
      "    }\n",
      "  ],\n",
      "  \"seller_id\": 8208882349,\n",
      "  \"variations\": [],\n",
      "  \"site_id\": \"MLA\",\n",
      "  \"listing_type_id\": \"bronze\",\n",
      "  \"price\": 80.0,\n",
      "  \"attributes\": [],\n",
      "  \"buying_mode\": \"buy_it_now\",\n",
      "  \"tags\": [\n",
      "    \"dragged_bids_and_visits\"\n",
      "  ],\n",
      "  \"listing_source\": \"\",\n",
      "  \"parent_item_id\": \"MLA6553902747\",\n",
      "  \"coverage_areas\": [],\n",
      "  \"category_id\": \"MLA126406\",\n",
      "  \"descriptions\": [\n",
      "    \"{'id': 'MLA4695330653-912855983'}\"\n",
      "  ],\n",
      "  \"last_updated\": \"2015-09-05T20:42:58.000Z\",\n",
      "  \"international_delivery_mode\": \"none\",\n",
      "  \"pictures\": [\n",
      "    {\n",
      "      \"size\": \"500x375\",\n",
      "      \"secure_url\": \"https://a248.e.akamai.net/mla-s1-p.mlstatic.com/5386-MLA4695330653_052013-O.jpg\",\n",
      "      \"max_size\": \"1200x900\",\n",
      "      \"url\": \"http://mla-s1-p.mlstatic.com/5386-MLA4695330653_052013-O.jpg\",\n",
      "      \"quality\": \"\",\n",
      "      \"id\": \"5386-MLA4695330653_052013\"\n",
      "    },\n",
      "    {\n",
      "      \"size\": \"500x375\",\n",
      "      \"secure_url\": \"https://a248.e.akamai.net/mla-s1-p.mlstatic.com/5361-MLA4695330653_052013-O.jpg\",\n",
      "      \"max_size\": \"1200x900\",\n",
      "      \"url\": \"http://mla-s1-p.mlstatic.com/5361-MLA4695330653_052013-O.jpg\",\n",
      "      \"quality\": \"\",\n",
      "      \"id\": \"5361-MLA4695330653_052013\"\n",
      "    }\n",
      "  ],\n",
      "  \"id\": \"MLA4695330653\",\n",
      "  \"official_store_id\": null,\n",
      "  \"differential_pricing\": null,\n",
      "  \"accepts_mercadopago\": true,\n",
      "  \"original_price\": null,\n",
      "  \"currency_id\": \"ARS\",\n",
      "  \"thumbnail\": \"http://mla-s1-p.mlstatic.com/5386-MLA4695330653_052013-I.jpg\",\n",
      "  \"title\": \"Auriculares Samsung Originales Manos Libres Cable Usb Oferta\",\n",
      "  \"automatic_relist\": false,\n",
      "  \"date_created\": \"2015-09-05T20:42:53.000Z\",\n",
      "  \"secure_thumbnail\": \"https://a248.e.akamai.net/mla-s1-p.mlstatic.com/5386-MLA4695330653_052013-I.jpg\",\n",
      "  \"stop_time\": 1446669773000,\n",
      "  \"status\": \"active\",\n",
      "  \"video_id\": null,\n",
      "  \"catalog_product_id\": null,\n",
      "  \"subtitle\": null,\n",
      "  \"initial_quantity\": 1,\n",
      "  \"start_time\": 1441485773000,\n",
      "  \"permalink\": \"http://articulo.mercadolibre.com.ar/MLA4695330653-auriculares-samsung-originales-manos-libres-cable-usb-oferta-_JM\",\n",
      "  \"sold_quantity\": 0,\n",
      "  \"available_quantity\": 1\n",
      "}\n"
     ]
    }
   ],
   "source": [
    "print(json.dumps(dict_objects[0], indent=2))"
   ]
  },
  {
   "cell_type": "markdown",
   "metadata": {},
   "source": [
    "#### Dtypes\n"
   ]
  },
  {
   "cell_type": "code",
   "execution_count": 10,
   "metadata": {},
   "outputs": [
    {
     "name": "stdout",
     "output_type": "stream",
     "text": [
      "<class 'bool'>:\n",
      "  accepts_mercadopago\n",
      "  automatic_relist\n",
      "\n",
      "<class 'str'>:\n",
      "  condition\n",
      "  site_id\n",
      "  listing_type_id\n",
      "  buying_mode\n",
      "  listing_source\n",
      "  parent_item_id\n",
      "  category_id\n",
      "  last_updated\n",
      "  international_delivery_mode\n",
      "  id\n",
      "  currency_id\n",
      "  thumbnail\n",
      "  title\n",
      "  date_created\n",
      "  secure_thumbnail\n",
      "  status\n",
      "  permalink\n",
      "\n",
      "<class 'dict'>:\n",
      "  seller_address\n",
      "  shipping\n",
      "\n",
      "<class 'list'>:\n",
      "  sub_status\n",
      "  deal_ids\n",
      "  non_mercado_pago_payment_methods\n",
      "  variations\n",
      "  attributes\n",
      "  tags\n",
      "  coverage_areas\n",
      "  descriptions\n",
      "  pictures\n",
      "\n",
      "<class 'float'>:\n",
      "  base_price\n",
      "  price\n",
      "\n",
      "<class 'int'>:\n",
      "  seller_id\n",
      "  stop_time\n",
      "  initial_quantity\n",
      "  start_time\n",
      "  sold_quantity\n",
      "  available_quantity\n",
      "\n",
      "<class 'NoneType'>:\n",
      "  warranty\n",
      "  official_store_id\n",
      "  differential_pricing\n",
      "  original_price\n",
      "  video_id\n",
      "  catalog_product_id\n",
      "  subtitle\n",
      "\n"
     ]
    }
   ],
   "source": [
    "dtypes = {k: type(v) for k, v in dict_objects[0].items()}\n",
    "for dtype in set(dtypes.values()):\n",
    "    print(f'{dtype}:')\n",
    "    for k, v in dtypes.items():\n",
    "        if v == dtype:\n",
    "            print(f'  {k}')\n",
    "    print()"
   ]
  },
  {
   "cell_type": "markdown",
   "metadata": {},
   "source": [
    "### Dictionary columns\n"
   ]
  },
  {
   "cell_type": "markdown",
   "metadata": {},
   "source": [
    "##### Seller address\n",
    "\n",
    "Extract location information from the dictionary\n"
   ]
  },
  {
   "cell_type": "code",
   "execution_count": 11,
   "metadata": {},
   "outputs": [],
   "source": [
    "location_features = ['country', 'state', 'city']\n",
    "for feature in location_features:\n",
    "    df[feature] = df['seller_address'].apply(\n",
    "        lambda x, k=feature: x.get(k, {}).get('name', None)\n",
    "    )\n",
    "\n",
    "df.drop(columns=['seller_address'], inplace=True)"
   ]
  },
  {
   "cell_type": "markdown",
   "metadata": {},
   "source": [
    "##### Shipping\n",
    "\n",
    "Extract shipping information from the dictionary\n"
   ]
  },
  {
   "cell_type": "code",
   "execution_count": 12,
   "metadata": {},
   "outputs": [],
   "source": [
    "shipping_df = pd.json_normalize(df['shipping'])\n",
    "shipping_df.columns = [\n",
    "    'local_pick_up',\n",
    "    'shipping_methods',\n",
    "    'shipping_tags',\n",
    "    'free_shipping',\n",
    "    'shipping_mode',\n",
    "    'dimensions',\n",
    "    'shipping_free_methods',\n",
    "]\n",
    "\n",
    "df = pd.concat([df.drop('shipping', axis=1), shipping_df], axis=1)"
   ]
  },
  {
   "cell_type": "markdown",
   "metadata": {},
   "source": [
    "### List columns\n"
   ]
  },
  {
   "cell_type": "code",
   "execution_count": 13,
   "metadata": {},
   "outputs": [],
   "source": [
    "list_cols = [\n",
    "    'sub_status',\n",
    "    'deal_ids',\n",
    "    'non_mercado_pago_payment_methods',\n",
    "    'variations',\n",
    "    'attributes',\n",
    "    'tags',\n",
    "    'coverage_areas',\n",
    "    'descriptions',\n",
    "    'pictures',\n",
    "]"
   ]
  },
  {
   "cell_type": "code",
   "execution_count": 14,
   "metadata": {},
   "outputs": [
    {
     "name": "stdout",
     "output_type": "stream",
     "text": [
      "sub_status\n",
      "Unique values: 4\n",
      "[]: 89109\n",
      "['deleted']: 7\n",
      "['expired']: 13\n",
      "['suspended']: 871\n",
      "------------------------------------------------------------\n",
      "deal_ids\n",
      "Unique values: 31\n",
      "------------------------------------------------------------\n",
      "non_mercado_pago_payment_methods\n",
      "'<' not supported between instances of 'dict' and 'dict'\n",
      "------------------------------------------------------------\n",
      "variations\n",
      "'<' not supported between instances of 'dict' and 'dict'\n",
      "------------------------------------------------------------\n",
      "attributes\n",
      "'<' not supported between instances of 'dict' and 'dict'\n",
      "------------------------------------------------------------\n",
      "tags\n",
      "Unique values: 8\n",
      "[]: 22412\n",
      "['dragged_bids_and_visits']: 65315\n",
      "['dragged_visits']: 464\n",
      "['dragged_visits', 'free_relist']: 259\n",
      "['good_quality_thumbnail']: 346\n",
      "['good_quality_thumbnail', 'dragged_bids_and_visits']: 1191\n",
      "['poor_quality_thumbnail']: 3\n",
      "['poor_quality_thumbnail', 'dragged_bids_and_visits']: 10\n",
      "------------------------------------------------------------\n",
      "coverage_areas\n",
      "Unique values: 1\n",
      "[]: 90000\n",
      "------------------------------------------------------------\n",
      "descriptions\n",
      "Unique values: 87584\n",
      "------------------------------------------------------------\n",
      "pictures\n",
      "'<' not supported between instances of 'dict' and 'dict'\n",
      "------------------------------------------------------------\n"
     ]
    }
   ],
   "source": [
    "for col in list_cols:\n",
    "    print(col)\n",
    "    try:\n",
    "        values, counts = np.unique(df[col].values, return_counts=True)\n",
    "        print('Unique values:', len(values))\n",
    "        if len(values) < 10:\n",
    "            print('\\n'.join([f'{v}: {c}' for v, c in zip(values, counts)]))\n",
    "    except Exception as e:\n",
    "        print(e)\n",
    "    print('-' * 60)"
   ]
  },
  {
   "cell_type": "markdown",
   "metadata": {},
   "source": [
    "##### Substatus\n",
    "\n",
    "Make it a string instead of a list\n"
   ]
  },
  {
   "cell_type": "code",
   "execution_count": 15,
   "metadata": {},
   "outputs": [],
   "source": [
    "df['sub_status'] = df['sub_status'].apply(lambda x: x[0] if x else np.nan)"
   ]
  },
  {
   "cell_type": "markdown",
   "metadata": {},
   "source": [
    "#### Deal ids\n",
    "\n",
    "Drop this column since most of the values are empty\n"
   ]
  },
  {
   "cell_type": "code",
   "execution_count": 16,
   "metadata": {},
   "outputs": [],
   "source": [
    "df.drop(columns=['deal_ids'], inplace=True)"
   ]
  },
  {
   "cell_type": "markdown",
   "metadata": {},
   "source": [
    "#### Non mercado pago payment methods\n",
    "\n",
    "Make each payment method a flag column\n"
   ]
  },
  {
   "cell_type": "code",
   "execution_count": 17,
   "metadata": {},
   "outputs": [
    {
     "data": {
      "text/plain": [
       "{'Acordar con el comprador',\n",
       " 'American Express',\n",
       " 'Cheque certificado',\n",
       " 'Contra reembolso',\n",
       " 'Diners',\n",
       " 'Efectivo',\n",
       " 'Giro postal',\n",
       " 'MasterCard',\n",
       " 'Mastercard Maestro',\n",
       " 'MercadoPago',\n",
       " 'Tarjeta de crédito',\n",
       " 'Transferencia bancaria',\n",
       " 'Visa',\n",
       " 'Visa Electron'}"
      ]
     },
     "execution_count": 17,
     "metadata": {},
     "output_type": "execute_result"
    }
   ],
   "source": [
    "all_payment_methods = set()\n",
    "for x in df['non_mercado_pago_payment_methods'].values:\n",
    "    if x:\n",
    "        for method in x:\n",
    "            all_payment_methods.add(method['description'])\n",
    "all_payment_methods"
   ]
  },
  {
   "cell_type": "code",
   "execution_count": 18,
   "metadata": {},
   "outputs": [],
   "source": [
    "def extract_payment_methods(payment_methods):\n",
    "    \"\"\"Extract payment methods from a list of dictionaries.\"\"\"\n",
    "    if not payment_methods:\n",
    "        return None\n",
    "\n",
    "    card_prefixes = {'visa', 'mastercard', 'american'}\n",
    "\n",
    "    def categorize_method(method):\n",
    "        description = method['description'].lower()\n",
    "        return (\n",
    "            'pay_tarjeta'\n",
    "            if any(description.startswith(prefix) for prefix in card_prefixes)\n",
    "            else f'pay_{description.split()[0]}'\n",
    "        )\n",
    "\n",
    "    unique_methods = {categorize_method(method) for method in payment_methods}\n",
    "    return ' / '.join(unique_methods)\n",
    "\n",
    "\n",
    "# Extract payment methods\n",
    "payment_df = df['non_mercado_pago_payment_methods'].apply(extract_payment_methods)\n",
    "payment_methods_dummies = payment_df.str.get_dummies(sep=' / ')\n",
    "payment_methods_dummies['n_payment_methods'] = payment_methods_dummies.sum(axis=1)\n",
    "df = pd.concat([df, payment_methods_dummies], axis=1)\n",
    "df.drop(columns=['non_mercado_pago_payment_methods'], inplace=True)"
   ]
  },
  {
   "cell_type": "markdown",
   "metadata": {},
   "source": [
    "#### Variations\n",
    "\n",
    "Make a binary column if the item has variations or not\n"
   ]
  },
  {
   "cell_type": "code",
   "execution_count": 19,
   "metadata": {},
   "outputs": [],
   "source": [
    "df['has_variations'] = df['variations'].apply(lambda x: 1 if x else 0)\n",
    "df.drop(columns=['variations'], inplace=True)"
   ]
  },
  {
   "cell_type": "markdown",
   "metadata": {},
   "source": [
    "#### Attributes\n",
    "\n",
    "Extract the attributes from the dictionary and use the most informative ones\n"
   ]
  },
  {
   "cell_type": "code",
   "execution_count": 20,
   "metadata": {},
   "outputs": [],
   "source": [
    "def clean_name(name):\n",
    "    \"\"\"Normalize attribute names\"\"\"\n",
    "    name = re.sub(r'[^\\w\\s]', '', name)\n",
    "    name = re.sub(r'\\s+', ' ', name)\n",
    "    name = re.sub(r'\\b(de|del)\\s+', '', name, flags=re.IGNORECASE)\n",
    "    name = name.replace(' ', '_').lower().strip()\n",
    "    name = unicodedata.normalize('NFKD', name).encode('ascii', 'ignore').decode('utf-8')\n",
    "    return name\n",
    "\n",
    "\n",
    "# Flatten and consolidate attributes\n",
    "len_mask = df['attributes'].apply(lambda x: len(x)) > 0\n",
    "attributes_df = pd.json_normalize(df.loc[len_mask, 'attributes'])\n",
    "all_attributes = attributes_df.values.tolist()\n",
    "\n",
    "attributes = []\n",
    "for row in all_attributes:\n",
    "    for attribute in row:\n",
    "        if attribute:\n",
    "            attribute_name = clean_name(attribute['name'])\n",
    "            value = clean_name(attribute['value_name'])\n",
    "            attributes.append({'attribute': attribute_name, 'value': value})\n",
    "\n",
    "attributes_df = pd.DataFrame(attributes)\n",
    "common_attributes = (attributes_df['attribute'].value_counts() >= 100).index.tolist()"
   ]
  },
  {
   "cell_type": "code",
   "execution_count": 21,
   "metadata": {},
   "outputs": [],
   "source": [
    "def consolidate_attributes(attributes):\n",
    "    \"\"\"Consolidate attributes\"\"\"\n",
    "    new_attributes = {}\n",
    "    for attribute in attributes:\n",
    "        attribute_name = clean_name(attribute['name'])\n",
    "        value = clean_name(attribute['value_name'])\n",
    "        if (attribute_name in common_attributes) and ('pieza' not in attribute_name):\n",
    "            new_attributes[f'attr_{attribute_name}'] = value\n",
    "\n",
    "    return new_attributes\n",
    "\n",
    "\n",
    "# Consolidate attributes\n",
    "attributes_dict_df = df['attributes'].apply(consolidate_attributes).to_frame()\n",
    "attributes_normalized_df = pd.json_normalize(attributes_dict_df['attributes'])\n",
    "attributes_dict_df = pd.concat([df[['condition']], attributes_normalized_df], axis=1)\n",
    "attributes_dict_df.fillna('missing', inplace=True)"
   ]
  },
  {
   "cell_type": "markdown",
   "metadata": {},
   "source": [
    "The hypothesis is that what is informative is not the value of the attribute but if the\n",
    "item has that attribute or not. For example, the value of the attribute \"antigüedad\" is not\n",
    "informative, but if the item has the attribute \"antigüedad\" is informative for our task.\n",
    "\n",
    "To test this hypothesis we will use the gini impurity to see which attributes are more informative.\n"
   ]
  },
  {
   "cell_type": "code",
   "execution_count": 22,
   "metadata": {},
   "outputs": [],
   "source": [
    "def gini_impurity(value_counts):\n",
    "    n = value_counts.sum()\n",
    "    p_sum = 0\n",
    "    for key in value_counts.keys():\n",
    "        p_sum = p_sum + (value_counts[key] / n) * (value_counts[key] / n)\n",
    "    gini = 1 - p_sum\n",
    "    return gini\n",
    "\n",
    "\n",
    "# Calculate Gini Impurity for the class\n",
    "class_value_counts = attributes_dict_df[target_column].value_counts()\n",
    "gini_class = gini_impurity(class_value_counts)\n",
    "\n",
    "# Calculate Gini Impurity for each attribute\n",
    "gini_attiribute = {}\n",
    "for attribute_name in attributes_dict_df.columns[1:]:\n",
    "    # We remove the missing values to compute the gini of the attribute alone.\n",
    "    # Since most items have no attributes, the nulls bias the gini a lot.\n",
    "    attributes_dict_df_A = attributes_dict_df[['condition', attribute_name]].query(\n",
    "        f'{attribute_name} != \"missing\"'\n",
    "    )\n",
    "    attribute_values = attributes_dict_df_A[attribute_name].value_counts()\n",
    "    gini_A = 0\n",
    "    for key in attribute_values.keys():\n",
    "        key_mask = attributes_dict_df_A[attribute_name] == key\n",
    "        df_k = attributes_dict_df_A[target_column][key_mask].value_counts()\n",
    "        n_k = attribute_values[key]\n",
    "        n = attributes_dict_df_A.shape[0]\n",
    "        gini_k = gini_impurity(df_k)\n",
    "        gini_A += (n_k / n) * gini_k\n",
    "\n",
    "    gini_attiribute[attribute_name] = gini_A\n",
    "\n",
    "gini_df = pd.DataFrame.from_dict(gini_attiribute, orient='index', columns=['gini'])"
   ]
  },
  {
   "cell_type": "markdown",
   "metadata": {},
   "source": [
    "Let's plot the distribution of the gini impurity for each attribute\n"
   ]
  },
  {
   "cell_type": "code",
   "execution_count": 23,
   "metadata": {},
   "outputs": [
    {
     "name": "stdout",
     "output_type": "stream",
     "text": [
      "\n",
      "Gini Impurity of the class is 0.497\n"
     ]
    },
    {
     "data": {
      "image/png": "[encoded data removed]",
      "text/plain": [
       "<Figure size 1000x350 with 1 Axes>"
      ]
     },
     "metadata": {},
     "output_type": "display_data"
    }
   ],
   "source": [
    "print(f'\\nGini Impurity of the class is {gini_class:.3f}')\n",
    "\n",
    "plt.figure(figsize=(10, 3.5), dpi=100)\n",
    "sns.histplot(\n",
    "    gini_df.gini,\n",
    "    bins=50,\n",
    "    stat='count',\n",
    "    color='#fed906',\n",
    "    edgecolor=colors['lines'],\n",
    "    linewidth=0.6,\n",
    "    alpha=1,\n",
    ")\n",
    "plt.title('Gini Impurity of Attributes')\n",
    "plt.xlabel('')\n",
    "sns.despine(left=True)\n",
    "plt.show()"
   ]
  },
  {
   "cell_type": "markdown",
   "metadata": {},
   "source": [
    "Let's keep the attributes below 0.15 of gini impurity\n"
   ]
  },
  {
   "cell_type": "code",
   "execution_count": 24,
   "metadata": {},
   "outputs": [
    {
     "name": "stdout",
     "output_type": "stream",
     "text": [
      "Number of valid attributes: 98\n"
     ]
    }
   ],
   "source": [
    "valid_attributes = gini_df[gini_df['gini'] < 0.15].index.tolist()\n",
    "print(f'Number of valid attributes: {len(valid_attributes)}')"
   ]
  },
  {
   "cell_type": "markdown",
   "metadata": {},
   "source": [
    "Now let process the column in the main dataframe\n"
   ]
  },
  {
   "cell_type": "code",
   "execution_count": 25,
   "metadata": {},
   "outputs": [],
   "source": [
    "def consolidate_attributes(attributes):\n",
    "    \"\"\"Consolidate attributes\"\"\"\n",
    "    if not attributes:\n",
    "        return None\n",
    "    new_attributes = {}\n",
    "    for attribute in attributes:\n",
    "        attribute_name = 'attr_' + clean_name(attribute['name'])\n",
    "        value = clean_name(attribute['value_name'])\n",
    "        if attribute_name in valid_attributes:\n",
    "            new_attributes[f'{attribute_name}'] = value\n",
    "    return new_attributes\n",
    "\n",
    "\n",
    "# Consolidate attributes\n",
    "attributes_series = df['attributes'].apply(consolidate_attributes)\n",
    "attributes_normalized_df = pd.json_normalize(attributes_series)\n",
    "attributes_normalized_df['n_attributes'] = attributes_normalized_df.notna().sum(axis=1)\n",
    "\n",
    "# Join with original DataFrame\n",
    "df = pd.concat([df, attributes_normalized_df], axis=1)\n",
    "df.drop(columns=['attributes'], inplace=True)"
   ]
  },
  {
   "cell_type": "markdown",
   "metadata": {},
   "source": [
    "#### Tags\n",
    "\n",
    "Turn the tags into flag columns\n"
   ]
  },
  {
   "cell_type": "code",
   "execution_count": 26,
   "metadata": {},
   "outputs": [],
   "source": [
    "df['tags_str'] = df['tags'].apply(lambda x: ' / '.join(x))\n",
    "tags_dummies = df['tags_str'].str.get_dummies(sep=' / ')\n",
    "df = pd.concat([df, tags_dummies], axis=1)\n",
    "df.drop(columns=['tags', 'tags_str'], inplace=True)"
   ]
  },
  {
   "cell_type": "markdown",
   "metadata": {},
   "source": [
    "#### Coverage areas\n",
    "\n",
    "Drop this column since it is empty\n"
   ]
  },
  {
   "cell_type": "code",
   "execution_count": 27,
   "metadata": {},
   "outputs": [],
   "source": [
    "# coverage_areas\n",
    "# Drop this column since it is empty\n",
    "df.drop(columns=['coverage_areas'], inplace=True)"
   ]
  },
  {
   "cell_type": "markdown",
   "metadata": {},
   "source": [
    "#### Descriptions\n",
    "\n",
    "Drop descriptions since they are all unique\n"
   ]
  },
  {
   "cell_type": "code",
   "execution_count": 28,
   "metadata": {},
   "outputs": [
    {
     "name": "stdout",
     "output_type": "stream",
     "text": [
      "14553    [{'id': 'MLA9482296254-934430437'}]\n",
      "43599    [{'id': 'MLA1455107304-930290865'}]\n",
      "49736    [{'id': 'MLA2694705850-906364337'}]\n",
      "Name: descriptions, dtype: object\n"
     ]
    },
    {
     "data": {
      "text/html": [
       "<div>\n",
       "<style scoped>\n",
       "    .dataframe tbody tr th:only-of-type {\n",
       "        vertical-align: middle;\n",
       "    }\n",
       "\n",
       "    .dataframe tbody tr th {\n",
       "        vertical-align: top;\n",
       "    }\n",
       "\n",
       "    .dataframe thead th {\n",
       "        text-align: right;\n",
       "    }\n",
       "</style>\n",
       "<table border=\"1\" class=\"dataframe\">\n",
       "  <thead>\n",
       "    <tr style=\"text-align: right;\">\n",
       "      <th></th>\n",
       "      <th>descriptions</th>\n",
       "    </tr>\n",
       "    <tr>\n",
       "      <th>descriptions</th>\n",
       "      <th></th>\n",
       "    </tr>\n",
       "  </thead>\n",
       "  <tbody>\n",
       "    <tr>\n",
       "      <th>1</th>\n",
       "      <td>87583</td>\n",
       "    </tr>\n",
       "    <tr>\n",
       "      <th>0</th>\n",
       "      <td>2417</td>\n",
       "    </tr>\n",
       "  </tbody>\n",
       "</table>\n",
       "</div>"
      ],
      "text/plain": [
       "              descriptions\n",
       "descriptions              \n",
       "1                    87583\n",
       "0                     2417"
      ]
     },
     "execution_count": 28,
     "metadata": {},
     "output_type": "execute_result"
    }
   ],
   "source": [
    "print(df.descriptions.sample(3))\n",
    "df[['descriptions']].apply(lambda x: x.str.len().value_counts(dropna=False))"
   ]
  },
  {
   "cell_type": "code",
   "execution_count": 29,
   "metadata": {},
   "outputs": [],
   "source": [
    "df.drop(columns=['descriptions'], inplace=True)"
   ]
  },
  {
   "cell_type": "markdown",
   "metadata": {},
   "source": [
    "#### Pictures\n",
    "\n",
    "Only keep the number of pictures and the average resolution\n"
   ]
  },
  {
   "cell_type": "code",
   "execution_count": 30,
   "metadata": {},
   "outputs": [],
   "source": [
    "df['n_pictures'] = df['pictures'].apply(len)"
   ]
  },
  {
   "cell_type": "code",
   "execution_count": 31,
   "metadata": {},
   "outputs": [],
   "source": [
    "def get_pixels(size):\n",
    "    \"\"\"Get the number of pixels of a picture.\"\"\"\n",
    "    w, h = map(int, size.split('x'))\n",
    "    return w * h\n",
    "\n",
    "\n",
    "df['pixels_per_picture'] = df['pictures'].apply(\n",
    "    lambda x: np.median(\n",
    "        [get_pixels(picture['size']) for picture in x if picture['size']]\n",
    "    )\n",
    "    if x\n",
    "    else np.nan\n",
    ")"
   ]
  },
  {
   "cell_type": "code",
   "execution_count": 32,
   "metadata": {},
   "outputs": [
    {
     "data": {
      "image/png": "[encoded data removed]",
      "text/plain": [
       "<Figure size 800x400 with 2 Axes>"
      ]
     },
     "metadata": {},
     "output_type": "display_data"
    }
   ],
   "source": [
    "fig, axes = plt.subplots(nrows=1, ncols=2, figsize=(8, 4), dpi=100)\n",
    "\n",
    "std_params = {\n",
    "    'x': 'condition',\n",
    "    'data': df,\n",
    "    'fliersize': 0,\n",
    "    'linewidth': 0.6,\n",
    "    'linecolor': colors['lines'],\n",
    "    'legend': False,\n",
    "    'saturation': 1,\n",
    "}\n",
    "\n",
    "# Number of pictures plot\n",
    "sns.boxplot(y='n_pictures', ax=axes[0], **std_params)\n",
    "axes[0].set_title('Number of pictures by condition')\n",
    "axes[0].set_ylabel('Pictures')\n",
    "axes[0].set_ylim(None, 21)\n",
    "\n",
    "# Image size plot\n",
    "sns.boxplot(y='pixels_per_picture', color=palette[2], ax=axes[1], **std_params)\n",
    "axes[1].set_title('Pixels of pictures by condition')\n",
    "axes[1].set_ylabel('Pixels')\n",
    "axes[1].set_ylim(50_000, 280_000)\n",
    "axes[1].yaxis.set_major_formatter(FuncFormatter(lambda x, _: f'{x / 1_000:.0f}k'))\n",
    "\n",
    "# Common ax settings\n",
    "for ax in axes:\n",
    "    ax.set_xlabel('')\n",
    "    ax.set_xticks([0, 1])\n",
    "    ax.set_xticklabels(['Used', 'New'])\n",
    "    ax.spines[['left', 'bottom']].set_visible(False)\n",
    "\n",
    "plt.tight_layout(w_pad=5)\n",
    "plt.show()"
   ]
  },
  {
   "cell_type": "code",
   "execution_count": 33,
   "metadata": {},
   "outputs": [],
   "source": [
    "df.drop(columns=['pictures'], inplace=True)"
   ]
  },
  {
   "cell_type": "markdown",
   "metadata": {},
   "source": [
    "#### Shipping methods\n",
    "\n",
    "Drop this column since it is empty\n"
   ]
  },
  {
   "cell_type": "code",
   "execution_count": 34,
   "metadata": {},
   "outputs": [
    {
     "name": "stderr",
     "output_type": "stream",
     "text": [
      "/var/folders/4g/4bjx__p542l55rbxgzvj4tfh0000gn/T/ipykernel_14705/3097521624.py:1: FutureWarning: A value is trying to be set on a copy of a DataFrame or Series through chained assignment using an inplace method.\n",
      "The behavior will change in pandas 3.0. This inplace method will never work because the intermediate object on which we are setting values always behaves as a copy.\n",
      "\n",
      "For example, when doing 'df[col].method(value, inplace=True)', try using 'df.method({col: value}, inplace=True)' or df[col] = df[col].method(value) instead, to perform the operation inplace on the original object.\n",
      "\n",
      "\n",
      "  df.shipping_methods.fillna('', inplace=True)\n"
     ]
    },
    {
     "data": {
      "text/plain": [
       "shipping_methods\n",
       "0    90000\n",
       "Name: count, dtype: int64"
      ]
     },
     "execution_count": 34,
     "metadata": {},
     "output_type": "execute_result"
    }
   ],
   "source": [
    "df.shipping_methods.fillna('', inplace=True)\n",
    "df.shipping_methods.apply(lambda x: len(x) if x else 0).value_counts()"
   ]
  },
  {
   "cell_type": "code",
   "execution_count": 35,
   "metadata": {},
   "outputs": [],
   "source": [
    "df.drop(columns=['shipping_methods'], inplace=True)"
   ]
  },
  {
   "cell_type": "markdown",
   "metadata": {},
   "source": [
    "#### Shipping tags\n",
    "\n",
    "Drop this since it is empty almost all the time\n"
   ]
  },
  {
   "cell_type": "code",
   "execution_count": 36,
   "metadata": {},
   "outputs": [
    {
     "data": {
      "text/plain": [
       "shipping_tags\n",
       "[]                               89941\n",
       "[relisted_with_modifications]       50\n",
       "[free_method_upgraded]               9\n",
       "Name: count, dtype: int64"
      ]
     },
     "execution_count": 36,
     "metadata": {},
     "output_type": "execute_result"
    }
   ],
   "source": [
    "df.shipping_tags.value_counts()"
   ]
  },
  {
   "cell_type": "code",
   "execution_count": 37,
   "metadata": {},
   "outputs": [],
   "source": [
    "df.drop(columns=['shipping_tags'], inplace=True)"
   ]
  },
  {
   "cell_type": "markdown",
   "metadata": {},
   "source": [
    "#### Shipping free methods\n",
    "\n",
    "Let's turn it into a flag\n"
   ]
  },
  {
   "cell_type": "code",
   "execution_count": 38,
   "metadata": {},
   "outputs": [
    {
     "data": {
      "text/plain": [
       "shipping_free_methods\n",
       "NaN                                                                                                                                 87311\n",
       "[{'rule': {'value': None, 'free_mode': 'country'}, 'id': 73328}]                                                                     2641\n",
       "[{'rule': {'value': None, 'free_mode': 'country'}, 'id': 73330}]                                                                       37\n",
       "[{'rule': {'value': None, 'free_mode': 'country'}, 'id': 501145}]                                                                       6\n",
       "[{'rule': {'value': None, 'free_mode': 'country'}, 'id': 501146}]                                                                       4\n",
       "[{'rule': {'value': None, 'free_mode': 'country'}, 'id': 73328}, {'rule': {'value': None, 'free_mode': 'country'}, 'id': 73330}]        1\n",
       "Name: count, dtype: int64"
      ]
     },
     "execution_count": 38,
     "metadata": {},
     "output_type": "execute_result"
    }
   ],
   "source": [
    "df.shipping_free_methods.value_counts(dropna=False)"
   ]
  },
  {
   "cell_type": "code",
   "execution_count": 39,
   "metadata": {},
   "outputs": [],
   "source": [
    "df['has_free_shipping'] = df.shipping_free_methods.apply(\n",
    "    lambda x: 1 if isinstance(x, list) else 0\n",
    ")\n",
    "\n",
    "df.drop(['shipping_free_methods'], axis=1, inplace=True)"
   ]
  },
  {
   "cell_type": "markdown",
   "metadata": {},
   "source": [
    "#### Check for lists and dict columns remaining\n"
   ]
  },
  {
   "cell_type": "code",
   "execution_count": 40,
   "metadata": {},
   "outputs": [],
   "source": [
    "all_columns = df.columns.tolist()\n",
    "attr_columns = [col for col in all_columns if 'attr' in col]\n",
    "non_attr_columns = [col for col in all_columns if col not in attr_columns]"
   ]
  },
  {
   "cell_type": "code",
   "execution_count": 41,
   "metadata": {},
   "outputs": [
    {
     "name": "stdout",
     "output_type": "stream",
     "text": [
      "warranty: <class 'NoneType'>\n",
      "sub_status: <class 'float'>\n",
      "site_id: <class 'str'>\n",
      "listing_type_id: <class 'str'>\n",
      "buying_mode: <class 'str'>\n",
      "listing_source: <class 'str'>\n",
      "parent_item_id: <class 'str'>\n",
      "category_id: <class 'str'>\n",
      "last_updated: <class 'str'>\n",
      "international_delivery_mode: <class 'str'>\n",
      "id: <class 'str'>\n",
      "differential_pricing: <class 'NoneType'>\n",
      "currency_id: <class 'str'>\n",
      "thumbnail: <class 'str'>\n",
      "title: <class 'str'>\n",
      "date_created: <class 'str'>\n",
      "secure_thumbnail: <class 'str'>\n",
      "status: <class 'str'>\n",
      "video_id: <class 'NoneType'>\n",
      "subtitle: <class 'NoneType'>\n",
      "permalink: <class 'str'>\n",
      "country: <class 'str'>\n",
      "state: <class 'str'>\n",
      "city: <class 'str'>\n",
      "shipping_mode: <class 'str'>\n",
      "dimensions: <class 'NoneType'>\n"
     ]
    }
   ],
   "source": [
    "object_columns = df[non_attr_columns].select_dtypes(include='object').columns.tolist()\n",
    "dtypes = {}\n",
    "for col in object_columns:\n",
    "    dtypes[col] = type(df[col].iloc[0])\n",
    "\n",
    "for k, v in dtypes.items():\n",
    "    print(f'{k}: {v}')"
   ]
  },
  {
   "cell_type": "markdown",
   "metadata": {},
   "source": [
    "Ok, let's keep this one since not accepting Mercado Pago is a little bit more common in used items.\n"
   ]
  },
  {
   "cell_type": "markdown",
   "metadata": {},
   "source": [
    "### Categorical columns\n"
   ]
  },
  {
   "cell_type": "markdown",
   "metadata": {},
   "source": [
    "#### Droppable columns\n"
   ]
  },
  {
   "cell_type": "code",
   "execution_count": 42,
   "metadata": {},
   "outputs": [],
   "source": [
    "def describe_cat_col(df, col: str):\n",
    "    \"\"\"Prints the distribution of a categorical column.\"\"\"\n",
    "    print(f'COLUMN: {col}')\n",
    "\n",
    "    # Eval nulls\n",
    "    size = len(df)\n",
    "    n_nulls = df[col].isnull().sum()\n",
    "    print(f'-> Nulls: {n_nulls} ({n_nulls / size:.1%})')\n",
    "\n",
    "    # Eval unique values\n",
    "    n_unique = df[col].nunique()\n",
    "    print(f'-> Unique values: {n_unique}')\n",
    "    if n_unique < 10:\n",
    "        print(df[col].value_counts())\n",
    "    else:\n",
    "        print(df[col].value_counts().head(5))\n",
    "        print('  ...')\n",
    "\n",
    "    return n_nulls, n_unique"
   ]
  },
  {
   "cell_type": "code",
   "execution_count": 43,
   "metadata": {},
   "outputs": [],
   "source": [
    "cat_cols = [\n",
    "    col\n",
    "    for col in df.select_dtypes(include='object').columns.tolist()\n",
    "    if 'attr' not in col\n",
    "]"
   ]
  },
  {
   "cell_type": "code",
   "execution_count": 44,
   "metadata": {},
   "outputs": [
    {
     "data": {
      "text/plain": [
       "['warranty',\n",
       " 'sub_status',\n",
       " 'site_id',\n",
       " 'listing_type_id',\n",
       " 'buying_mode',\n",
       " 'listing_source',\n",
       " 'parent_item_id',\n",
       " 'category_id',\n",
       " 'last_updated',\n",
       " 'international_delivery_mode',\n",
       " 'id',\n",
       " 'differential_pricing',\n",
       " 'currency_id',\n",
       " 'thumbnail',\n",
       " 'title',\n",
       " 'date_created',\n",
       " 'secure_thumbnail',\n",
       " 'status',\n",
       " 'video_id',\n",
       " 'subtitle',\n",
       " 'permalink',\n",
       " 'country',\n",
       " 'state',\n",
       " 'city',\n",
       " 'shipping_mode',\n",
       " 'dimensions']"
      ]
     },
     "execution_count": 44,
     "metadata": {},
     "output_type": "execute_result"
    }
   ],
   "source": [
    "cat_cols"
   ]
  },
  {
   "cell_type": "code",
   "execution_count": 45,
   "metadata": {},
   "outputs": [
    {
     "name": "stdout",
     "output_type": "stream",
     "text": [
      "COLUMN: warranty\n",
      "-> Nulls: 54757 (60.8%)\n",
      "-> Unique values: 9536\n",
      "warranty\n",
      "Sí              5107\n",
      "Sin garantía    4907\n",
      "SI               545\n",
      "6 meses          489\n",
      "6 MESES          361\n",
      "Name: count, dtype: int64\n",
      "  ...\n",
      "✅ Ok to keep\n",
      "--------------------------------------------------------------------------------\n",
      "COLUMN: sub_status\n",
      "-> Nulls: 89109 (99.0%)\n",
      "-> Unique values: 3\n",
      "sub_status\n",
      "suspended    871\n",
      "expired       13\n",
      "deleted        7\n",
      "Name: count, dtype: int64\n",
      "❌ Drop it\n",
      "--------------------------------------------------------------------------------\n",
      "COLUMN: site_id\n",
      "-> Nulls: 0 (0.0%)\n",
      "-> Unique values: 1\n",
      "site_id\n",
      "MLA    90000\n",
      "Name: count, dtype: int64\n",
      "❌ Drop it\n",
      "--------------------------------------------------------------------------------\n",
      "COLUMN: listing_type_id\n",
      "-> Nulls: 0 (0.0%)\n",
      "-> Unique values: 7\n",
      "listing_type_id\n",
      "bronze          56904\n",
      "free            19260\n",
      "silver           8195\n",
      "gold_special     2693\n",
      "gold             2170\n",
      "gold_premium      765\n",
      "gold_pro           13\n",
      "Name: count, dtype: int64\n",
      "✅ Ok to keep\n",
      "--------------------------------------------------------------------------------\n",
      "COLUMN: buying_mode\n",
      "-> Nulls: 0 (0.0%)\n",
      "-> Unique values: 3\n",
      "buying_mode\n",
      "buy_it_now    87311\n",
      "classified     1982\n",
      "auction         707\n",
      "Name: count, dtype: int64\n",
      "✅ Ok to keep\n",
      "--------------------------------------------------------------------------------\n",
      "COLUMN: listing_source\n",
      "-> Nulls: 0 (0.0%)\n",
      "-> Unique values: 1\n",
      "listing_source\n",
      "    90000\n",
      "Name: count, dtype: int64\n",
      "❌ Drop it\n",
      "--------------------------------------------------------------------------------\n",
      "COLUMN: parent_item_id\n",
      "-> Nulls: 20690 (23.0%)\n",
      "-> Unique values: 69310\n",
      "parent_item_id\n",
      "MLA3661010119    1\n",
      "MLA6553902747    1\n",
      "MLA7727150374    1\n",
      "MLA6561247998    1\n",
      "MLA3133256685    1\n",
      "Name: count, dtype: int64\n",
      "  ...\n",
      "❌ Drop it\n",
      "--------------------------------------------------------------------------------\n",
      "COLUMN: category_id\n",
      "-> Nulls: 0 (0.0%)\n",
      "-> Unique values: 10491\n",
      "category_id\n",
      "MLA1227     4139\n",
      "MLA2044     1759\n",
      "MLA41287     829\n",
      "MLA3530      685\n",
      "MLA2038      601\n",
      "Name: count, dtype: int64\n",
      "  ...\n",
      "✅ Ok to keep\n",
      "--------------------------------------------------------------------------------\n",
      "COLUMN: last_updated\n",
      "-> Nulls: 0 (0.0%)\n",
      "-> Unique values: 86015\n",
      "last_updated\n",
      "2015-09-18T13:21:35.000Z    6\n",
      "2015-09-30T12:20:39.000Z    6\n",
      "2015-09-18T13:21:40.000Z    6\n",
      "2015-09-18T13:20:41.000Z    6\n",
      "2015-09-16T20:59:03.000Z    5\n",
      "Name: count, dtype: int64\n",
      "  ...\n",
      "❌ Drop it\n",
      "--------------------------------------------------------------------------------\n",
      "COLUMN: international_delivery_mode\n",
      "-> Nulls: 0 (0.0%)\n",
      "-> Unique values: 1\n",
      "international_delivery_mode\n",
      "none    90000\n",
      "Name: count, dtype: int64\n",
      "❌ Drop it\n",
      "--------------------------------------------------------------------------------\n",
      "COLUMN: id\n",
      "-> Nulls: 0 (0.0%)\n",
      "-> Unique values: 90000\n",
      "id\n",
      "MLA8241142190    1\n",
      "MLA4695330653    1\n",
      "MLA7160447179    1\n",
      "MLA7367189936    1\n",
      "MLA9191625553    1\n",
      "Name: count, dtype: int64\n",
      "  ...\n",
      "❌ Drop it\n",
      "--------------------------------------------------------------------------------\n",
      "COLUMN: differential_pricing\n",
      "-> Nulls: 90000 (100.0%)\n",
      "-> Unique values: 0\n",
      "Series([], Name: count, dtype: int64)\n",
      "❌ Drop it\n",
      "--------------------------------------------------------------------------------\n",
      "COLUMN: currency_id\n",
      "-> Nulls: 0 (0.0%)\n",
      "-> Unique values: 2\n",
      "currency_id\n",
      "ARS    89496\n",
      "USD      504\n",
      "Name: count, dtype: int64\n",
      "✅ Ok to keep\n",
      "--------------------------------------------------------------------------------\n",
      "COLUMN: thumbnail\n",
      "-> Nulls: 0 (0.0%)\n",
      "-> Unique values: 89260\n",
      "thumbnail\n",
      "                                                                          703\n",
      "http://www.mercadolibre.com/jm/img?s=STC&v=I&f=proccesing_image_es.jpg     35\n",
      "http://mla-s1-p.mlstatic.com/6279-MLApp_27_21489919_1-I.jpg                 4\n",
      "http://mla-s1-p.mlstatic.com/6270-MLApp_27_19602074_1-I.jpg                 2\n",
      "http://mla-s1-p.mlstatic.com/797901-MLA6054779321_092015-I.jpg              1\n",
      "Name: count, dtype: int64\n",
      "  ...\n",
      "❌ Drop it\n",
      "--------------------------------------------------------------------------------\n",
      "COLUMN: title\n",
      "-> Nulls: 0 (0.0%)\n",
      "-> Unique values: 89008\n",
      "title\n",
      "50 Suspensores Para Short De Baño Tela Calada           66\n",
      "50 Suspensores Para Short De Baño Nido De Abeja         45\n",
      "Confeccion Short De Baño Bermudas Hombre Y Niño         32\n",
      "50 Suspensores Para Short De Baño Tela Nido De Abeja    30\n",
      "Camisas Corte Y Confeccion Producto Terminado           30\n",
      "Name: count, dtype: int64\n",
      "  ...\n",
      "--------------------------------------------------------------------------------\n",
      "COLUMN: date_created\n",
      "-> Nulls: 0 (0.0%)\n",
      "-> Unique values: 79247\n",
      "date_created\n",
      "2015-09-17T18:26:59.000Z    7\n",
      "2015-10-12T22:37:43.000Z    7\n",
      "2015-09-15T12:02:24.000Z    7\n",
      "2015-09-28T14:10:39.000Z    7\n",
      "2015-09-03T20:22:05.000Z    7\n",
      "Name: count, dtype: int64\n",
      "  ...\n",
      "❌ Drop it\n",
      "--------------------------------------------------------------------------------\n",
      "COLUMN: secure_thumbnail\n",
      "-> Nulls: 0 (0.0%)\n",
      "-> Unique values: 89260\n",
      "secure_thumbnail\n",
      "                                                                                     703\n",
      "https://www.mercadolibre.com/jm/img?s=STC&v=I&f=proccesing_image_es.jpg               35\n",
      "https://a248.e.akamai.net/mla-s1-p.mlstatic.com/6279-MLApp_27_21489919_1-I.jpg         4\n",
      "https://a248.e.akamai.net/mla-s1-p.mlstatic.com/6270-MLApp_27_19602074_1-I.jpg         2\n",
      "https://a248.e.akamai.net/mla-s1-p.mlstatic.com/797901-MLA6054779321_092015-I.jpg      1\n",
      "Name: count, dtype: int64\n",
      "  ...\n",
      "❌ Drop it\n",
      "--------------------------------------------------------------------------------\n",
      "COLUMN: status\n",
      "-> Nulls: 0 (0.0%)\n",
      "-> Unique values: 4\n",
      "status\n",
      "active            86116\n",
      "paused             3863\n",
      "closed               20\n",
      "not_yet_active        1\n",
      "Name: count, dtype: int64\n",
      "✅ Ok to keep\n",
      "--------------------------------------------------------------------------------\n",
      "COLUMN: video_id\n",
      "-> Nulls: 87324 (97.0%)\n",
      "-> Unique values: 1886\n",
      "video_id\n",
      "QQNfOicE_o8    278\n",
      "EVCQuwl7RIE     82\n",
      "mYNRC5Ia1sk     35\n",
      "6JhmxwtTjoA     25\n",
      "U7okRYLuBNo     25\n",
      "Name: count, dtype: int64\n",
      "  ...\n",
      "❌ Drop it\n",
      "--------------------------------------------------------------------------------\n",
      "COLUMN: subtitle\n",
      "-> Nulls: 90000 (100.0%)\n",
      "-> Unique values: 0\n",
      "Series([], Name: count, dtype: int64)\n",
      "❌ Drop it\n",
      "--------------------------------------------------------------------------------\n",
      "COLUMN: permalink\n",
      "-> Nulls: 0 (0.0%)\n",
      "-> Unique values: 90000\n",
      "permalink\n",
      "http://articulo.mercadolibre.com.ar/MLA8241142190-campera-de-mujer-tucci-reversible-_JM                               1\n",
      "http://articulo.mercadolibre.com.ar/MLA4695330653-auriculares-samsung-originales-manos-libres-cable-usb-oferta-_JM    1\n",
      "http://articulo.mercadolibre.com.ar/MLA7160447179-cuchillo-daga-acero-carbon-casco-yelmo-solingen-con-vaina-_JM       1\n",
      "http://articulo.mercadolibre.com.ar/MLA7367189936-antigua-revista-billiken-n-1826-ano-1954-_JM                        1\n",
      "http://articulo.mercadolibre.com.ar/MLA9191625553-alarma-guardtex-gx412-seguridad-para-el-automotor-_JM               1\n",
      "Name: count, dtype: int64\n",
      "  ...\n",
      "❌ Drop it\n",
      "--------------------------------------------------------------------------------\n",
      "COLUMN: country\n",
      "-> Nulls: 0 (0.0%)\n",
      "-> Unique values: 2\n",
      "country\n",
      "Argentina    89999\n",
      "                 1\n",
      "Name: count, dtype: int64\n",
      "✅ Ok to keep\n",
      "--------------------------------------------------------------------------------\n",
      "COLUMN: state\n",
      "-> Nulls: 0 (0.0%)\n",
      "-> Unique values: 25\n",
      "state\n",
      "Capital Federal    52143\n",
      "Buenos Aires       31482\n",
      "Santa Fe            2398\n",
      "Córdoba             1727\n",
      "Mendoza              400\n",
      "Name: count, dtype: int64\n",
      "  ...\n",
      "✅ Ok to keep\n",
      "--------------------------------------------------------------------------------\n",
      "COLUMN: city\n",
      "-> Nulls: 0 (0.0%)\n",
      "-> Unique values: 3480\n",
      "city\n",
      "CABA               3708\n",
      "Buenos Aires       3104\n",
      "Capital Federal    3053\n",
      "Palermo            2995\n",
      "Caballito          2675\n",
      "Name: count, dtype: int64\n",
      "  ...\n",
      "✅ Ok to keep\n",
      "--------------------------------------------------------------------------------\n",
      "COLUMN: shipping_mode\n",
      "-> Nulls: 0 (0.0%)\n",
      "-> Unique values: 4\n",
      "shipping_mode\n",
      "me2              46059\n",
      "not_specified    40725\n",
      "custom            3130\n",
      "me1                 86\n",
      "Name: count, dtype: int64\n",
      "✅ Ok to keep\n",
      "--------------------------------------------------------------------------------\n",
      "COLUMN: dimensions\n",
      "-> Nulls: 89978 (100.0%)\n",
      "-> Unique values: 13\n",
      "dimensions\n",
      "33x20x12,300     4\n",
      "30x30x30,650     3\n",
      "33x20x12,400     2\n",
      "33x20x12,1000    2\n",
      "33x20x12,80      2\n",
      "Name: count, dtype: int64\n",
      "  ...\n",
      "❌ Drop it\n",
      "--------------------------------------------------------------------------------\n"
     ]
    }
   ],
   "source": [
    "df_size = len(df)\n",
    "drop_cols = []\n",
    "for col in cat_cols:\n",
    "    # Take a glance at the column\n",
    "    n_nulls, n_unique = describe_cat_col(df, col)\n",
    "\n",
    "    # Eval if column should be dropped\n",
    "    too_many_nulls = n_nulls / df_size > 0.9\n",
    "    too_many_unique = n_unique > (df_size * 0.5)\n",
    "    all_the_same = n_unique == 1\n",
    "    if too_many_nulls or too_many_unique or all_the_same:\n",
    "        if col not in ('title'):\n",
    "            drop_cols.append(col)\n",
    "            print('❌ Drop it')\n",
    "    else:\n",
    "        print('✅ Ok to keep')\n",
    "\n",
    "    print('-' * 80)"
   ]
  },
  {
   "cell_type": "markdown",
   "metadata": {},
   "source": [
    "- The status of the item can be dropped since we can expect to use the model to predict new items that are active at the beggining.\n",
    "\n",
    "- We cannot drop the title since it contains valuable information for the model.\n"
   ]
  },
  {
   "cell_type": "code",
   "execution_count": 46,
   "metadata": {},
   "outputs": [],
   "source": [
    "drop_cols.append('status')"
   ]
  },
  {
   "cell_type": "code",
   "execution_count": 47,
   "metadata": {},
   "outputs": [
    {
     "name": "stdout",
     "output_type": "stream",
     "text": [
      "Columns to keep: ['warranty', 'listing_type_id', 'buying_mode', 'category_id', 'currency_id', 'title', 'country', 'state', 'city', 'shipping_mode']\n",
      "Columns to drop: ['sub_status', 'site_id', 'listing_source', 'parent_item_id', 'last_updated', 'international_delivery_mode', 'id', 'differential_pricing', 'thumbnail', 'date_created', 'secure_thumbnail', 'video_id', 'subtitle', 'permalink', 'dimensions', 'status']\n"
     ]
    }
   ],
   "source": [
    "print('Columns to keep:', [col for col in cat_cols if col not in drop_cols])\n",
    "print('Columns to drop:', drop_cols)"
   ]
  },
  {
   "cell_type": "code",
   "execution_count": 48,
   "metadata": {},
   "outputs": [],
   "source": [
    "df.drop(drop_cols, axis=1, inplace=True)"
   ]
  },
  {
   "cell_type": "code",
   "execution_count": null,
   "metadata": {},
   "outputs": [],
   "source": []
  },
  {
   "cell_type": "code",
   "execution_count": 49,
   "metadata": {},
   "outputs": [
    {
     "data": {
      "text/plain": [
       "['warranty',\n",
       " 'listing_type_id',\n",
       " 'buying_mode',\n",
       " 'category_id',\n",
       " 'currency_id',\n",
       " 'title',\n",
       " 'country',\n",
       " 'state',\n",
       " 'city',\n",
       " 'shipping_mode']"
      ]
     },
     "execution_count": 49,
     "metadata": {},
     "output_type": "execute_result"
    }
   ],
   "source": [
    "[\n",
    "    'warranty',\n",
    "    'listing_type_id',\n",
    "    'buying_mode',\n",
    "    'category_id',\n",
    "    'currency_id',\n",
    "    'title',\n",
    "    'country',\n",
    "    'state',\n",
    "    'city',\n",
    "    'shipping_mode',\n",
    "]"
   ]
  },
  {
   "cell_type": "markdown",
   "metadata": {},
   "source": [
    "#### Warranty\n"
   ]
  },
  {
   "cell_type": "code",
   "execution_count": 50,
   "metadata": {},
   "outputs": [],
   "source": [
    "def normalize_text(text, stops=None):\n",
    "    \"\"\"\n",
    "    Normalize text by converting to lowercase, removing accents, punctuation,\n",
    "    special characters, extra whitespace, and stopwords.\n",
    "    \"\"\"\n",
    "    if pd.isna(text):\n",
    "        return None\n",
    "\n",
    "    # Convert to lowercase\n",
    "    text = text.lower()\n",
    "    # Remove accents\n",
    "    text = unicodedata.normalize('NFKD', text)\n",
    "    # Remove punctuation and special characters\n",
    "    # text = re.sub(r'[^\\w\\s]|\\d', '', text)\n",
    "    text = re.sub(r'[^\\w\\s]', '', text)\n",
    "    # Remove extra whitespace\n",
    "    text = re.sub(r'\\s+', ' ', text).strip()\n",
    "    # Remove stopwords\n",
    "    if stops:\n",
    "        text = ' '.join([word for word in text.split() if word not in stops])\n",
    "    return text"
   ]
  },
  {
   "cell_type": "code",
   "execution_count": 51,
   "metadata": {},
   "outputs": [],
   "source": [
    "df['warranty_norm'] = df.warranty.apply(normalize_text)"
   ]
  },
  {
   "cell_type": "code",
   "execution_count": 52,
   "metadata": {},
   "outputs": [
    {
     "data": {
      "text/plain": [
       "array(['productos artesanales',\n",
       "       'los libros son revisados antes de su publicacion por lo que estan en el estado que se indica',\n",
       "       'si el producto no respeta las condiciones de venta se devolvera el importe abonado',\n",
       "       'idraet', '6 meses de garantia del fabricante'], dtype=object)"
      ]
     },
     "execution_count": 52,
     "metadata": {},
     "output_type": "execute_result"
    }
   ],
   "source": [
    "np.random.choice(df.warranty_norm.unique(), 5)"
   ]
  },
  {
   "cell_type": "markdown",
   "metadata": {},
   "source": [
    "Given the fact the users just input natural text into this field, it's too noisy to be useful for now.\n"
   ]
  },
  {
   "cell_type": "code",
   "execution_count": 53,
   "metadata": {},
   "outputs": [],
   "source": [
    "df.drop(['warranty', 'warranty_norm'], axis=1, inplace=True)"
   ]
  },
  {
   "cell_type": "markdown",
   "metadata": {},
   "source": [
    "#### Country, State, City\n"
   ]
  },
  {
   "cell_type": "code",
   "execution_count": 54,
   "metadata": {},
   "outputs": [
    {
     "data": {
      "text/html": [
       "<div>\n",
       "<style scoped>\n",
       "    .dataframe tbody tr th:only-of-type {\n",
       "        vertical-align: middle;\n",
       "    }\n",
       "\n",
       "    .dataframe tbody tr th {\n",
       "        vertical-align: top;\n",
       "    }\n",
       "\n",
       "    .dataframe thead th {\n",
       "        text-align: right;\n",
       "    }\n",
       "</style>\n",
       "<table border=\"1\" class=\"dataframe\">\n",
       "  <thead>\n",
       "    <tr style=\"text-align: right;\">\n",
       "      <th></th>\n",
       "      <th></th>\n",
       "      <th></th>\n",
       "      <th>0</th>\n",
       "    </tr>\n",
       "    <tr>\n",
       "      <th>country</th>\n",
       "      <th>state</th>\n",
       "      <th>city</th>\n",
       "      <th></th>\n",
       "    </tr>\n",
       "  </thead>\n",
       "  <tbody>\n",
       "    <tr>\n",
       "      <th rowspan=\"50\" valign=\"top\">Argentina</th>\n",
       "      <th rowspan=\"8\" valign=\"top\">Capital Federal</th>\n",
       "      <th>CABA</th>\n",
       "      <td>3693</td>\n",
       "    </tr>\n",
       "    <tr>\n",
       "      <th>Palermo</th>\n",
       "      <td>2993</td>\n",
       "    </tr>\n",
       "    <tr>\n",
       "      <th>Capital Federal</th>\n",
       "      <td>2990</td>\n",
       "    </tr>\n",
       "    <tr>\n",
       "      <th>Buenos Aires</th>\n",
       "      <td>2846</td>\n",
       "    </tr>\n",
       "    <tr>\n",
       "      <th>Caballito</th>\n",
       "      <td>2671</td>\n",
       "    </tr>\n",
       "    <tr>\n",
       "      <th>Belgrano</th>\n",
       "      <td>2098</td>\n",
       "    </tr>\n",
       "    <tr>\n",
       "      <th>buenos aires</th>\n",
       "      <td>1632</td>\n",
       "    </tr>\n",
       "    <tr>\n",
       "      <th>capital federal</th>\n",
       "      <td>1596</td>\n",
       "    </tr>\n",
       "    <tr>\n",
       "      <th>Santa Fe</th>\n",
       "      <th>Rosario</th>\n",
       "      <td>1537</td>\n",
       "    </tr>\n",
       "    <tr>\n",
       "      <th rowspan=\"6\" valign=\"top\">Capital Federal</th>\n",
       "      <th>Flores</th>\n",
       "      <td>1447</td>\n",
       "    </tr>\n",
       "    <tr>\n",
       "      <th>Villa Crespo</th>\n",
       "      <td>1417</td>\n",
       "    </tr>\n",
       "    <tr>\n",
       "      <th>Mataderos</th>\n",
       "      <td>1400</td>\n",
       "    </tr>\n",
       "    <tr>\n",
       "      <th>Almagro</th>\n",
       "      <td>1100</td>\n",
       "    </tr>\n",
       "    <tr>\n",
       "      <th>caba</th>\n",
       "      <td>1053</td>\n",
       "    </tr>\n",
       "    <tr>\n",
       "      <th>Balvanera</th>\n",
       "      <td>1050</td>\n",
       "    </tr>\n",
       "    <tr>\n",
       "      <th rowspan=\"4\" valign=\"top\">Buenos Aires</th>\n",
       "      <th>Avellaneda</th>\n",
       "      <td>1009</td>\n",
       "    </tr>\n",
       "    <tr>\n",
       "      <th>La Plata</th>\n",
       "      <td>881</td>\n",
       "    </tr>\n",
       "    <tr>\n",
       "      <th>San Isidro</th>\n",
       "      <td>881</td>\n",
       "    </tr>\n",
       "    <tr>\n",
       "      <th>Mar del Plata</th>\n",
       "      <td>881</td>\n",
       "    </tr>\n",
       "    <tr>\n",
       "      <th rowspan=\"2\" valign=\"top\">Capital Federal</th>\n",
       "      <th>CAPITAL FEDERAL</th>\n",
       "      <td>860</td>\n",
       "    </tr>\n",
       "    <tr>\n",
       "      <th>Recoleta</th>\n",
       "      <td>841</td>\n",
       "    </tr>\n",
       "    <tr>\n",
       "      <th rowspan=\"3\" valign=\"top\">Buenos Aires</th>\n",
       "      <th>Quilmes</th>\n",
       "      <td>783</td>\n",
       "    </tr>\n",
       "    <tr>\n",
       "      <th>Lanús</th>\n",
       "      <td>783</td>\n",
       "    </tr>\n",
       "    <tr>\n",
       "      <th>General San Martín</th>\n",
       "      <td>772</td>\n",
       "    </tr>\n",
       "    <tr>\n",
       "      <th rowspan=\"2\" valign=\"top\">Capital Federal</th>\n",
       "      <th>Floresta</th>\n",
       "      <td>744</td>\n",
       "    </tr>\n",
       "    <tr>\n",
       "      <th>Villa Urquiza</th>\n",
       "      <td>723</td>\n",
       "    </tr>\n",
       "    <tr>\n",
       "      <th>Buenos Aires</th>\n",
       "      <th>Lomas de Zamora</th>\n",
       "      <td>699</td>\n",
       "    </tr>\n",
       "    <tr>\n",
       "      <th rowspan=\"4\" valign=\"top\">Capital Federal</th>\n",
       "      <th>BUENOS AIRES</th>\n",
       "      <td>607</td>\n",
       "    </tr>\n",
       "    <tr>\n",
       "      <th>San Telmo</th>\n",
       "      <td>606</td>\n",
       "    </tr>\n",
       "    <tr>\n",
       "      <th>Boedo</th>\n",
       "      <td>598</td>\n",
       "    </tr>\n",
       "    <tr>\n",
       "      <th>Villa Devoto</th>\n",
       "      <td>583</td>\n",
       "    </tr>\n",
       "    <tr>\n",
       "      <th>Córdoba</th>\n",
       "      <th>Córdoba</th>\n",
       "      <td>565</td>\n",
       "    </tr>\n",
       "    <tr>\n",
       "      <th rowspan=\"2\" valign=\"top\">Capital Federal</th>\n",
       "      <th>Congreso</th>\n",
       "      <td>557</td>\n",
       "    </tr>\n",
       "    <tr>\n",
       "      <th>Caba</th>\n",
       "      <td>536</td>\n",
       "    </tr>\n",
       "    <tr>\n",
       "      <th>Buenos Aires</th>\n",
       "      <th>Morón</th>\n",
       "      <td>499</td>\n",
       "    </tr>\n",
       "    <tr>\n",
       "      <th>Capital Federal</th>\n",
       "      <th>Villa del Parque</th>\n",
       "      <td>488</td>\n",
       "    </tr>\n",
       "    <tr>\n",
       "      <th>Buenos Aires</th>\n",
       "      <th>Bragado</th>\n",
       "      <td>448</td>\n",
       "    </tr>\n",
       "    <tr>\n",
       "      <th>Capital Federal</th>\n",
       "      <th>Monserrat</th>\n",
       "      <td>444</td>\n",
       "    </tr>\n",
       "    <tr>\n",
       "      <th>Buenos Aires</th>\n",
       "      <th>Ituzaingó</th>\n",
       "      <td>440</td>\n",
       "    </tr>\n",
       "    <tr>\n",
       "      <th>Capital Federal</th>\n",
       "      <th>Paternal</th>\n",
       "      <td>435</td>\n",
       "    </tr>\n",
       "    <tr>\n",
       "      <th rowspan=\"2\" valign=\"top\">Buenos Aires</th>\n",
       "      <th>Vicente López</th>\n",
       "      <td>430</td>\n",
       "    </tr>\n",
       "    <tr>\n",
       "      <th>Caseros</th>\n",
       "      <td>430</td>\n",
       "    </tr>\n",
       "    <tr>\n",
       "      <th rowspan=\"3\" valign=\"top\">Capital Federal</th>\n",
       "      <th>Microcentro</th>\n",
       "      <td>423</td>\n",
       "    </tr>\n",
       "    <tr>\n",
       "      <th>Barracas</th>\n",
       "      <td>408</td>\n",
       "    </tr>\n",
       "    <tr>\n",
       "      <th>C.A.B.A.</th>\n",
       "      <td>397</td>\n",
       "    </tr>\n",
       "    <tr>\n",
       "      <th rowspan=\"4\" valign=\"top\">Buenos Aires</th>\n",
       "      <th>Pilar</th>\n",
       "      <td>367</td>\n",
       "    </tr>\n",
       "    <tr>\n",
       "      <th>Tigre</th>\n",
       "      <td>348</td>\n",
       "    </tr>\n",
       "    <tr>\n",
       "      <th>Ciudad Madero</th>\n",
       "      <td>337</td>\n",
       "    </tr>\n",
       "    <tr>\n",
       "      <th>Hurlingham</th>\n",
       "      <td>333</td>\n",
       "    </tr>\n",
       "    <tr>\n",
       "      <th>Capital Federal</th>\n",
       "      <th>Colegiales</th>\n",
       "      <td>332</td>\n",
       "    </tr>\n",
       "  </tbody>\n",
       "</table>\n",
       "</div>"
      ],
      "text/plain": [
       "                                                 0\n",
       "country   state           city                    \n",
       "Argentina Capital Federal CABA                3693\n",
       "                          Palermo             2993\n",
       "                          Capital Federal     2990\n",
       "                          Buenos Aires        2846\n",
       "                          Caballito           2671\n",
       "                          Belgrano            2098\n",
       "                          buenos aires        1632\n",
       "                          capital federal     1596\n",
       "          Santa Fe        Rosario             1537\n",
       "          Capital Federal Flores              1447\n",
       "                          Villa Crespo        1417\n",
       "                          Mataderos           1400\n",
       "                          Almagro             1100\n",
       "                          caba                1053\n",
       "                          Balvanera           1050\n",
       "          Buenos Aires    Avellaneda          1009\n",
       "                          La Plata             881\n",
       "                          San Isidro           881\n",
       "                          Mar del Plata        881\n",
       "          Capital Federal CAPITAL FEDERAL      860\n",
       "                          Recoleta             841\n",
       "          Buenos Aires    Quilmes              783\n",
       "                          Lanús                783\n",
       "                          General San Martín   772\n",
       "          Capital Federal Floresta             744\n",
       "                          Villa Urquiza        723\n",
       "          Buenos Aires    Lomas de Zamora      699\n",
       "          Capital Federal BUENOS AIRES         607\n",
       "                          San Telmo            606\n",
       "                          Boedo                598\n",
       "                          Villa Devoto         583\n",
       "          Córdoba         Córdoba              565\n",
       "          Capital Federal Congreso             557\n",
       "                          Caba                 536\n",
       "          Buenos Aires    Morón                499\n",
       "          Capital Federal Villa del Parque     488\n",
       "          Buenos Aires    Bragado              448\n",
       "          Capital Federal Monserrat            444\n",
       "          Buenos Aires    Ituzaingó            440\n",
       "          Capital Federal Paternal             435\n",
       "          Buenos Aires    Vicente López        430\n",
       "                          Caseros              430\n",
       "          Capital Federal Microcentro          423\n",
       "                          Barracas             408\n",
       "                          C.A.B.A.             397\n",
       "          Buenos Aires    Pilar                367\n",
       "                          Tigre                348\n",
       "                          Ciudad Madero        337\n",
       "                          Hurlingham           333\n",
       "          Capital Federal Colegiales           332"
      ]
     },
     "execution_count": 54,
     "metadata": {},
     "output_type": "execute_result"
    }
   ],
   "source": [
    "loc_cols = ['country', 'state', 'city']\n",
    "df.groupby(loc_cols).size().to_frame().sort_values(by=0, ascending=False).head(50)"
   ]
  },
  {
   "cell_type": "code",
   "execution_count": 55,
   "metadata": {},
   "outputs": [
    {
     "name": "stdout",
     "output_type": "stream",
     "text": [
      "Unique values in country: 2\n",
      "Unique values in state: 25\n",
      "Unique values in city: 3480\n"
     ]
    }
   ],
   "source": [
    "for col in loc_cols:\n",
    "    print(f'Unique values in {col}:', df[col].nunique())"
   ]
  },
  {
   "cell_type": "markdown",
   "metadata": {},
   "source": [
    "These columns are inputed manually, except for country.\n",
    "\n",
    "We'll drop them since it's neither clean nor objectively useful for the model\n"
   ]
  },
  {
   "cell_type": "code",
   "execution_count": 56,
   "metadata": {},
   "outputs": [],
   "source": [
    "df.drop(loc_cols, axis=1, inplace=True)"
   ]
  },
  {
   "cell_type": "markdown",
   "metadata": {},
   "source": [
    "#### Listing type ID\n",
    "\n",
    "Let's leave this as is.\n"
   ]
  },
  {
   "cell_type": "code",
   "execution_count": 57,
   "metadata": {},
   "outputs": [
    {
     "data": {
      "text/plain": [
       "listing_type_id\n",
       "bronze          56904\n",
       "free            19260\n",
       "silver           8195\n",
       "gold_special     2693\n",
       "gold             2170\n",
       "gold_premium      765\n",
       "gold_pro           13\n",
       "Name: count, dtype: int64"
      ]
     },
     "execution_count": 57,
     "metadata": {},
     "output_type": "execute_result"
    }
   ],
   "source": [
    "df.listing_type_id.value_counts()"
   ]
  },
  {
   "cell_type": "markdown",
   "metadata": {},
   "source": [
    "#### Shipping mode\n",
    "\n",
    "Let's leave it as it is\n"
   ]
  },
  {
   "cell_type": "code",
   "execution_count": 58,
   "metadata": {},
   "outputs": [
    {
     "data": {
      "text/plain": [
       "shipping_mode\n",
       "me2              46059\n",
       "not_specified    40725\n",
       "custom            3130\n",
       "me1                 86\n",
       "Name: count, dtype: int64"
      ]
     },
     "execution_count": 58,
     "metadata": {},
     "output_type": "execute_result"
    }
   ],
   "source": [
    "df.shipping_mode.value_counts()"
   ]
  },
  {
   "cell_type": "code",
   "execution_count": 59,
   "metadata": {},
   "outputs": [],
   "source": [
    "df.shipping_mode = df.shipping_mode.replace(\n",
    "    {'me2': 'mercado_envios', 'me1': 'mercado_envios'}\n",
    ")"
   ]
  },
  {
   "cell_type": "markdown",
   "metadata": {},
   "source": [
    "#### Buying mode\n"
   ]
  },
  {
   "cell_type": "code",
   "execution_count": 60,
   "metadata": {},
   "outputs": [
    {
     "data": {
      "text/plain": [
       "buying_mode\n",
       "buy_it_now    87311\n",
       "classified     1982\n",
       "auction         707\n",
       "Name: count, dtype: int64"
      ]
     },
     "execution_count": 60,
     "metadata": {},
     "output_type": "execute_result"
    }
   ],
   "source": [
    "df.buying_mode.value_counts()"
   ]
  },
  {
   "cell_type": "markdown",
   "metadata": {},
   "source": [
    "#### Currency ID\n"
   ]
  },
  {
   "cell_type": "code",
   "execution_count": 61,
   "metadata": {},
   "outputs": [
    {
     "data": {
      "text/plain": [
       "currency_id\n",
       "ARS    89496\n",
       "USD      504\n",
       "Name: count, dtype: int64"
      ]
     },
     "execution_count": 61,
     "metadata": {},
     "output_type": "execute_result"
    }
   ],
   "source": [
    "df.currency_id.value_counts()"
   ]
  },
  {
   "cell_type": "markdown",
   "metadata": {},
   "source": [
    "We can do something with this column but let's keep it as it is, in case new countries are included in the training data.\n"
   ]
  },
  {
   "cell_type": "markdown",
   "metadata": {},
   "source": [
    "#### Category ID\n",
    "\n",
    "Reduce the cardinality of the column by grouping the categories that have less than 200 items\n"
   ]
  },
  {
   "cell_type": "code",
   "execution_count": 62,
   "metadata": {},
   "outputs": [
    {
     "data": {
      "image/png": "[encoded data removed]",
      "text/plain": [
       "<Figure size 1000x350 with 1 Axes>"
      ]
     },
     "metadata": {},
     "output_type": "display_data"
    }
   ],
   "source": [
    "plt.figure(figsize=(10, 3.5), dpi=100)\n",
    "category_counts = df.category_id.value_counts()\n",
    "sns.histplot(\n",
    "    category_counts, bins=200, edgecolor=colors['lines'], linewidth=0.6, alpha=1\n",
    ")\n",
    "sns.rugplot(category_counts, color=colors['lines'])\n",
    "plt.title(\n",
    "    'Count of items per category. Median: {:.1f}'.format(category_counts.median())\n",
    ")\n",
    "plt.xlabel('')\n",
    "plt.xlim(0, 1000)\n",
    "sns.despine(left=True)\n",
    "plt.show()"
   ]
  },
  {
   "cell_type": "code",
   "execution_count": 63,
   "metadata": {},
   "outputs": [],
   "source": [
    "valid_categories = category_counts.where(category_counts > 200).dropna().index\n",
    "df.category_id = df.category_id.where(df.category_id.isin(valid_categories), 'Other')"
   ]
  },
  {
   "cell_type": "markdown",
   "metadata": {},
   "source": [
    "#### Title\n",
    "\n",
    "Normalize the title column and get the length of the title\n"
   ]
  },
  {
   "cell_type": "code",
   "execution_count": 64,
   "metadata": {},
   "outputs": [],
   "source": [
    "df['title_norm'] = df.title.apply(normalize_text, stops=set(stopwords.words('spanish')))\n",
    "df['title_len'] = df.title_norm.str.len()\n",
    "\n",
    "df.drop('title', axis=1, inplace=True)"
   ]
  },
  {
   "cell_type": "markdown",
   "metadata": {},
   "source": [
    "Let's see the distribution of the title length per label\n"
   ]
  },
  {
   "cell_type": "code",
   "execution_count": 65,
   "metadata": {},
   "outputs": [
    {
     "data": {
      "image/png": "[encoded data removed]",
      "text/plain": [
       "<Figure size 400x400 with 1 Axes>"
      ]
     },
     "metadata": {},
     "output_type": "display_data"
    }
   ],
   "source": [
    "fig, ax = plt.subplots(1, 1, figsize=(4, 4))\n",
    "sns.boxplot(\n",
    "    x='condition',\n",
    "    y='title_len',\n",
    "    data=df,\n",
    "    fliersize=0.6,\n",
    "    linewidth=0.6,\n",
    "    linecolor=colors['lines'],\n",
    "    legend=False,\n",
    "    saturation=1,\n",
    "    ax=ax,\n",
    ")\n",
    "ax.set_title('Length of the title by condition')\n",
    "ax.set_ylabel('Characters')\n",
    "ax.set_xlabel('')\n",
    "ax.set_xticks([0, 1])\n",
    "ax.set_xticklabels(['Used', 'New'])\n",
    "ax.spines[['left', 'bottom']].set_visible(False)\n",
    "\n",
    "plt.tight_layout()\n",
    "plt.show()"
   ]
  },
  {
   "cell_type": "code",
   "execution_count": 66,
   "metadata": {},
   "outputs": [
    {
     "data": {
      "image/png": "[encoded data removed]",
      "text/plain": [
       "<Figure size 1400x600 with 2 Axes>"
      ]
     },
     "metadata": {},
     "output_type": "display_data"
    }
   ],
   "source": [
    "fig, axes = plt.subplots(1, 2, figsize=(14, 6), sharex=True)\n",
    "\n",
    "top_n = 20\n",
    "words_count = df.title_norm.str.split().apply(len)\n",
    "conditions = {0: 'Used', 1: 'New'}\n",
    "for i, condition in enumerate(df.condition.unique()):\n",
    "    all_text = ' '.join(\n",
    "        df.query(f'condition == {condition}')['title_norm'].dropna().astype(str)\n",
    "    )\n",
    "    words = [w for w in all_text.split() if len(w) > 2]\n",
    "    word_freq = Counter(words)\n",
    "    top_words = word_freq.most_common(top_n)\n",
    "    words, counts = zip(*top_words)\n",
    "\n",
    "    sns.barplot(\n",
    "        x=counts,\n",
    "        y=words,\n",
    "        ax=axes[i],\n",
    "        color=palette[i],\n",
    "        edgecolor=colors['lines'],\n",
    "        linewidth=0.6,\n",
    "        alpha=1,\n",
    "        saturation=1,\n",
    "    )\n",
    "\n",
    "    axes[i].set_title(f'Most common words in {conditions[condition]} items')\n",
    "    axes[i].set_ylabel(''), axes[i].set_xlabel('')\n",
    "    axes[i].spines[['left', 'bottom']].set_visible(False)\n",
    "\n",
    "plt.tight_layout()\n",
    "plt.show()"
   ]
  },
  {
   "cell_type": "code",
   "execution_count": null,
   "metadata": {},
   "outputs": [],
   "source": []
  },
  {
   "cell_type": "markdown",
   "metadata": {},
   "source": [
    "### Numerical columns\n"
   ]
  },
  {
   "cell_type": "code",
   "execution_count": 67,
   "metadata": {},
   "outputs": [
    {
     "name": "stdout",
     "output_type": "stream",
     "text": [
      "condition\n",
      "base_price\n",
      "seller_id\n",
      "price\n",
      "official_store_id\n",
      "original_price\n",
      "stop_time\n",
      "catalog_product_id\n",
      "initial_quantity\n",
      "start_time\n",
      "sold_quantity\n",
      "available_quantity\n",
      "pay_acordar\n",
      "pay_cheque\n",
      "pay_contra\n",
      "pay_diners\n",
      "pay_efectivo\n",
      "pay_giro\n",
      "pay_mercadopago\n",
      "pay_tarjeta\n",
      "pay_transferencia\n",
      "n_payment_methods\n",
      "has_variations\n",
      "n_attributes\n",
      "dragged_bids_and_visits\n",
      "dragged_visits\n",
      "free_relist\n",
      "good_quality_thumbnail\n",
      "poor_quality_thumbnail\n",
      "n_pictures\n",
      "pixels_per_picture\n",
      "has_free_shipping\n",
      "title_len\n"
     ]
    }
   ],
   "source": [
    "numerical_cols = df.select_dtypes(include='number').columns.to_list()\n",
    "_ = [print(col) for col in numerical_cols]"
   ]
  },
  {
   "cell_type": "markdown",
   "metadata": {},
   "source": [
    "- [x] base_price\n",
    "- [x] seller_id\n",
    "- [x] price\n",
    "- [x] official_store_id\n",
    "- [x] original_price\n",
    "- [x] stop_time\n",
    "- [ ] catalog_product_id\n",
    "- [x] initial_quantity\n",
    "- [x] start_time\n",
    "- [x] sold_quantity\n",
    "- [x] available_quantity\n"
   ]
  },
  {
   "cell_type": "markdown",
   "metadata": {},
   "source": [
    "#### Seller ID\n",
    "\n",
    "Drop the seller ID since it is not relevant for the model\n"
   ]
  },
  {
   "cell_type": "code",
   "execution_count": 68,
   "metadata": {},
   "outputs": [],
   "source": [
    "df.drop('seller_id', axis=1, inplace=True)"
   ]
  },
  {
   "cell_type": "markdown",
   "metadata": {},
   "source": [
    "#### Official store ID\n",
    "\n",
    "Let's turn this bad boy into a flag column.\n"
   ]
  },
  {
   "cell_type": "code",
   "execution_count": 69,
   "metadata": {},
   "outputs": [],
   "source": [
    "df['is_official_store'] = df.official_store_id.apply(lambda x: 1 if pd.notna(x) else 0)"
   ]
  },
  {
   "cell_type": "code",
   "execution_count": 70,
   "metadata": {},
   "outputs": [
    {
     "data": {
      "text/plain": [
       "is_official_store\n",
       "0    89255\n",
       "1      745\n",
       "Name: count, dtype: int64"
      ]
     },
     "execution_count": 70,
     "metadata": {},
     "output_type": "execute_result"
    }
   ],
   "source": [
    "df.is_official_store.value_counts()"
   ]
  },
  {
   "cell_type": "code",
   "execution_count": 71,
   "metadata": {},
   "outputs": [],
   "source": [
    "df.drop('official_store_id', axis=1, inplace=True)"
   ]
  },
  {
   "cell_type": "markdown",
   "metadata": {},
   "source": [
    "#### Catalog product ID\n"
   ]
  },
  {
   "cell_type": "code",
   "execution_count": 72,
   "metadata": {},
   "outputs": [
    {
     "data": {
      "text/plain": [
       "catalog_product_id\n",
       "NaN          89993\n",
       "800744.0         1\n",
       "5093232.0        1\n",
       "3050291.0        1\n",
       "5126117.0        1\n",
       "94404.0          1\n",
       "3051112.0        1\n",
       "3053998.0        1\n",
       "Name: count, dtype: int64"
      ]
     },
     "execution_count": 72,
     "metadata": {},
     "output_type": "execute_result"
    }
   ],
   "source": [
    "df.catalog_product_id.value_counts(dropna=False)"
   ]
  },
  {
   "cell_type": "markdown",
   "metadata": {},
   "source": [
    "🙃\n"
   ]
  },
  {
   "cell_type": "code",
   "execution_count": 73,
   "metadata": {},
   "outputs": [],
   "source": [
    "df.drop('catalog_product_id', axis=1, inplace=True)"
   ]
  },
  {
   "cell_type": "markdown",
   "metadata": {},
   "source": [
    "#### Price, original price, and base price\n",
    "\n",
    "Let's see the distribution of the price and base price\n"
   ]
  },
  {
   "cell_type": "code",
   "execution_count": 74,
   "metadata": {},
   "outputs": [
    {
     "data": {
      "text/html": [
       "<div>\n",
       "<style scoped>\n",
       "    .dataframe tbody tr th:only-of-type {\n",
       "        vertical-align: middle;\n",
       "    }\n",
       "\n",
       "    .dataframe tbody tr th {\n",
       "        vertical-align: top;\n",
       "    }\n",
       "\n",
       "    .dataframe thead th {\n",
       "        text-align: right;\n",
       "    }\n",
       "</style>\n",
       "<table border=\"1\" class=\"dataframe\">\n",
       "  <thead>\n",
       "    <tr style=\"text-align: right;\">\n",
       "      <th></th>\n",
       "      <th>count</th>\n",
       "      <th>mean</th>\n",
       "      <th>std</th>\n",
       "      <th>min</th>\n",
       "      <th>25%</th>\n",
       "      <th>50%</th>\n",
       "      <th>75%</th>\n",
       "      <th>max</th>\n",
       "    </tr>\n",
       "    <tr>\n",
       "      <th>condition</th>\n",
       "      <th></th>\n",
       "      <th></th>\n",
       "      <th></th>\n",
       "      <th></th>\n",
       "      <th></th>\n",
       "      <th></th>\n",
       "      <th></th>\n",
       "      <th></th>\n",
       "    </tr>\n",
       "  </thead>\n",
       "  <tbody>\n",
       "    <tr>\n",
       "      <th>0</th>\n",
       "      <td>41,648.0</td>\n",
       "      <td>67,265.1</td>\n",
       "      <td>7,743,572.4</td>\n",
       "      <td>1.0</td>\n",
       "      <td>65.0</td>\n",
       "      <td>150.0</td>\n",
       "      <td>548.2</td>\n",
       "      <td>1,111,111,111.0</td>\n",
       "    </tr>\n",
       "    <tr>\n",
       "      <th>1</th>\n",
       "      <td>48,352.0</td>\n",
       "      <td>49,672.4</td>\n",
       "      <td>10,106,294.8</td>\n",
       "      <td>0.8</td>\n",
       "      <td>140.0</td>\n",
       "      <td>350.0</td>\n",
       "      <td>995.6</td>\n",
       "      <td>2,222,222,222.0</td>\n",
       "    </tr>\n",
       "  </tbody>\n",
       "</table>\n",
       "</div>"
      ],
      "text/plain": [
       "              count      mean           std  min    25%    50%    75%  \\\n",
       "condition                                                               \n",
       "0          41,648.0  67,265.1   7,743,572.4  1.0   65.0  150.0  548.2   \n",
       "1          48,352.0  49,672.4  10,106,294.8  0.8  140.0  350.0  995.6   \n",
       "\n",
       "                       max  \n",
       "condition                   \n",
       "0          1,111,111,111.0  \n",
       "1          2,222,222,222.0  "
      ]
     },
     "execution_count": 74,
     "metadata": {},
     "output_type": "execute_result"
    }
   ],
   "source": [
    "df.groupby('condition').price.describe().apply(lambda s: s.apply('{0:,.1f}'.format))"
   ]
  },
  {
   "cell_type": "code",
   "execution_count": 75,
   "metadata": {},
   "outputs": [
    {
     "data": {
      "text/html": [
       "<div>\n",
       "<style scoped>\n",
       "    .dataframe tbody tr th:only-of-type {\n",
       "        vertical-align: middle;\n",
       "    }\n",
       "\n",
       "    .dataframe tbody tr th {\n",
       "        vertical-align: top;\n",
       "    }\n",
       "\n",
       "    .dataframe thead th {\n",
       "        text-align: right;\n",
       "    }\n",
       "</style>\n",
       "<table border=\"1\" class=\"dataframe\">\n",
       "  <thead>\n",
       "    <tr style=\"text-align: right;\">\n",
       "      <th></th>\n",
       "      <th>count</th>\n",
       "      <th>mean</th>\n",
       "      <th>std</th>\n",
       "      <th>min</th>\n",
       "      <th>25%</th>\n",
       "      <th>50%</th>\n",
       "      <th>75%</th>\n",
       "      <th>max</th>\n",
       "    </tr>\n",
       "    <tr>\n",
       "      <th>condition</th>\n",
       "      <th></th>\n",
       "      <th></th>\n",
       "      <th></th>\n",
       "      <th></th>\n",
       "      <th></th>\n",
       "      <th></th>\n",
       "      <th></th>\n",
       "      <th></th>\n",
       "    </tr>\n",
       "  </thead>\n",
       "  <tbody>\n",
       "    <tr>\n",
       "      <th>0</th>\n",
       "      <td>41,648.0</td>\n",
       "      <td>67,265.1</td>\n",
       "      <td>7,743,572.4</td>\n",
       "      <td>1.0</td>\n",
       "      <td>65.0</td>\n",
       "      <td>150.0</td>\n",
       "      <td>546.2</td>\n",
       "      <td>1,111,111,111.0</td>\n",
       "    </tr>\n",
       "    <tr>\n",
       "      <th>1</th>\n",
       "      <td>48,352.0</td>\n",
       "      <td>49,672.2</td>\n",
       "      <td>10,106,294.8</td>\n",
       "      <td>0.8</td>\n",
       "      <td>140.0</td>\n",
       "      <td>350.0</td>\n",
       "      <td>995.1</td>\n",
       "      <td>2,222,222,222.0</td>\n",
       "    </tr>\n",
       "  </tbody>\n",
       "</table>\n",
       "</div>"
      ],
      "text/plain": [
       "              count      mean           std  min    25%    50%    75%  \\\n",
       "condition                                                               \n",
       "0          41,648.0  67,265.1   7,743,572.4  1.0   65.0  150.0  546.2   \n",
       "1          48,352.0  49,672.2  10,106,294.8  0.8  140.0  350.0  995.1   \n",
       "\n",
       "                       max  \n",
       "condition                   \n",
       "0          1,111,111,111.0  \n",
       "1          2,222,222,222.0  "
      ]
     },
     "execution_count": 75,
     "metadata": {},
     "output_type": "execute_result"
    }
   ],
   "source": [
    "df.groupby('condition').base_price.describe().apply(\n",
    "    lambda s: s.apply('{0:,.1f}'.format)\n",
    ")"
   ]
  },
  {
   "cell_type": "code",
   "execution_count": 76,
   "metadata": {},
   "outputs": [
    {
     "data": {
      "text/html": [
       "<div>\n",
       "<style scoped>\n",
       "    .dataframe tbody tr th:only-of-type {\n",
       "        vertical-align: middle;\n",
       "    }\n",
       "\n",
       "    .dataframe tbody tr th {\n",
       "        vertical-align: top;\n",
       "    }\n",
       "\n",
       "    .dataframe thead th {\n",
       "        text-align: right;\n",
       "    }\n",
       "</style>\n",
       "<table border=\"1\" class=\"dataframe\">\n",
       "  <thead>\n",
       "    <tr style=\"text-align: right;\">\n",
       "      <th></th>\n",
       "      <th>count</th>\n",
       "      <th>mean</th>\n",
       "      <th>std</th>\n",
       "      <th>min</th>\n",
       "      <th>25%</th>\n",
       "      <th>50%</th>\n",
       "      <th>75%</th>\n",
       "      <th>max</th>\n",
       "    </tr>\n",
       "    <tr>\n",
       "      <th>condition</th>\n",
       "      <th></th>\n",
       "      <th></th>\n",
       "      <th></th>\n",
       "      <th></th>\n",
       "      <th></th>\n",
       "      <th></th>\n",
       "      <th></th>\n",
       "      <th></th>\n",
       "    </tr>\n",
       "  </thead>\n",
       "  <tbody>\n",
       "    <tr>\n",
       "      <th>0</th>\n",
       "      <td>0.0</td>\n",
       "      <td>nan</td>\n",
       "      <td>nan</td>\n",
       "      <td>nan</td>\n",
       "      <td>nan</td>\n",
       "      <td>nan</td>\n",
       "      <td>nan</td>\n",
       "      <td>nan</td>\n",
       "    </tr>\n",
       "    <tr>\n",
       "      <th>1</th>\n",
       "      <td>130.0</td>\n",
       "      <td>1,492.5</td>\n",
       "      <td>1,954.9</td>\n",
       "      <td>120.0</td>\n",
       "      <td>449.0</td>\n",
       "      <td>850.0</td>\n",
       "      <td>1,500.0</td>\n",
       "      <td>12,248.0</td>\n",
       "    </tr>\n",
       "  </tbody>\n",
       "</table>\n",
       "</div>"
      ],
      "text/plain": [
       "           count     mean      std    min    25%    50%      75%       max\n",
       "condition                                                                 \n",
       "0            0.0      nan      nan    nan    nan    nan      nan       nan\n",
       "1          130.0  1,492.5  1,954.9  120.0  449.0  850.0  1,500.0  12,248.0"
      ]
     },
     "execution_count": 76,
     "metadata": {},
     "output_type": "execute_result"
    }
   ],
   "source": [
    "df.groupby('condition').original_price.describe().apply(\n",
    "    lambda s: s.apply('{0:,.1f}'.format)\n",
    ")"
   ]
  },
  {
   "cell_type": "markdown",
   "metadata": {},
   "source": [
    "Drop the base price since it is very similar to the price.\n",
    "And let's drop original price too, because is null most of the time.\n",
    "\n",
    "Also, we can see that the price is a little bit more higher in used items.\n"
   ]
  },
  {
   "cell_type": "code",
   "execution_count": 77,
   "metadata": {},
   "outputs": [],
   "source": [
    "df.drop(['base_price', 'original_price'], axis=1, inplace=True)"
   ]
  },
  {
   "cell_type": "markdown",
   "metadata": {},
   "source": [
    "#### Start time and stop time\n"
   ]
  },
  {
   "cell_type": "code",
   "execution_count": 78,
   "metadata": {},
   "outputs": [
    {
     "data": {
      "text/html": [
       "<div>\n",
       "<style scoped>\n",
       "    .dataframe tbody tr th:only-of-type {\n",
       "        vertical-align: middle;\n",
       "    }\n",
       "\n",
       "    .dataframe tbody tr th {\n",
       "        vertical-align: top;\n",
       "    }\n",
       "\n",
       "    .dataframe thead th {\n",
       "        text-align: right;\n",
       "    }\n",
       "</style>\n",
       "<table border=\"1\" class=\"dataframe\">\n",
       "  <thead>\n",
       "    <tr style=\"text-align: right;\">\n",
       "      <th></th>\n",
       "      <th>start_time</th>\n",
       "      <th>stop_time</th>\n",
       "    </tr>\n",
       "  </thead>\n",
       "  <tbody>\n",
       "    <tr>\n",
       "      <th>0</th>\n",
       "      <td>1441485773000</td>\n",
       "      <td>1446669773000</td>\n",
       "    </tr>\n",
       "    <tr>\n",
       "      <th>1</th>\n",
       "      <td>1443290910000</td>\n",
       "      <td>1448474910000</td>\n",
       "    </tr>\n",
       "    <tr>\n",
       "      <th>2</th>\n",
       "      <td>1441843027000</td>\n",
       "      <td>1447027027000</td>\n",
       "    </tr>\n",
       "    <tr>\n",
       "      <th>3</th>\n",
       "      <td>1443466076000</td>\n",
       "      <td>1449191596000</td>\n",
       "    </tr>\n",
       "    <tr>\n",
       "      <th>4</th>\n",
       "      <td>1440454040000</td>\n",
       "      <td>1445638040000</td>\n",
       "    </tr>\n",
       "  </tbody>\n",
       "</table>\n",
       "</div>"
      ],
      "text/plain": [
       "      start_time      stop_time\n",
       "0  1441485773000  1446669773000\n",
       "1  1443290910000  1448474910000\n",
       "2  1441843027000  1447027027000\n",
       "3  1443466076000  1449191596000\n",
       "4  1440454040000  1445638040000"
      ]
     },
     "execution_count": 78,
     "metadata": {},
     "output_type": "execute_result"
    }
   ],
   "source": [
    "df[['start_time', 'stop_time']].head()"
   ]
  },
  {
   "cell_type": "code",
   "execution_count": 79,
   "metadata": {},
   "outputs": [],
   "source": [
    "df['start_time'] = pd.to_datetime(df['start_time'], unit='ms')\n",
    "df['start_hour'] = df['start_time'].dt.hour"
   ]
  },
  {
   "cell_type": "code",
   "execution_count": 80,
   "metadata": {},
   "outputs": [
    {
     "data": {
      "image/png": "[encoded data removed]",
      "text/plain": [
       "<Figure size 400x400 with 1 Axes>"
      ]
     },
     "metadata": {},
     "output_type": "display_data"
    }
   ],
   "source": [
    "fig, ax = plt.subplots(1, 1, figsize=(4, 4))\n",
    "sns.boxplot(\n",
    "    x='condition',\n",
    "    y='start_hour',\n",
    "    data=df,\n",
    "    fliersize=0.6,\n",
    "    linewidth=0.6,\n",
    "    linecolor=colors['lines'],\n",
    "    legend=False,\n",
    "    saturation=1,\n",
    "    ax=ax,\n",
    ")\n",
    "ax.set_title('Start hour of the day by condition')\n",
    "ax.set_ylabel('Hour')\n",
    "ax.set_xlabel('')\n",
    "ax.set_xticks([0, 1])\n",
    "ax.set_xticklabels(['Used', 'New'])\n",
    "ax.spines[['left', 'bottom']].set_visible(False)\n",
    "\n",
    "plt.tight_layout()\n",
    "plt.show()"
   ]
  },
  {
   "cell_type": "markdown",
   "metadata": {},
   "source": [
    "Let's drop both since we are not seeing any correlation with the target variable.\n"
   ]
  },
  {
   "cell_type": "code",
   "execution_count": 81,
   "metadata": {},
   "outputs": [],
   "source": [
    "df.drop(['start_time', 'start_hour', 'stop_time'], axis=1, inplace=True)"
   ]
  },
  {
   "cell_type": "markdown",
   "metadata": {},
   "source": [
    "#### Initial quantity, sold quantity and available quantity\n"
   ]
  },
  {
   "cell_type": "markdown",
   "metadata": {},
   "source": [
    "Let's take a look to the correlation between initial quantity and condition\n"
   ]
  },
  {
   "cell_type": "code",
   "execution_count": 82,
   "metadata": {},
   "outputs": [
    {
     "data": {
      "text/html": [
       "<div>\n",
       "<style scoped>\n",
       "    .dataframe tbody tr th:only-of-type {\n",
       "        vertical-align: middle;\n",
       "    }\n",
       "\n",
       "    .dataframe tbody tr th {\n",
       "        vertical-align: top;\n",
       "    }\n",
       "\n",
       "    .dataframe thead th {\n",
       "        text-align: right;\n",
       "    }\n",
       "</style>\n",
       "<table border=\"1\" class=\"dataframe\">\n",
       "  <thead>\n",
       "    <tr style=\"text-align: right;\">\n",
       "      <th></th>\n",
       "      <th>count</th>\n",
       "      <th>mean</th>\n",
       "      <th>std</th>\n",
       "      <th>min</th>\n",
       "      <th>25%</th>\n",
       "      <th>50%</th>\n",
       "      <th>75%</th>\n",
       "      <th>max</th>\n",
       "    </tr>\n",
       "    <tr>\n",
       "      <th>condition</th>\n",
       "      <th></th>\n",
       "      <th></th>\n",
       "      <th></th>\n",
       "      <th></th>\n",
       "      <th></th>\n",
       "      <th></th>\n",
       "      <th></th>\n",
       "      <th></th>\n",
       "    </tr>\n",
       "  </thead>\n",
       "  <tbody>\n",
       "    <tr>\n",
       "      <th>0</th>\n",
       "      <td>41,648.0</td>\n",
       "      <td>2.1</td>\n",
       "      <td>58.3</td>\n",
       "      <td>1.0</td>\n",
       "      <td>1.0</td>\n",
       "      <td>1.0</td>\n",
       "      <td>1.0</td>\n",
       "      <td>9,999.0</td>\n",
       "    </tr>\n",
       "    <tr>\n",
       "      <th>1</th>\n",
       "      <td>48,352.0</td>\n",
       "      <td>63.3</td>\n",
       "      <td>570.4</td>\n",
       "      <td>1.0</td>\n",
       "      <td>1.0</td>\n",
       "      <td>2.0</td>\n",
       "      <td>9.0</td>\n",
       "      <td>9,999.0</td>\n",
       "    </tr>\n",
       "  </tbody>\n",
       "</table>\n",
       "</div>"
      ],
      "text/plain": [
       "              count  mean    std  min  25%  50%  75%      max\n",
       "condition                                                    \n",
       "0          41,648.0   2.1   58.3  1.0  1.0  1.0  1.0  9,999.0\n",
       "1          48,352.0  63.3  570.4  1.0  1.0  2.0  9.0  9,999.0"
      ]
     },
     "execution_count": 82,
     "metadata": {},
     "output_type": "execute_result"
    }
   ],
   "source": [
    "df.groupby('condition').initial_quantity.describe().apply(\n",
    "    lambda s: s.apply('{0:,.1f}'.format)\n",
    ")"
   ]
  },
  {
   "cell_type": "code",
   "execution_count": 83,
   "metadata": {},
   "outputs": [
    {
     "data": {
      "image/png": "[encoded data removed]",
      "text/plain": [
       "<Figure size 400x400 with 1 Axes>"
      ]
     },
     "metadata": {},
     "output_type": "display_data"
    }
   ],
   "source": [
    "fig, ax = plt.subplots(1, 1, figsize=(4, 4))\n",
    "sns.boxplot(\n",
    "    x='condition',\n",
    "    y='initial_quantity',\n",
    "    data=df,\n",
    "    fliersize=0.6,\n",
    "    linewidth=0.6,\n",
    "    linecolor=colors['lines'],\n",
    "    legend=False,\n",
    "    saturation=1,\n",
    "    ax=ax,\n",
    ")\n",
    "ax.set_title('Initial quantity by condition')\n",
    "ax.set_ylabel('Quantity')\n",
    "ax.set_xlabel('')\n",
    "ax.set_xticks([0, 1])\n",
    "ax.set_xticklabels(['Used', 'New'])\n",
    "ax.set_ylim(0, 30)\n",
    "ax.spines[['left', 'bottom']].set_visible(False)\n",
    "\n",
    "plt.tight_layout()\n",
    "plt.show()"
   ]
  },
  {
   "cell_type": "markdown",
   "metadata": {},
   "source": [
    "Not surprisingly, the initial quantity is higher in new items and tend to be 1 in used items.\n",
    "\n",
    "Let's just use the initial quantity since this is what we will have at the beggining.\n"
   ]
  },
  {
   "cell_type": "code",
   "execution_count": 84,
   "metadata": {},
   "outputs": [],
   "source": [
    "df.drop(['available_quantity', 'sold_quantity'], axis=1, inplace=True)"
   ]
  },
  {
   "cell_type": "markdown",
   "metadata": {},
   "source": [
    "### Boolean columns\n"
   ]
  },
  {
   "cell_type": "code",
   "execution_count": 85,
   "metadata": {},
   "outputs": [],
   "source": [
    "bool_cols = df.select_dtypes(include='bool').columns.to_list()"
   ]
  },
  {
   "cell_type": "code",
   "execution_count": 86,
   "metadata": {},
   "outputs": [
    {
     "data": {
      "text/plain": [
       "['accepts_mercadopago', 'automatic_relist', 'local_pick_up', 'free_shipping']"
      ]
     },
     "execution_count": 86,
     "metadata": {},
     "output_type": "execute_result"
    }
   ],
   "source": [
    "bool_cols"
   ]
  },
  {
   "cell_type": "markdown",
   "metadata": {},
   "source": [
    "#### Accepts mercadopago\n"
   ]
  },
  {
   "cell_type": "code",
   "execution_count": 87,
   "metadata": {},
   "outputs": [
    {
     "name": "stdout",
     "output_type": "stream",
     "text": [
      "accepts_mercadopago\n",
      "True     88018\n",
      "False     1982\n",
      "Name: count, dtype: int64\n"
     ]
    },
    {
     "data": {
      "text/html": [
       "<div>\n",
       "<style scoped>\n",
       "    .dataframe tbody tr th:only-of-type {\n",
       "        vertical-align: middle;\n",
       "    }\n",
       "\n",
       "    .dataframe tbody tr th {\n",
       "        vertical-align: top;\n",
       "    }\n",
       "\n",
       "    .dataframe thead th {\n",
       "        text-align: right;\n",
       "    }\n",
       "</style>\n",
       "<table border=\"1\" class=\"dataframe\">\n",
       "  <thead>\n",
       "    <tr style=\"text-align: right;\">\n",
       "      <th>condition</th>\n",
       "      <th>0</th>\n",
       "      <th>1</th>\n",
       "      <th>All</th>\n",
       "    </tr>\n",
       "    <tr>\n",
       "      <th>accepts_mercadopago</th>\n",
       "      <th></th>\n",
       "      <th></th>\n",
       "      <th></th>\n",
       "    </tr>\n",
       "  </thead>\n",
       "  <tbody>\n",
       "    <tr>\n",
       "      <th>False</th>\n",
       "      <td>3.7</td>\n",
       "      <td>0.9</td>\n",
       "      <td>2.2</td>\n",
       "    </tr>\n",
       "    <tr>\n",
       "      <th>True</th>\n",
       "      <td>96.3</td>\n",
       "      <td>99.1</td>\n",
       "      <td>97.8</td>\n",
       "    </tr>\n",
       "  </tbody>\n",
       "</table>\n",
       "</div>"
      ],
      "text/plain": [
       "condition               0     1   All\n",
       "accepts_mercadopago                  \n",
       "False                 3.7   0.9   2.2\n",
       "True                 96.3  99.1  97.8"
      ]
     },
     "execution_count": 87,
     "metadata": {},
     "output_type": "execute_result"
    }
   ],
   "source": [
    "print(df.accepts_mercadopago.value_counts())\n",
    "\n",
    "(\n",
    "    pd.crosstab(df.accepts_mercadopago, df.condition, normalize='columns', margins=True)\n",
    "    * 100\n",
    ").round(1)"
   ]
  },
  {
   "cell_type": "markdown",
   "metadata": {},
   "source": [
    "Ok, let's keep this one since not accepting Mercado Pago is a little bit more common in used items.\n"
   ]
  },
  {
   "cell_type": "code",
   "execution_count": 88,
   "metadata": {},
   "outputs": [],
   "source": [
    "df.accepts_mercadopago = df.accepts_mercadopago.astype(int)"
   ]
  },
  {
   "cell_type": "markdown",
   "metadata": {},
   "source": [
    "#### Automatic relist\n"
   ]
  },
  {
   "cell_type": "code",
   "execution_count": 89,
   "metadata": {},
   "outputs": [
    {
     "name": "stdout",
     "output_type": "stream",
     "text": [
      "automatic_relist\n",
      "False    85773\n",
      "True      4227\n",
      "Name: count, dtype: int64\n"
     ]
    },
    {
     "data": {
      "text/html": [
       "<div>\n",
       "<style scoped>\n",
       "    .dataframe tbody tr th:only-of-type {\n",
       "        vertical-align: middle;\n",
       "    }\n",
       "\n",
       "    .dataframe tbody tr th {\n",
       "        vertical-align: top;\n",
       "    }\n",
       "\n",
       "    .dataframe thead th {\n",
       "        text-align: right;\n",
       "    }\n",
       "</style>\n",
       "<table border=\"1\" class=\"dataframe\">\n",
       "  <thead>\n",
       "    <tr style=\"text-align: right;\">\n",
       "      <th>condition</th>\n",
       "      <th>0</th>\n",
       "      <th>1</th>\n",
       "      <th>All</th>\n",
       "    </tr>\n",
       "    <tr>\n",
       "      <th>automatic_relist</th>\n",
       "      <th></th>\n",
       "      <th></th>\n",
       "      <th></th>\n",
       "    </tr>\n",
       "  </thead>\n",
       "  <tbody>\n",
       "    <tr>\n",
       "      <th>False</th>\n",
       "      <td>99.5</td>\n",
       "      <td>91.6</td>\n",
       "      <td>95.3</td>\n",
       "    </tr>\n",
       "    <tr>\n",
       "      <th>True</th>\n",
       "      <td>0.5</td>\n",
       "      <td>8.4</td>\n",
       "      <td>4.7</td>\n",
       "    </tr>\n",
       "  </tbody>\n",
       "</table>\n",
       "</div>"
      ],
      "text/plain": [
       "condition            0     1   All\n",
       "automatic_relist                  \n",
       "False             99.5  91.6  95.3\n",
       "True               0.5   8.4   4.7"
      ]
     },
     "execution_count": 89,
     "metadata": {},
     "output_type": "execute_result"
    }
   ],
   "source": [
    "print(df.automatic_relist.value_counts())\n",
    "\n",
    "(\n",
    "    pd.crosstab(df.automatic_relist, df.condition, normalize='columns', margins=True)\n",
    "    * 100\n",
    ").round(1)"
   ]
  },
  {
   "cell_type": "markdown",
   "metadata": {},
   "source": [
    "Based on the cross table, we can see that the automatic relist is not very common when the item is used\n"
   ]
  },
  {
   "cell_type": "code",
   "execution_count": 90,
   "metadata": {},
   "outputs": [],
   "source": [
    "df.automatic_relist = df.automatic_relist.astype(int)"
   ]
  },
  {
   "cell_type": "markdown",
   "metadata": {},
   "source": [
    "#### Local pick up"
   ]
  },
  {
   "cell_type": "code",
   "execution_count": 91,
   "metadata": {},
   "outputs": [
    {
     "name": "stdout",
     "output_type": "stream",
     "text": [
      "local_pick_up\n",
      "True     71577\n",
      "False    18423\n",
      "Name: count, dtype: int64\n"
     ]
    },
    {
     "data": {
      "text/html": [
       "<div>\n",
       "<style scoped>\n",
       "    .dataframe tbody tr th:only-of-type {\n",
       "        vertical-align: middle;\n",
       "    }\n",
       "\n",
       "    .dataframe tbody tr th {\n",
       "        vertical-align: top;\n",
       "    }\n",
       "\n",
       "    .dataframe thead th {\n",
       "        text-align: right;\n",
       "    }\n",
       "</style>\n",
       "<table border=\"1\" class=\"dataframe\">\n",
       "  <thead>\n",
       "    <tr style=\"text-align: right;\">\n",
       "      <th>condition</th>\n",
       "      <th>0</th>\n",
       "      <th>1</th>\n",
       "      <th>All</th>\n",
       "    </tr>\n",
       "    <tr>\n",
       "      <th>local_pick_up</th>\n",
       "      <th></th>\n",
       "      <th></th>\n",
       "      <th></th>\n",
       "    </tr>\n",
       "  </thead>\n",
       "  <tbody>\n",
       "    <tr>\n",
       "      <th>False</th>\n",
       "      <td>22.3</td>\n",
       "      <td>18.9</td>\n",
       "      <td>20.5</td>\n",
       "    </tr>\n",
       "    <tr>\n",
       "      <th>True</th>\n",
       "      <td>77.7</td>\n",
       "      <td>81.1</td>\n",
       "      <td>79.5</td>\n",
       "    </tr>\n",
       "  </tbody>\n",
       "</table>\n",
       "</div>"
      ],
      "text/plain": [
       "condition         0     1   All\n",
       "local_pick_up                  \n",
       "False          22.3  18.9  20.5\n",
       "True           77.7  81.1  79.5"
      ]
     },
     "execution_count": 91,
     "metadata": {},
     "output_type": "execute_result"
    }
   ],
   "source": [
    "print(df.local_pick_up.value_counts())\n",
    "\n",
    "(\n",
    "    pd.crosstab(df.local_pick_up, df.condition, normalize='columns', margins=True) * 100\n",
    ").round(1)"
   ]
  },
  {
   "cell_type": "markdown",
   "metadata": {},
   "source": [
    "Same distribution of local pick up for new and used items, let's drop it."
   ]
  },
  {
   "cell_type": "code",
   "execution_count": 94,
   "metadata": {},
   "outputs": [],
   "source": [
    "df.drop('local_pick_up', axis=1, inplace=True)"
   ]
  },
  {
   "cell_type": "markdown",
   "metadata": {},
   "source": [
    "#### Free shipping"
   ]
  },
  {
   "cell_type": "code",
   "execution_count": 92,
   "metadata": {},
   "outputs": [
    {
     "name": "stdout",
     "output_type": "stream",
     "text": [
      "free_shipping\n",
      "False    87303\n",
      "True      2697\n",
      "Name: count, dtype: int64\n"
     ]
    },
    {
     "data": {
      "text/html": [
       "<div>\n",
       "<style scoped>\n",
       "    .dataframe tbody tr th:only-of-type {\n",
       "        vertical-align: middle;\n",
       "    }\n",
       "\n",
       "    .dataframe tbody tr th {\n",
       "        vertical-align: top;\n",
       "    }\n",
       "\n",
       "    .dataframe thead th {\n",
       "        text-align: right;\n",
       "    }\n",
       "</style>\n",
       "<table border=\"1\" class=\"dataframe\">\n",
       "  <thead>\n",
       "    <tr style=\"text-align: right;\">\n",
       "      <th>condition</th>\n",
       "      <th>0</th>\n",
       "      <th>1</th>\n",
       "      <th>All</th>\n",
       "    </tr>\n",
       "    <tr>\n",
       "      <th>free_shipping</th>\n",
       "      <th></th>\n",
       "      <th></th>\n",
       "      <th></th>\n",
       "    </tr>\n",
       "  </thead>\n",
       "  <tbody>\n",
       "    <tr>\n",
       "      <th>False</th>\n",
       "      <td>99.5</td>\n",
       "      <td>94.8</td>\n",
       "      <td>97.0</td>\n",
       "    </tr>\n",
       "    <tr>\n",
       "      <th>True</th>\n",
       "      <td>0.5</td>\n",
       "      <td>5.2</td>\n",
       "      <td>3.0</td>\n",
       "    </tr>\n",
       "  </tbody>\n",
       "</table>\n",
       "</div>"
      ],
      "text/plain": [
       "condition         0     1   All\n",
       "free_shipping                  \n",
       "False          99.5  94.8  97.0\n",
       "True            0.5   5.2   3.0"
      ]
     },
     "execution_count": 92,
     "metadata": {},
     "output_type": "execute_result"
    }
   ],
   "source": [
    "print(df.free_shipping.value_counts())\n",
    "\n",
    "(\n",
    "    pd.crosstab(df.free_shipping, df.condition, normalize='columns', margins=True) * 100\n",
    ").round(1)"
   ]
  },
  {
   "cell_type": "code",
   "execution_count": 93,
   "metadata": {},
   "outputs": [],
   "source": [
    "df.free_shipping = df.free_shipping.astype(int)"
   ]
  },
  {
   "cell_type": "markdown",
   "metadata": {},
   "source": [
    "## Final Cleaning\n"
   ]
  },
  {
   "cell_type": "markdown",
   "metadata": {},
   "source": [
    "### Check nulls values\n"
   ]
  },
  {
   "cell_type": "code",
   "execution_count": 95,
   "metadata": {},
   "outputs": [],
   "source": [
    "all_columns = df.columns.tolist()\n",
    "attr_columns = [col for col in all_columns if 'attr' in col]\n",
    "non_attr_columns = [col for col in all_columns if col not in attr_columns]"
   ]
  },
  {
   "cell_type": "code",
   "execution_count": 97,
   "metadata": {},
   "outputs": [
    {
     "data": {
      "text/plain": [
       "pixels_per_picture     0.007811\n",
       "condition              0.000000\n",
       "listing_type_id        0.000000\n",
       "buying_mode            0.000000\n",
       "price                  0.000000\n",
       "accepts_mercadopago    0.000000\n",
       "currency_id            0.000000\n",
       "automatic_relist       0.000000\n",
       "category_id            0.000000\n",
       "free_shipping          0.000000\n",
       "dtype: float64"
      ]
     },
     "execution_count": 97,
     "metadata": {},
     "output_type": "execute_result"
    }
   ],
   "source": [
    "df[non_attr_columns].isna().mean().sort_values(ascending=False).head(10)"
   ]
  },
  {
   "cell_type": "code",
   "execution_count": 99,
   "metadata": {},
   "outputs": [
    {
     "data": {
      "text/html": [
       "<div>\n",
       "<style scoped>\n",
       "    .dataframe tbody tr th:only-of-type {\n",
       "        vertical-align: middle;\n",
       "    }\n",
       "\n",
       "    .dataframe tbody tr th {\n",
       "        vertical-align: top;\n",
       "    }\n",
       "\n",
       "    .dataframe thead th {\n",
       "        text-align: right;\n",
       "    }\n",
       "</style>\n",
       "<table border=\"1\" class=\"dataframe\">\n",
       "  <thead>\n",
       "    <tr style=\"text-align: right;\">\n",
       "      <th></th>\n",
       "      <th>condition</th>\n",
       "      <th>listing_type_id</th>\n",
       "      <th>price</th>\n",
       "      <th>buying_mode</th>\n",
       "      <th>category_id</th>\n",
       "      <th>accepts_mercadopago</th>\n",
       "      <th>currency_id</th>\n",
       "      <th>automatic_relist</th>\n",
       "      <th>initial_quantity</th>\n",
       "      <th>free_shipping</th>\n",
       "      <th>shipping_mode</th>\n",
       "      <th>pay_acordar</th>\n",
       "      <th>pay_cheque</th>\n",
       "      <th>pay_contra</th>\n",
       "      <th>pay_diners</th>\n",
       "      <th>pay_efectivo</th>\n",
       "      <th>pay_giro</th>\n",
       "      <th>pay_mercadopago</th>\n",
       "      <th>pay_tarjeta</th>\n",
       "      <th>pay_transferencia</th>\n",
       "      <th>n_payment_methods</th>\n",
       "      <th>has_variations</th>\n",
       "      <th>attr_kilometros</th>\n",
       "      <th>attr_modelo</th>\n",
       "      <th>attr_ano</th>\n",
       "      <th>attr_version</th>\n",
       "      <th>attr_unidad_referencia</th>\n",
       "      <th>attr_acceso</th>\n",
       "      <th>attr_distribucion</th>\n",
       "      <th>attr_ancho</th>\n",
       "      <th>attr_disposicion_lote</th>\n",
       "      <th>attr_superficie_construible</th>\n",
       "      <th>attr_forestacion</th>\n",
       "      <th>attr_capacidad</th>\n",
       "      <th>attr_altura</th>\n",
       "      <th>attr_largo</th>\n",
       "      <th>attr_voltaje_nominal</th>\n",
       "      <th>attr_polaridad</th>\n",
       "      <th>attr_deposito</th>\n",
       "      <th>attr_sistema_contra_incendio</th>\n",
       "      <th>attr_cancha_voley</th>\n",
       "      <th>attr_salamandra</th>\n",
       "      <th>attr_grupo_eletrogeno</th>\n",
       "      <th>attr_superficie_construida_m2</th>\n",
       "      <th>attr_capacidad_carga_kg</th>\n",
       "      <th>attr_capacidad_lastre_kg</th>\n",
       "      <th>attr_medida_neumatico</th>\n",
       "      <th>attr_potencia_maxrpmcv</th>\n",
       "      <th>attr_sistema_frenado</th>\n",
       "      <th>attr_traccion</th>\n",
       "      <th>attr_asiento_acompanante_regulable_en_altura</th>\n",
       "      <th>attr_butaca_conductor_electrica</th>\n",
       "      <th>attr_butacas_delanteras_termicas</th>\n",
       "      <th>attr_butacas_regulables_con_memoria</th>\n",
       "      <th>attr_espejos_exteriores_regulables_desde_el_interior</th>\n",
       "      <th>attr_levantavidrios_electricos_delanteros</th>\n",
       "      <th>attr_limpialava_faros</th>\n",
       "      <th>attr_cinturones_inerciales_delanteros</th>\n",
       "      <th>attr_frenos_disco_delanteros</th>\n",
       "      <th>attr_frenos_a_motor</th>\n",
       "      <th>attr_llave_codificada</th>\n",
       "      <th>attr_casco</th>\n",
       "      <th>attr_distancia_al_asfalto_km</th>\n",
       "      <th>attr_hectareas_totales</th>\n",
       "      <th>attr_tipo_campo</th>\n",
       "      <th>attr_adecuado_para_eventos</th>\n",
       "      <th>attr_bar</th>\n",
       "      <th>attr_juegos_infantiles</th>\n",
       "      <th>attr_nombre_tiempo_compartido</th>\n",
       "      <th>attr_tiempo</th>\n",
       "      <th>attr_tipo_alojamiento</th>\n",
       "      <th>attr_tipo_tiempo_compartido</th>\n",
       "      <th>attr_recaudacion_mensual_</th>\n",
       "      <th>attr_rampa_para_discapacitados</th>\n",
       "      <th>attr_salidas_emergencia</th>\n",
       "      <th>attr_tipo_fondo_comercio</th>\n",
       "      <th>attr_ambientes_casco</th>\n",
       "      <th>attr_antiguedad_casco</th>\n",
       "      <th>attr_bebederos</th>\n",
       "      <th>attr_corrales</th>\n",
       "      <th>attr_estado_casco</th>\n",
       "      <th>attr_galpones</th>\n",
       "      <th>attr_mangas</th>\n",
       "      <th>attr_molinos</th>\n",
       "      <th>attr_potreros</th>\n",
       "      <th>attr_silos</th>\n",
       "      <th>attr_tanques_agua</th>\n",
       "      <th>attr_casa_casero</th>\n",
       "      <th>attr_luz_a_motor</th>\n",
       "      <th>attr_sup_cubierta_casco_m2</th>\n",
       "      <th>attr_adjudicado</th>\n",
       "      <th>attr_tipo_entrega</th>\n",
       "      <th>attr_valor_cuota_</th>\n",
       "      <th>attr_cantidad_cuotas</th>\n",
       "      <th>attr_cantidad_cuotas_pagas</th>\n",
       "      <th>attr_alto_mts</th>\n",
       "      <th>attr_ancho_mts</th>\n",
       "      <th>attr_largo_mts</th>\n",
       "      <th>attr_marca_motor</th>\n",
       "      <th>attr_cama_matrimonial</th>\n",
       "      <th>attr_grupo_electrogeno</th>\n",
       "      <th>attr_heladera</th>\n",
       "      <th>attr_instalacion_electrica</th>\n",
       "      <th>attr_television</th>\n",
       "      <th>attr_radio</th>\n",
       "      <th>attr_pelicula_seguridad</th>\n",
       "      <th>attr_licencia</th>\n",
       "      <th>attr_carroceria</th>\n",
       "      <th>attr_quantidade_andares</th>\n",
       "      <th>attr_butacas_reclinables</th>\n",
       "      <th>attr_luz_lectura</th>\n",
       "      <th>attr_musica_ambiente</th>\n",
       "      <th>attr_ventanas_panoramicas</th>\n",
       "      <th>attr_video</th>\n",
       "      <th>attr_tanque_agua</th>\n",
       "      <th>attr_altura_techo_m</th>\n",
       "      <th>attr_tipo_inmueble</th>\n",
       "      <th>attr_desde_fecha</th>\n",
       "      <th>attr_hasta_fecha</th>\n",
       "      <th>attr_nombre_cementerio</th>\n",
       "      <th>n_attributes</th>\n",
       "      <th>dragged_bids_and_visits</th>\n",
       "      <th>dragged_visits</th>\n",
       "      <th>free_relist</th>\n",
       "      <th>good_quality_thumbnail</th>\n",
       "      <th>poor_quality_thumbnail</th>\n",
       "      <th>n_pictures</th>\n",
       "      <th>pixels_per_picture</th>\n",
       "      <th>has_free_shipping</th>\n",
       "      <th>title_norm</th>\n",
       "      <th>title_len</th>\n",
       "      <th>is_official_store</th>\n",
       "    </tr>\n",
       "  </thead>\n",
       "  <tbody>\n",
       "    <tr>\n",
       "      <th>1344</th>\n",
       "      <td>0</td>\n",
       "      <td>bronze</td>\n",
       "      <td>180.0</td>\n",
       "      <td>buy_it_now</td>\n",
       "      <td>Other</td>\n",
       "      <td>1</td>\n",
       "      <td>ARS</td>\n",
       "      <td>0</td>\n",
       "      <td>1</td>\n",
       "      <td>0</td>\n",
       "      <td>mercado_envios</td>\n",
       "      <td>0</td>\n",
       "      <td>0</td>\n",
       "      <td>0</td>\n",
       "      <td>0</td>\n",
       "      <td>1</td>\n",
       "      <td>0</td>\n",
       "      <td>0</td>\n",
       "      <td>1</td>\n",
       "      <td>1</td>\n",
       "      <td>3</td>\n",
       "      <td>0</td>\n",
       "      <td>NaN</td>\n",
       "      <td>NaN</td>\n",
       "      <td>NaN</td>\n",
       "      <td>NaN</td>\n",
       "      <td>NaN</td>\n",
       "      <td>NaN</td>\n",
       "      <td>NaN</td>\n",
       "      <td>NaN</td>\n",
       "      <td>NaN</td>\n",
       "      <td>NaN</td>\n",
       "      <td>NaN</td>\n",
       "      <td>NaN</td>\n",
       "      <td>NaN</td>\n",
       "      <td>NaN</td>\n",
       "      <td>NaN</td>\n",
       "      <td>NaN</td>\n",
       "      <td>NaN</td>\n",
       "      <td>NaN</td>\n",
       "      <td>NaN</td>\n",
       "      <td>NaN</td>\n",
       "      <td>NaN</td>\n",
       "      <td>NaN</td>\n",
       "      <td>NaN</td>\n",
       "      <td>NaN</td>\n",
       "      <td>NaN</td>\n",
       "      <td>NaN</td>\n",
       "      <td>NaN</td>\n",
       "      <td>NaN</td>\n",
       "      <td>NaN</td>\n",
       "      <td>NaN</td>\n",
       "      <td>NaN</td>\n",
       "      <td>NaN</td>\n",
       "      <td>NaN</td>\n",
       "      <td>NaN</td>\n",
       "      <td>NaN</td>\n",
       "      <td>NaN</td>\n",
       "      <td>NaN</td>\n",
       "      <td>NaN</td>\n",
       "      <td>NaN</td>\n",
       "      <td>NaN</td>\n",
       "      <td>NaN</td>\n",
       "      <td>NaN</td>\n",
       "      <td>NaN</td>\n",
       "      <td>NaN</td>\n",
       "      <td>NaN</td>\n",
       "      <td>NaN</td>\n",
       "      <td>NaN</td>\n",
       "      <td>NaN</td>\n",
       "      <td>NaN</td>\n",
       "      <td>NaN</td>\n",
       "      <td>NaN</td>\n",
       "      <td>NaN</td>\n",
       "      <td>NaN</td>\n",
       "      <td>NaN</td>\n",
       "      <td>NaN</td>\n",
       "      <td>NaN</td>\n",
       "      <td>NaN</td>\n",
       "      <td>NaN</td>\n",
       "      <td>NaN</td>\n",
       "      <td>NaN</td>\n",
       "      <td>NaN</td>\n",
       "      <td>NaN</td>\n",
       "      <td>NaN</td>\n",
       "      <td>NaN</td>\n",
       "      <td>NaN</td>\n",
       "      <td>NaN</td>\n",
       "      <td>NaN</td>\n",
       "      <td>NaN</td>\n",
       "      <td>NaN</td>\n",
       "      <td>NaN</td>\n",
       "      <td>NaN</td>\n",
       "      <td>NaN</td>\n",
       "      <td>NaN</td>\n",
       "      <td>NaN</td>\n",
       "      <td>NaN</td>\n",
       "      <td>NaN</td>\n",
       "      <td>NaN</td>\n",
       "      <td>NaN</td>\n",
       "      <td>NaN</td>\n",
       "      <td>NaN</td>\n",
       "      <td>NaN</td>\n",
       "      <td>NaN</td>\n",
       "      <td>NaN</td>\n",
       "      <td>NaN</td>\n",
       "      <td>NaN</td>\n",
       "      <td>NaN</td>\n",
       "      <td>NaN</td>\n",
       "      <td>NaN</td>\n",
       "      <td>NaN</td>\n",
       "      <td>NaN</td>\n",
       "      <td>NaN</td>\n",
       "      <td>NaN</td>\n",
       "      <td>NaN</td>\n",
       "      <td>NaN</td>\n",
       "      <td>NaN</td>\n",
       "      <td>NaN</td>\n",
       "      <td>NaN</td>\n",
       "      <td>NaN</td>\n",
       "      <td>0</td>\n",
       "      <td>1</td>\n",
       "      <td>0</td>\n",
       "      <td>0</td>\n",
       "      <td>0</td>\n",
       "      <td>0</td>\n",
       "      <td>3</td>\n",
       "      <td>187500.0</td>\n",
       "      <td>0</td>\n",
       "      <td>instrumentos musicales etnograficos folklorico...</td>\n",
       "      <td>57</td>\n",
       "      <td>0</td>\n",
       "    </tr>\n",
       "    <tr>\n",
       "      <th>68101</th>\n",
       "      <td>1</td>\n",
       "      <td>bronze</td>\n",
       "      <td>220.0</td>\n",
       "      <td>buy_it_now</td>\n",
       "      <td>Other</td>\n",
       "      <td>1</td>\n",
       "      <td>ARS</td>\n",
       "      <td>0</td>\n",
       "      <td>1</td>\n",
       "      <td>0</td>\n",
       "      <td>mercado_envios</td>\n",
       "      <td>0</td>\n",
       "      <td>0</td>\n",
       "      <td>0</td>\n",
       "      <td>0</td>\n",
       "      <td>1</td>\n",
       "      <td>0</td>\n",
       "      <td>0</td>\n",
       "      <td>1</td>\n",
       "      <td>1</td>\n",
       "      <td>3</td>\n",
       "      <td>0</td>\n",
       "      <td>NaN</td>\n",
       "      <td>NaN</td>\n",
       "      <td>NaN</td>\n",
       "      <td>NaN</td>\n",
       "      <td>NaN</td>\n",
       "      <td>NaN</td>\n",
       "      <td>NaN</td>\n",
       "      <td>NaN</td>\n",
       "      <td>NaN</td>\n",
       "      <td>NaN</td>\n",
       "      <td>NaN</td>\n",
       "      <td>NaN</td>\n",
       "      <td>NaN</td>\n",
       "      <td>NaN</td>\n",
       "      <td>NaN</td>\n",
       "      <td>NaN</td>\n",
       "      <td>NaN</td>\n",
       "      <td>NaN</td>\n",
       "      <td>NaN</td>\n",
       "      <td>NaN</td>\n",
       "      <td>NaN</td>\n",
       "      <td>NaN</td>\n",
       "      <td>NaN</td>\n",
       "      <td>NaN</td>\n",
       "      <td>NaN</td>\n",
       "      <td>NaN</td>\n",
       "      <td>NaN</td>\n",
       "      <td>NaN</td>\n",
       "      <td>NaN</td>\n",
       "      <td>NaN</td>\n",
       "      <td>NaN</td>\n",
       "      <td>NaN</td>\n",
       "      <td>NaN</td>\n",
       "      <td>NaN</td>\n",
       "      <td>NaN</td>\n",
       "      <td>NaN</td>\n",
       "      <td>NaN</td>\n",
       "      <td>NaN</td>\n",
       "      <td>NaN</td>\n",
       "      <td>NaN</td>\n",
       "      <td>NaN</td>\n",
       "      <td>NaN</td>\n",
       "      <td>NaN</td>\n",
       "      <td>NaN</td>\n",
       "      <td>NaN</td>\n",
       "      <td>NaN</td>\n",
       "      <td>NaN</td>\n",
       "      <td>NaN</td>\n",
       "      <td>NaN</td>\n",
       "      <td>NaN</td>\n",
       "      <td>NaN</td>\n",
       "      <td>NaN</td>\n",
       "      <td>NaN</td>\n",
       "      <td>NaN</td>\n",
       "      <td>NaN</td>\n",
       "      <td>NaN</td>\n",
       "      <td>NaN</td>\n",
       "      <td>NaN</td>\n",
       "      <td>NaN</td>\n",
       "      <td>NaN</td>\n",
       "      <td>NaN</td>\n",
       "      <td>NaN</td>\n",
       "      <td>NaN</td>\n",
       "      <td>NaN</td>\n",
       "      <td>NaN</td>\n",
       "      <td>NaN</td>\n",
       "      <td>NaN</td>\n",
       "      <td>NaN</td>\n",
       "      <td>NaN</td>\n",
       "      <td>NaN</td>\n",
       "      <td>NaN</td>\n",
       "      <td>NaN</td>\n",
       "      <td>NaN</td>\n",
       "      <td>NaN</td>\n",
       "      <td>NaN</td>\n",
       "      <td>NaN</td>\n",
       "      <td>NaN</td>\n",
       "      <td>NaN</td>\n",
       "      <td>NaN</td>\n",
       "      <td>NaN</td>\n",
       "      <td>NaN</td>\n",
       "      <td>NaN</td>\n",
       "      <td>NaN</td>\n",
       "      <td>NaN</td>\n",
       "      <td>NaN</td>\n",
       "      <td>NaN</td>\n",
       "      <td>NaN</td>\n",
       "      <td>NaN</td>\n",
       "      <td>NaN</td>\n",
       "      <td>NaN</td>\n",
       "      <td>NaN</td>\n",
       "      <td>NaN</td>\n",
       "      <td>NaN</td>\n",
       "      <td>NaN</td>\n",
       "      <td>NaN</td>\n",
       "      <td>NaN</td>\n",
       "      <td>NaN</td>\n",
       "      <td>NaN</td>\n",
       "      <td>0</td>\n",
       "      <td>1</td>\n",
       "      <td>0</td>\n",
       "      <td>0</td>\n",
       "      <td>0</td>\n",
       "      <td>0</td>\n",
       "      <td>3</td>\n",
       "      <td>187500.0</td>\n",
       "      <td>0</td>\n",
       "      <td>insignia clio porton clio 2 2011gt original re...</td>\n",
       "      <td>51</td>\n",
       "      <td>0</td>\n",
       "    </tr>\n",
       "    <tr>\n",
       "      <th>2634</th>\n",
       "      <td>0</td>\n",
       "      <td>bronze</td>\n",
       "      <td>900.0</td>\n",
       "      <td>buy_it_now</td>\n",
       "      <td>Other</td>\n",
       "      <td>1</td>\n",
       "      <td>ARS</td>\n",
       "      <td>0</td>\n",
       "      <td>1</td>\n",
       "      <td>0</td>\n",
       "      <td>mercado_envios</td>\n",
       "      <td>0</td>\n",
       "      <td>0</td>\n",
       "      <td>0</td>\n",
       "      <td>0</td>\n",
       "      <td>1</td>\n",
       "      <td>0</td>\n",
       "      <td>0</td>\n",
       "      <td>0</td>\n",
       "      <td>0</td>\n",
       "      <td>1</td>\n",
       "      <td>0</td>\n",
       "      <td>NaN</td>\n",
       "      <td>NaN</td>\n",
       "      <td>NaN</td>\n",
       "      <td>NaN</td>\n",
       "      <td>NaN</td>\n",
       "      <td>NaN</td>\n",
       "      <td>NaN</td>\n",
       "      <td>NaN</td>\n",
       "      <td>NaN</td>\n",
       "      <td>NaN</td>\n",
       "      <td>NaN</td>\n",
       "      <td>NaN</td>\n",
       "      <td>NaN</td>\n",
       "      <td>NaN</td>\n",
       "      <td>NaN</td>\n",
       "      <td>NaN</td>\n",
       "      <td>NaN</td>\n",
       "      <td>NaN</td>\n",
       "      <td>NaN</td>\n",
       "      <td>NaN</td>\n",
       "      <td>NaN</td>\n",
       "      <td>NaN</td>\n",
       "      <td>NaN</td>\n",
       "      <td>NaN</td>\n",
       "      <td>NaN</td>\n",
       "      <td>NaN</td>\n",
       "      <td>NaN</td>\n",
       "      <td>NaN</td>\n",
       "      <td>NaN</td>\n",
       "      <td>NaN</td>\n",
       "      <td>NaN</td>\n",
       "      <td>NaN</td>\n",
       "      <td>NaN</td>\n",
       "      <td>NaN</td>\n",
       "      <td>NaN</td>\n",
       "      <td>NaN</td>\n",
       "      <td>NaN</td>\n",
       "      <td>NaN</td>\n",
       "      <td>NaN</td>\n",
       "      <td>NaN</td>\n",
       "      <td>NaN</td>\n",
       "      <td>NaN</td>\n",
       "      <td>NaN</td>\n",
       "      <td>NaN</td>\n",
       "      <td>NaN</td>\n",
       "      <td>NaN</td>\n",
       "      <td>NaN</td>\n",
       "      <td>NaN</td>\n",
       "      <td>NaN</td>\n",
       "      <td>NaN</td>\n",
       "      <td>NaN</td>\n",
       "      <td>NaN</td>\n",
       "      <td>NaN</td>\n",
       "      <td>NaN</td>\n",
       "      <td>NaN</td>\n",
       "      <td>NaN</td>\n",
       "      <td>NaN</td>\n",
       "      <td>NaN</td>\n",
       "      <td>NaN</td>\n",
       "      <td>NaN</td>\n",
       "      <td>NaN</td>\n",
       "      <td>NaN</td>\n",
       "      <td>NaN</td>\n",
       "      <td>NaN</td>\n",
       "      <td>NaN</td>\n",
       "      <td>NaN</td>\n",
       "      <td>NaN</td>\n",
       "      <td>NaN</td>\n",
       "      <td>NaN</td>\n",
       "      <td>NaN</td>\n",
       "      <td>NaN</td>\n",
       "      <td>NaN</td>\n",
       "      <td>NaN</td>\n",
       "      <td>NaN</td>\n",
       "      <td>NaN</td>\n",
       "      <td>NaN</td>\n",
       "      <td>NaN</td>\n",
       "      <td>NaN</td>\n",
       "      <td>NaN</td>\n",
       "      <td>NaN</td>\n",
       "      <td>NaN</td>\n",
       "      <td>NaN</td>\n",
       "      <td>NaN</td>\n",
       "      <td>NaN</td>\n",
       "      <td>NaN</td>\n",
       "      <td>NaN</td>\n",
       "      <td>NaN</td>\n",
       "      <td>NaN</td>\n",
       "      <td>NaN</td>\n",
       "      <td>NaN</td>\n",
       "      <td>NaN</td>\n",
       "      <td>NaN</td>\n",
       "      <td>NaN</td>\n",
       "      <td>NaN</td>\n",
       "      <td>NaN</td>\n",
       "      <td>NaN</td>\n",
       "      <td>NaN</td>\n",
       "      <td>NaN</td>\n",
       "      <td>0</td>\n",
       "      <td>1</td>\n",
       "      <td>0</td>\n",
       "      <td>0</td>\n",
       "      <td>0</td>\n",
       "      <td>0</td>\n",
       "      <td>5</td>\n",
       "      <td>187500.0</td>\n",
       "      <td>0</td>\n",
       "      <td>locura jesus binetsangle</td>\n",
       "      <td>24</td>\n",
       "      <td>0</td>\n",
       "    </tr>\n",
       "    <tr>\n",
       "      <th>70635</th>\n",
       "      <td>0</td>\n",
       "      <td>bronze</td>\n",
       "      <td>100.0</td>\n",
       "      <td>buy_it_now</td>\n",
       "      <td>MLA2044</td>\n",
       "      <td>1</td>\n",
       "      <td>ARS</td>\n",
       "      <td>0</td>\n",
       "      <td>1</td>\n",
       "      <td>0</td>\n",
       "      <td>mercado_envios</td>\n",
       "      <td>0</td>\n",
       "      <td>0</td>\n",
       "      <td>0</td>\n",
       "      <td>0</td>\n",
       "      <td>0</td>\n",
       "      <td>0</td>\n",
       "      <td>0</td>\n",
       "      <td>0</td>\n",
       "      <td>0</td>\n",
       "      <td>0</td>\n",
       "      <td>0</td>\n",
       "      <td>NaN</td>\n",
       "      <td>NaN</td>\n",
       "      <td>NaN</td>\n",
       "      <td>NaN</td>\n",
       "      <td>NaN</td>\n",
       "      <td>NaN</td>\n",
       "      <td>NaN</td>\n",
       "      <td>NaN</td>\n",
       "      <td>NaN</td>\n",
       "      <td>NaN</td>\n",
       "      <td>NaN</td>\n",
       "      <td>NaN</td>\n",
       "      <td>NaN</td>\n",
       "      <td>NaN</td>\n",
       "      <td>NaN</td>\n",
       "      <td>NaN</td>\n",
       "      <td>NaN</td>\n",
       "      <td>NaN</td>\n",
       "      <td>NaN</td>\n",
       "      <td>NaN</td>\n",
       "      <td>NaN</td>\n",
       "      <td>NaN</td>\n",
       "      <td>NaN</td>\n",
       "      <td>NaN</td>\n",
       "      <td>NaN</td>\n",
       "      <td>NaN</td>\n",
       "      <td>NaN</td>\n",
       "      <td>NaN</td>\n",
       "      <td>NaN</td>\n",
       "      <td>NaN</td>\n",
       "      <td>NaN</td>\n",
       "      <td>NaN</td>\n",
       "      <td>NaN</td>\n",
       "      <td>NaN</td>\n",
       "      <td>NaN</td>\n",
       "      <td>NaN</td>\n",
       "      <td>NaN</td>\n",
       "      <td>NaN</td>\n",
       "      <td>NaN</td>\n",
       "      <td>NaN</td>\n",
       "      <td>NaN</td>\n",
       "      <td>NaN</td>\n",
       "      <td>NaN</td>\n",
       "      <td>NaN</td>\n",
       "      <td>NaN</td>\n",
       "      <td>NaN</td>\n",
       "      <td>NaN</td>\n",
       "      <td>NaN</td>\n",
       "      <td>NaN</td>\n",
       "      <td>NaN</td>\n",
       "      <td>NaN</td>\n",
       "      <td>NaN</td>\n",
       "      <td>NaN</td>\n",
       "      <td>NaN</td>\n",
       "      <td>NaN</td>\n",
       "      <td>NaN</td>\n",
       "      <td>NaN</td>\n",
       "      <td>NaN</td>\n",
       "      <td>NaN</td>\n",
       "      <td>NaN</td>\n",
       "      <td>NaN</td>\n",
       "      <td>NaN</td>\n",
       "      <td>NaN</td>\n",
       "      <td>NaN</td>\n",
       "      <td>NaN</td>\n",
       "      <td>NaN</td>\n",
       "      <td>NaN</td>\n",
       "      <td>NaN</td>\n",
       "      <td>NaN</td>\n",
       "      <td>NaN</td>\n",
       "      <td>NaN</td>\n",
       "      <td>NaN</td>\n",
       "      <td>NaN</td>\n",
       "      <td>NaN</td>\n",
       "      <td>NaN</td>\n",
       "      <td>NaN</td>\n",
       "      <td>NaN</td>\n",
       "      <td>NaN</td>\n",
       "      <td>NaN</td>\n",
       "      <td>NaN</td>\n",
       "      <td>NaN</td>\n",
       "      <td>NaN</td>\n",
       "      <td>NaN</td>\n",
       "      <td>NaN</td>\n",
       "      <td>NaN</td>\n",
       "      <td>NaN</td>\n",
       "      <td>NaN</td>\n",
       "      <td>NaN</td>\n",
       "      <td>NaN</td>\n",
       "      <td>NaN</td>\n",
       "      <td>NaN</td>\n",
       "      <td>NaN</td>\n",
       "      <td>NaN</td>\n",
       "      <td>NaN</td>\n",
       "      <td>NaN</td>\n",
       "      <td>NaN</td>\n",
       "      <td>NaN</td>\n",
       "      <td>NaN</td>\n",
       "      <td>0</td>\n",
       "      <td>1</td>\n",
       "      <td>0</td>\n",
       "      <td>0</td>\n",
       "      <td>0</td>\n",
       "      <td>0</td>\n",
       "      <td>3</td>\n",
       "      <td>187500.0</td>\n",
       "      <td>0</td>\n",
       "      <td>mario goloboff criador palomas</td>\n",
       "      <td>30</td>\n",
       "      <td>0</td>\n",
       "    </tr>\n",
       "    <tr>\n",
       "      <th>50</th>\n",
       "      <td>0</td>\n",
       "      <td>free</td>\n",
       "      <td>120.0</td>\n",
       "      <td>buy_it_now</td>\n",
       "      <td>Other</td>\n",
       "      <td>1</td>\n",
       "      <td>ARS</td>\n",
       "      <td>0</td>\n",
       "      <td>1</td>\n",
       "      <td>0</td>\n",
       "      <td>mercado_envios</td>\n",
       "      <td>0</td>\n",
       "      <td>0</td>\n",
       "      <td>0</td>\n",
       "      <td>0</td>\n",
       "      <td>0</td>\n",
       "      <td>0</td>\n",
       "      <td>0</td>\n",
       "      <td>0</td>\n",
       "      <td>0</td>\n",
       "      <td>0</td>\n",
       "      <td>0</td>\n",
       "      <td>NaN</td>\n",
       "      <td>NaN</td>\n",
       "      <td>NaN</td>\n",
       "      <td>NaN</td>\n",
       "      <td>NaN</td>\n",
       "      <td>NaN</td>\n",
       "      <td>NaN</td>\n",
       "      <td>NaN</td>\n",
       "      <td>NaN</td>\n",
       "      <td>NaN</td>\n",
       "      <td>NaN</td>\n",
       "      <td>NaN</td>\n",
       "      <td>NaN</td>\n",
       "      <td>NaN</td>\n",
       "      <td>NaN</td>\n",
       "      <td>NaN</td>\n",
       "      <td>NaN</td>\n",
       "      <td>NaN</td>\n",
       "      <td>NaN</td>\n",
       "      <td>NaN</td>\n",
       "      <td>NaN</td>\n",
       "      <td>NaN</td>\n",
       "      <td>NaN</td>\n",
       "      <td>NaN</td>\n",
       "      <td>NaN</td>\n",
       "      <td>NaN</td>\n",
       "      <td>NaN</td>\n",
       "      <td>NaN</td>\n",
       "      <td>NaN</td>\n",
       "      <td>NaN</td>\n",
       "      <td>NaN</td>\n",
       "      <td>NaN</td>\n",
       "      <td>NaN</td>\n",
       "      <td>NaN</td>\n",
       "      <td>NaN</td>\n",
       "      <td>NaN</td>\n",
       "      <td>NaN</td>\n",
       "      <td>NaN</td>\n",
       "      <td>NaN</td>\n",
       "      <td>NaN</td>\n",
       "      <td>NaN</td>\n",
       "      <td>NaN</td>\n",
       "      <td>NaN</td>\n",
       "      <td>NaN</td>\n",
       "      <td>NaN</td>\n",
       "      <td>NaN</td>\n",
       "      <td>NaN</td>\n",
       "      <td>NaN</td>\n",
       "      <td>NaN</td>\n",
       "      <td>NaN</td>\n",
       "      <td>NaN</td>\n",
       "      <td>NaN</td>\n",
       "      <td>NaN</td>\n",
       "      <td>NaN</td>\n",
       "      <td>NaN</td>\n",
       "      <td>NaN</td>\n",
       "      <td>NaN</td>\n",
       "      <td>NaN</td>\n",
       "      <td>NaN</td>\n",
       "      <td>NaN</td>\n",
       "      <td>NaN</td>\n",
       "      <td>NaN</td>\n",
       "      <td>NaN</td>\n",
       "      <td>NaN</td>\n",
       "      <td>NaN</td>\n",
       "      <td>NaN</td>\n",
       "      <td>NaN</td>\n",
       "      <td>NaN</td>\n",
       "      <td>NaN</td>\n",
       "      <td>NaN</td>\n",
       "      <td>NaN</td>\n",
       "      <td>NaN</td>\n",
       "      <td>NaN</td>\n",
       "      <td>NaN</td>\n",
       "      <td>NaN</td>\n",
       "      <td>NaN</td>\n",
       "      <td>NaN</td>\n",
       "      <td>NaN</td>\n",
       "      <td>NaN</td>\n",
       "      <td>NaN</td>\n",
       "      <td>NaN</td>\n",
       "      <td>NaN</td>\n",
       "      <td>NaN</td>\n",
       "      <td>NaN</td>\n",
       "      <td>NaN</td>\n",
       "      <td>NaN</td>\n",
       "      <td>NaN</td>\n",
       "      <td>NaN</td>\n",
       "      <td>NaN</td>\n",
       "      <td>NaN</td>\n",
       "      <td>NaN</td>\n",
       "      <td>NaN</td>\n",
       "      <td>NaN</td>\n",
       "      <td>NaN</td>\n",
       "      <td>NaN</td>\n",
       "      <td>NaN</td>\n",
       "      <td>NaN</td>\n",
       "      <td>NaN</td>\n",
       "      <td>0</td>\n",
       "      <td>1</td>\n",
       "      <td>0</td>\n",
       "      <td>0</td>\n",
       "      <td>0</td>\n",
       "      <td>0</td>\n",
       "      <td>2</td>\n",
       "      <td>187250.0</td>\n",
       "      <td>0</td>\n",
       "      <td>marx engels sistema colonial capitalismo</td>\n",
       "      <td>40</td>\n",
       "      <td>0</td>\n",
       "    </tr>\n",
       "  </tbody>\n",
       "</table>\n",
       "</div>"
      ],
      "text/plain": [
       "       condition listing_type_id  price buying_mode category_id  \\\n",
       "1344           0          bronze  180.0  buy_it_now       Other   \n",
       "68101          1          bronze  220.0  buy_it_now       Other   \n",
       "2634           0          bronze  900.0  buy_it_now       Other   \n",
       "70635          0          bronze  100.0  buy_it_now     MLA2044   \n",
       "50             0            free  120.0  buy_it_now       Other   \n",
       "\n",
       "       accepts_mercadopago currency_id  automatic_relist  initial_quantity  \\\n",
       "1344                     1         ARS                 0                 1   \n",
       "68101                    1         ARS                 0                 1   \n",
       "2634                     1         ARS                 0                 1   \n",
       "70635                    1         ARS                 0                 1   \n",
       "50                       1         ARS                 0                 1   \n",
       "\n",
       "       free_shipping   shipping_mode  pay_acordar  pay_cheque  pay_contra  \\\n",
       "1344               0  mercado_envios            0           0           0   \n",
       "68101              0  mercado_envios            0           0           0   \n",
       "2634               0  mercado_envios            0           0           0   \n",
       "70635              0  mercado_envios            0           0           0   \n",
       "50                 0  mercado_envios            0           0           0   \n",
       "\n",
       "       pay_diners  pay_efectivo  pay_giro  pay_mercadopago  pay_tarjeta  \\\n",
       "1344            0             1         0                0            1   \n",
       "68101           0             1         0                0            1   \n",
       "2634            0             1         0                0            0   \n",
       "70635           0             0         0                0            0   \n",
       "50              0             0         0                0            0   \n",
       "\n",
       "       pay_transferencia  n_payment_methods  has_variations attr_kilometros  \\\n",
       "1344                   1                  3               0             NaN   \n",
       "68101                  1                  3               0             NaN   \n",
       "2634                   0                  1               0             NaN   \n",
       "70635                  0                  0               0             NaN   \n",
       "50                     0                  0               0             NaN   \n",
       "\n",
       "      attr_modelo attr_ano attr_version attr_unidad_referencia attr_acceso  \\\n",
       "1344          NaN      NaN          NaN                    NaN         NaN   \n",
       "68101         NaN      NaN          NaN                    NaN         NaN   \n",
       "2634          NaN      NaN          NaN                    NaN         NaN   \n",
       "70635         NaN      NaN          NaN                    NaN         NaN   \n",
       "50            NaN      NaN          NaN                    NaN         NaN   \n",
       "\n",
       "      attr_distribucion attr_ancho attr_disposicion_lote  \\\n",
       "1344                NaN        NaN                   NaN   \n",
       "68101               NaN        NaN                   NaN   \n",
       "2634                NaN        NaN                   NaN   \n",
       "70635               NaN        NaN                   NaN   \n",
       "50                  NaN        NaN                   NaN   \n",
       "\n",
       "      attr_superficie_construible attr_forestacion attr_capacidad attr_altura  \\\n",
       "1344                          NaN              NaN            NaN         NaN   \n",
       "68101                         NaN              NaN            NaN         NaN   \n",
       "2634                          NaN              NaN            NaN         NaN   \n",
       "70635                         NaN              NaN            NaN         NaN   \n",
       "50                            NaN              NaN            NaN         NaN   \n",
       "\n",
       "      attr_largo attr_voltaje_nominal attr_polaridad attr_deposito  \\\n",
       "1344         NaN                  NaN            NaN           NaN   \n",
       "68101        NaN                  NaN            NaN           NaN   \n",
       "2634         NaN                  NaN            NaN           NaN   \n",
       "70635        NaN                  NaN            NaN           NaN   \n",
       "50           NaN                  NaN            NaN           NaN   \n",
       "\n",
       "      attr_sistema_contra_incendio attr_cancha_voley attr_salamandra  \\\n",
       "1344                           NaN               NaN             NaN   \n",
       "68101                          NaN               NaN             NaN   \n",
       "2634                           NaN               NaN             NaN   \n",
       "70635                          NaN               NaN             NaN   \n",
       "50                             NaN               NaN             NaN   \n",
       "\n",
       "      attr_grupo_eletrogeno attr_superficie_construida_m2  \\\n",
       "1344                    NaN                           NaN   \n",
       "68101                   NaN                           NaN   \n",
       "2634                    NaN                           NaN   \n",
       "70635                   NaN                           NaN   \n",
       "50                      NaN                           NaN   \n",
       "\n",
       "      attr_capacidad_carga_kg attr_capacidad_lastre_kg attr_medida_neumatico  \\\n",
       "1344                      NaN                      NaN                   NaN   \n",
       "68101                     NaN                      NaN                   NaN   \n",
       "2634                      NaN                      NaN                   NaN   \n",
       "70635                     NaN                      NaN                   NaN   \n",
       "50                        NaN                      NaN                   NaN   \n",
       "\n",
       "      attr_potencia_maxrpmcv attr_sistema_frenado attr_traccion  \\\n",
       "1344                     NaN                  NaN           NaN   \n",
       "68101                    NaN                  NaN           NaN   \n",
       "2634                     NaN                  NaN           NaN   \n",
       "70635                    NaN                  NaN           NaN   \n",
       "50                       NaN                  NaN           NaN   \n",
       "\n",
       "      attr_asiento_acompanante_regulable_en_altura  \\\n",
       "1344                                           NaN   \n",
       "68101                                          NaN   \n",
       "2634                                           NaN   \n",
       "70635                                          NaN   \n",
       "50                                             NaN   \n",
       "\n",
       "      attr_butaca_conductor_electrica attr_butacas_delanteras_termicas  \\\n",
       "1344                              NaN                              NaN   \n",
       "68101                             NaN                              NaN   \n",
       "2634                              NaN                              NaN   \n",
       "70635                             NaN                              NaN   \n",
       "50                                NaN                              NaN   \n",
       "\n",
       "      attr_butacas_regulables_con_memoria  \\\n",
       "1344                                  NaN   \n",
       "68101                                 NaN   \n",
       "2634                                  NaN   \n",
       "70635                                 NaN   \n",
       "50                                    NaN   \n",
       "\n",
       "      attr_espejos_exteriores_regulables_desde_el_interior  \\\n",
       "1344                                                 NaN     \n",
       "68101                                                NaN     \n",
       "2634                                                 NaN     \n",
       "70635                                                NaN     \n",
       "50                                                   NaN     \n",
       "\n",
       "      attr_levantavidrios_electricos_delanteros attr_limpialava_faros  \\\n",
       "1344                                        NaN                   NaN   \n",
       "68101                                       NaN                   NaN   \n",
       "2634                                        NaN                   NaN   \n",
       "70635                                       NaN                   NaN   \n",
       "50                                          NaN                   NaN   \n",
       "\n",
       "      attr_cinturones_inerciales_delanteros attr_frenos_disco_delanteros  \\\n",
       "1344                                    NaN                          NaN   \n",
       "68101                                   NaN                          NaN   \n",
       "2634                                    NaN                          NaN   \n",
       "70635                                   NaN                          NaN   \n",
       "50                                      NaN                          NaN   \n",
       "\n",
       "      attr_frenos_a_motor attr_llave_codificada attr_casco  \\\n",
       "1344                  NaN                   NaN        NaN   \n",
       "68101                 NaN                   NaN        NaN   \n",
       "2634                  NaN                   NaN        NaN   \n",
       "70635                 NaN                   NaN        NaN   \n",
       "50                    NaN                   NaN        NaN   \n",
       "\n",
       "      attr_distancia_al_asfalto_km attr_hectareas_totales attr_tipo_campo  \\\n",
       "1344                           NaN                    NaN             NaN   \n",
       "68101                          NaN                    NaN             NaN   \n",
       "2634                           NaN                    NaN             NaN   \n",
       "70635                          NaN                    NaN             NaN   \n",
       "50                             NaN                    NaN             NaN   \n",
       "\n",
       "      attr_adecuado_para_eventos attr_bar attr_juegos_infantiles  \\\n",
       "1344                         NaN      NaN                    NaN   \n",
       "68101                        NaN      NaN                    NaN   \n",
       "2634                         NaN      NaN                    NaN   \n",
       "70635                        NaN      NaN                    NaN   \n",
       "50                           NaN      NaN                    NaN   \n",
       "\n",
       "      attr_nombre_tiempo_compartido attr_tiempo attr_tipo_alojamiento  \\\n",
       "1344                            NaN         NaN                   NaN   \n",
       "68101                           NaN         NaN                   NaN   \n",
       "2634                            NaN         NaN                   NaN   \n",
       "70635                           NaN         NaN                   NaN   \n",
       "50                              NaN         NaN                   NaN   \n",
       "\n",
       "      attr_tipo_tiempo_compartido attr_recaudacion_mensual_  \\\n",
       "1344                          NaN                       NaN   \n",
       "68101                         NaN                       NaN   \n",
       "2634                          NaN                       NaN   \n",
       "70635                         NaN                       NaN   \n",
       "50                            NaN                       NaN   \n",
       "\n",
       "      attr_rampa_para_discapacitados attr_salidas_emergencia  \\\n",
       "1344                             NaN                     NaN   \n",
       "68101                            NaN                     NaN   \n",
       "2634                             NaN                     NaN   \n",
       "70635                            NaN                     NaN   \n",
       "50                               NaN                     NaN   \n",
       "\n",
       "      attr_tipo_fondo_comercio attr_ambientes_casco attr_antiguedad_casco  \\\n",
       "1344                       NaN                  NaN                   NaN   \n",
       "68101                      NaN                  NaN                   NaN   \n",
       "2634                       NaN                  NaN                   NaN   \n",
       "70635                      NaN                  NaN                   NaN   \n",
       "50                         NaN                  NaN                   NaN   \n",
       "\n",
       "      attr_bebederos attr_corrales attr_estado_casco attr_galpones  \\\n",
       "1344             NaN           NaN               NaN           NaN   \n",
       "68101            NaN           NaN               NaN           NaN   \n",
       "2634             NaN           NaN               NaN           NaN   \n",
       "70635            NaN           NaN               NaN           NaN   \n",
       "50               NaN           NaN               NaN           NaN   \n",
       "\n",
       "      attr_mangas attr_molinos attr_potreros attr_silos attr_tanques_agua  \\\n",
       "1344          NaN          NaN           NaN        NaN               NaN   \n",
       "68101         NaN          NaN           NaN        NaN               NaN   \n",
       "2634          NaN          NaN           NaN        NaN               NaN   \n",
       "70635         NaN          NaN           NaN        NaN               NaN   \n",
       "50            NaN          NaN           NaN        NaN               NaN   \n",
       "\n",
       "      attr_casa_casero attr_luz_a_motor attr_sup_cubierta_casco_m2  \\\n",
       "1344               NaN              NaN                        NaN   \n",
       "68101              NaN              NaN                        NaN   \n",
       "2634               NaN              NaN                        NaN   \n",
       "70635              NaN              NaN                        NaN   \n",
       "50                 NaN              NaN                        NaN   \n",
       "\n",
       "      attr_adjudicado attr_tipo_entrega attr_valor_cuota_  \\\n",
       "1344              NaN               NaN               NaN   \n",
       "68101             NaN               NaN               NaN   \n",
       "2634              NaN               NaN               NaN   \n",
       "70635             NaN               NaN               NaN   \n",
       "50                NaN               NaN               NaN   \n",
       "\n",
       "      attr_cantidad_cuotas attr_cantidad_cuotas_pagas attr_alto_mts  \\\n",
       "1344                   NaN                        NaN           NaN   \n",
       "68101                  NaN                        NaN           NaN   \n",
       "2634                   NaN                        NaN           NaN   \n",
       "70635                  NaN                        NaN           NaN   \n",
       "50                     NaN                        NaN           NaN   \n",
       "\n",
       "      attr_ancho_mts attr_largo_mts attr_marca_motor attr_cama_matrimonial  \\\n",
       "1344             NaN            NaN              NaN                   NaN   \n",
       "68101            NaN            NaN              NaN                   NaN   \n",
       "2634             NaN            NaN              NaN                   NaN   \n",
       "70635            NaN            NaN              NaN                   NaN   \n",
       "50               NaN            NaN              NaN                   NaN   \n",
       "\n",
       "      attr_grupo_electrogeno attr_heladera attr_instalacion_electrica  \\\n",
       "1344                     NaN           NaN                        NaN   \n",
       "68101                    NaN           NaN                        NaN   \n",
       "2634                     NaN           NaN                        NaN   \n",
       "70635                    NaN           NaN                        NaN   \n",
       "50                       NaN           NaN                        NaN   \n",
       "\n",
       "      attr_television attr_radio attr_pelicula_seguridad attr_licencia  \\\n",
       "1344              NaN        NaN                     NaN           NaN   \n",
       "68101             NaN        NaN                     NaN           NaN   \n",
       "2634              NaN        NaN                     NaN           NaN   \n",
       "70635             NaN        NaN                     NaN           NaN   \n",
       "50                NaN        NaN                     NaN           NaN   \n",
       "\n",
       "      attr_carroceria attr_quantidade_andares attr_butacas_reclinables  \\\n",
       "1344              NaN                     NaN                      NaN   \n",
       "68101             NaN                     NaN                      NaN   \n",
       "2634              NaN                     NaN                      NaN   \n",
       "70635             NaN                     NaN                      NaN   \n",
       "50                NaN                     NaN                      NaN   \n",
       "\n",
       "      attr_luz_lectura attr_musica_ambiente attr_ventanas_panoramicas  \\\n",
       "1344               NaN                  NaN                       NaN   \n",
       "68101              NaN                  NaN                       NaN   \n",
       "2634               NaN                  NaN                       NaN   \n",
       "70635              NaN                  NaN                       NaN   \n",
       "50                 NaN                  NaN                       NaN   \n",
       "\n",
       "      attr_video attr_tanque_agua attr_altura_techo_m attr_tipo_inmueble  \\\n",
       "1344         NaN              NaN                 NaN                NaN   \n",
       "68101        NaN              NaN                 NaN                NaN   \n",
       "2634         NaN              NaN                 NaN                NaN   \n",
       "70635        NaN              NaN                 NaN                NaN   \n",
       "50           NaN              NaN                 NaN                NaN   \n",
       "\n",
       "      attr_desde_fecha attr_hasta_fecha attr_nombre_cementerio  n_attributes  \\\n",
       "1344               NaN              NaN                    NaN             0   \n",
       "68101              NaN              NaN                    NaN             0   \n",
       "2634               NaN              NaN                    NaN             0   \n",
       "70635              NaN              NaN                    NaN             0   \n",
       "50                 NaN              NaN                    NaN             0   \n",
       "\n",
       "       dragged_bids_and_visits  dragged_visits  free_relist  \\\n",
       "1344                         1               0            0   \n",
       "68101                        1               0            0   \n",
       "2634                         1               0            0   \n",
       "70635                        1               0            0   \n",
       "50                           1               0            0   \n",
       "\n",
       "       good_quality_thumbnail  poor_quality_thumbnail  n_pictures  \\\n",
       "1344                        0                       0           3   \n",
       "68101                       0                       0           3   \n",
       "2634                        0                       0           5   \n",
       "70635                       0                       0           3   \n",
       "50                          0                       0           2   \n",
       "\n",
       "       pixels_per_picture  has_free_shipping  \\\n",
       "1344             187500.0                  0   \n",
       "68101            187500.0                  0   \n",
       "2634             187500.0                  0   \n",
       "70635            187500.0                  0   \n",
       "50               187250.0                  0   \n",
       "\n",
       "                                              title_norm  title_len  \\\n",
       "1344   instrumentos musicales etnograficos folklorico...         57   \n",
       "68101  insignia clio porton clio 2 2011gt original re...         51   \n",
       "2634                            locura jesus binetsangle         24   \n",
       "70635                     mario goloboff criador palomas         30   \n",
       "50              marx engels sistema colonial capitalismo         40   \n",
       "\n",
       "       is_official_store  \n",
       "1344                   0  \n",
       "68101                  0  \n",
       "2634                   0  \n",
       "70635                  0  \n",
       "50                     0  "
      ]
     },
     "execution_count": 99,
     "metadata": {},
     "output_type": "execute_result"
    }
   ],
   "source": [
    "df.sample(5)"
   ]
  },
  {
   "cell_type": "code",
   "execution_count": 100,
   "metadata": {},
   "outputs": [
    {
     "name": "stdout",
     "output_type": "stream",
     "text": [
      "New shape: (90000, 132)\n"
     ]
    }
   ],
   "source": [
    "print('New shape:', df.shape)"
   ]
  },
  {
   "cell_type": "markdown",
   "metadata": {},
   "source": [
    "There's still some work to do but that we'll be done at training time."
   ]
  },
  {
   "cell_type": "markdown",
   "metadata": {},
   "source": [
    "## Data Saving\n"
   ]
  },
  {
   "cell_type": "code",
   "execution_count": 102,
   "metadata": {},
   "outputs": [],
   "source": [
    "df.to_parquet(get_dataset_path('clean_items_train'), index=False)"
   ]
  }
 ],
 "metadata": {
  "kernelspec": {
   "display_name": ".env",
   "language": "python",
   "name": "python3"
  },
  "language_info": {
   "codemirror_mode": {
    "name": "ipython",
    "version": 3
   },
   "file_extension": ".py",
   "mimetype": "text/x-python",
   "name": "python",
   "nbconvert_exporter": "python",
   "pygments_lexer": "ipython3",
   "version": "3.12.4"
  }
 },
 "nbformat": 4,
 "nbformat_minor": 2
}
