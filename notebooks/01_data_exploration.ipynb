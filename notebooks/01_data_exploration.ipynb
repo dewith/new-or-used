{
 "cells": [
  {
   "cell_type": "markdown",
   "metadata": {},
   "source": [
    "# Dataset Exploration\n"
   ]
  },
  {
   "cell_type": "markdown",
   "metadata": {},
   "source": [
    "Here we are going to explore the dataset with thousands of Mercado Libre items to see which features are more suitable for our model.\n"
   ]
  },
  {
   "cell_type": "markdown",
   "metadata": {},
   "source": [
    "First we import the packages we need and set the palette for our plots.\n"
   ]
  },
  {
   "cell_type": "code",
   "execution_count": 1,
   "metadata": {},
   "outputs": [
    {
     "name": "stdout",
     "output_type": "stream",
     "text": [
      "Current working directory: /Users/dewith/Repos/new-or-used\n"
     ]
    }
   ],
   "source": [
    "import os\n",
    "\n",
    "for _ in range(3):\n",
    "    if os.path.exists(f'{os.getcwd()}/setup.py'):\n",
    "        break\n",
    "    os.chdir('..')\n",
    "print('Current working directory:', os.getcwd())"
   ]
  },
  {
   "cell_type": "code",
   "execution_count": 139,
   "metadata": {},
   "outputs": [],
   "source": [
    "import json\n",
    "import re\n",
    "import unicodedata\n",
    "\n",
    "import matplotlib.pyplot as plt\n",
    "import numpy as np\n",
    "import pandas as pd\n",
    "import seaborn as sns\n",
    "from matplotlib.ticker import FuncFormatter\n",
    "\n",
    "from src.utils.config import get_dataset_path\n",
    "from src.utils.styling import apply_styling, make_palette"
   ]
  },
  {
   "cell_type": "code",
   "execution_count": 3,
   "metadata": {},
   "outputs": [],
   "source": [
    "# Seaborn\n",
    "colors = make_palette()\n",
    "palette = colors['palette']\n",
    "apply_styling(colors)\n",
    "\n",
    "# Pandas\n",
    "pd.set_option('display.max_columns', 100)\n",
    "pd.set_option('display.max_rows', 100)\n",
    "pd.set_option('display.float_format', lambda x: f'{x:.3f}')\n",
    "pd.set_option('display.max_colwidth', 50)"
   ]
  },
  {
   "cell_type": "markdown",
   "metadata": {},
   "source": [
    "## Data Loading\n"
   ]
  },
  {
   "cell_type": "markdown",
   "metadata": {},
   "source": [
    "Read the jsonl file\n"
   ]
  },
  {
   "cell_type": "code",
   "execution_count": 4,
   "metadata": {},
   "outputs": [
    {
     "name": "stdout",
     "output_type": "stream",
     "text": [
      "Number of lines: 90000\n"
     ]
    }
   ],
   "source": [
    "train_path = get_dataset_path('raw_items_train')\n",
    "with open(train_path, 'r') as f:\n",
    "    lines = f.readlines()\n",
    "    dict_objects = [json.loads(line) for line in lines[:]]\n",
    "    print('Number of lines:', len(lines))"
   ]
  },
  {
   "cell_type": "markdown",
   "metadata": {},
   "source": [
    "Load the data into a pandas dataframe\n"
   ]
  },
  {
   "cell_type": "code",
   "execution_count": 7,
   "metadata": {},
   "outputs": [],
   "source": [
    "df = pd.DataFrame.from_records(dict_objects)"
   ]
  },
  {
   "cell_type": "markdown",
   "metadata": {},
   "source": [
    "## Data Exploration\n"
   ]
  },
  {
   "cell_type": "markdown",
   "metadata": {},
   "source": [
    "### Target variable\n",
    "\n",
    "Let's see the distribution of the target variable\n"
   ]
  },
  {
   "cell_type": "code",
   "execution_count": null,
   "metadata": {},
   "outputs": [],
   "source": [
    "target_column = 'condition'"
   ]
  },
  {
   "cell_type": "code",
   "execution_count": null,
   "metadata": {},
   "outputs": [
    {
     "data": {
      "image/png": "[encoded data removed]",
      "text/plain": [
       "<Figure size 500x350 with 1 Axes>"
      ]
     },
     "metadata": {},
     "output_type": "display_data"
    }
   ],
   "source": [
    "plt.figure(figsize=(5, 3.5), dpi=100)\n",
    "sns.barplot(\n",
    "    df[target_column].value_counts(dropna=False),\n",
    "    edgecolor=colors['lines'],\n",
    "    linewidth=0.6,\n",
    "    alpha=1,\n",
    ")\n",
    "plt.title(\"Distribution of the items' conditions\")\n",
    "plt.xlabel('')\n",
    "plt.ylabel('')\n",
    "sns.despine(left=True)\n",
    "plt.show()"
   ]
  },
  {
   "cell_type": "code",
   "execution_count": null,
   "metadata": {},
   "outputs": [
    {
     "name": "stdout",
     "output_type": "stream",
     "text": [
      "Majority class baseline: 0.537\n"
     ]
    }
   ],
   "source": [
    "df[target_column] = df[target_column].map({'new': 1, 'used': 0})\n",
    "print('Majority class baseline:', df.condition.mean().round(3))"
   ]
  },
  {
   "cell_type": "markdown",
   "metadata": {},
   "source": [
    "### Schema\n"
   ]
  },
  {
   "cell_type": "code",
   "execution_count": 8,
   "metadata": {},
   "outputs": [
    {
     "name": "stdout",
     "output_type": "stream",
     "text": [
      "{\n",
      "  \"seller_address\": {\n",
      "    \"country\": {\n",
      "      \"name\": \"Argentina\",\n",
      "      \"id\": \"AR\"\n",
      "    },\n",
      "    \"state\": {\n",
      "      \"name\": \"Capital Federal\",\n",
      "      \"id\": \"AR-C\"\n",
      "    },\n",
      "    \"city\": {\n",
      "      \"name\": \"San Crist\\u00f3bal\",\n",
      "      \"id\": \"TUxBQlNBTjkwNTZa\"\n",
      "    }\n",
      "  },\n",
      "  \"warranty\": null,\n",
      "  \"sub_status\": [],\n",
      "  \"condition\": \"new\",\n",
      "  \"deal_ids\": [],\n",
      "  \"base_price\": 80.0,\n",
      "  \"shipping\": {\n",
      "    \"local_pick_up\": true,\n",
      "    \"methods\": [],\n",
      "    \"tags\": [],\n",
      "    \"free_shipping\": false,\n",
      "    \"mode\": \"not_specified\",\n",
      "    \"dimensions\": null\n",
      "  },\n",
      "  \"non_mercado_pago_payment_methods\": [\n",
      "    {\n",
      "      \"description\": \"Transferencia bancaria\",\n",
      "      \"id\": \"MLATB\",\n",
      "      \"type\": \"G\"\n",
      "    },\n",
      "    {\n",
      "      \"description\": \"Acordar con el comprador\",\n",
      "      \"id\": \"MLAWC\",\n",
      "      \"type\": \"G\"\n",
      "    },\n",
      "    {\n",
      "      \"description\": \"Efectivo\",\n",
      "      \"id\": \"MLAMO\",\n",
      "      \"type\": \"G\"\n",
      "    }\n",
      "  ],\n",
      "  \"seller_id\": 8208882349,\n",
      "  \"variations\": [],\n",
      "  \"site_id\": \"MLA\",\n",
      "  \"listing_type_id\": \"bronze\",\n",
      "  \"price\": 80.0,\n",
      "  \"attributes\": [],\n",
      "  \"buying_mode\": \"buy_it_now\",\n",
      "  \"tags\": [\n",
      "    \"dragged_bids_and_visits\"\n",
      "  ],\n",
      "  \"listing_source\": \"\",\n",
      "  \"parent_item_id\": \"MLA6553902747\",\n",
      "  \"coverage_areas\": [],\n",
      "  \"category_id\": \"MLA126406\",\n",
      "  \"descriptions\": [\n",
      "    \"{'id': 'MLA4695330653-912855983'}\"\n",
      "  ],\n",
      "  \"last_updated\": \"2015-09-05T20:42:58.000Z\",\n",
      "  \"international_delivery_mode\": \"none\",\n",
      "  \"pictures\": [\n",
      "    {\n",
      "      \"size\": \"500x375\",\n",
      "      \"secure_url\": \"https://a248.e.akamai.net/mla-s1-p.mlstatic.com/5386-MLA4695330653_052013-O.jpg\",\n",
      "      \"max_size\": \"1200x900\",\n",
      "      \"url\": \"http://mla-s1-p.mlstatic.com/5386-MLA4695330653_052013-O.jpg\",\n",
      "      \"quality\": \"\",\n",
      "      \"id\": \"5386-MLA4695330653_052013\"\n",
      "    },\n",
      "    {\n",
      "      \"size\": \"500x375\",\n",
      "      \"secure_url\": \"https://a248.e.akamai.net/mla-s1-p.mlstatic.com/5361-MLA4695330653_052013-O.jpg\",\n",
      "      \"max_size\": \"1200x900\",\n",
      "      \"url\": \"http://mla-s1-p.mlstatic.com/5361-MLA4695330653_052013-O.jpg\",\n",
      "      \"quality\": \"\",\n",
      "      \"id\": \"5361-MLA4695330653_052013\"\n",
      "    }\n",
      "  ],\n",
      "  \"id\": \"MLA4695330653\",\n",
      "  \"official_store_id\": null,\n",
      "  \"differential_pricing\": null,\n",
      "  \"accepts_mercadopago\": true,\n",
      "  \"original_price\": null,\n",
      "  \"currency_id\": \"ARS\",\n",
      "  \"thumbnail\": \"http://mla-s1-p.mlstatic.com/5386-MLA4695330653_052013-I.jpg\",\n",
      "  \"title\": \"Auriculares Samsung Originales Manos Libres Cable Usb Oferta\",\n",
      "  \"automatic_relist\": false,\n",
      "  \"date_created\": \"2015-09-05T20:42:53.000Z\",\n",
      "  \"secure_thumbnail\": \"https://a248.e.akamai.net/mla-s1-p.mlstatic.com/5386-MLA4695330653_052013-I.jpg\",\n",
      "  \"stop_time\": 1446669773000,\n",
      "  \"status\": \"active\",\n",
      "  \"video_id\": null,\n",
      "  \"catalog_product_id\": null,\n",
      "  \"subtitle\": null,\n",
      "  \"initial_quantity\": 1,\n",
      "  \"start_time\": 1441485773000,\n",
      "  \"permalink\": \"http://articulo.mercadolibre.com.ar/MLA4695330653-auriculares-samsung-originales-manos-libres-cable-usb-oferta-_JM\",\n",
      "  \"sold_quantity\": 0,\n",
      "  \"available_quantity\": 1\n",
      "}\n"
     ]
    }
   ],
   "source": [
    "print(json.dumps(dict_objects[0], indent=2))"
   ]
  },
  {
   "cell_type": "markdown",
   "metadata": {},
   "source": [
    "#### Dtypes\n"
   ]
  },
  {
   "cell_type": "code",
   "execution_count": 9,
   "metadata": {},
   "outputs": [
    {
     "name": "stdout",
     "output_type": "stream",
     "text": [
      "<class 'bool'>:\n",
      "  accepts_mercadopago\n",
      "  automatic_relist\n",
      "\n",
      "<class 'str'>:\n",
      "  condition\n",
      "  site_id\n",
      "  listing_type_id\n",
      "  buying_mode\n",
      "  listing_source\n",
      "  parent_item_id\n",
      "  category_id\n",
      "  last_updated\n",
      "  international_delivery_mode\n",
      "  id\n",
      "  currency_id\n",
      "  thumbnail\n",
      "  title\n",
      "  date_created\n",
      "  secure_thumbnail\n",
      "  status\n",
      "  permalink\n",
      "\n",
      "<class 'dict'>:\n",
      "  seller_address\n",
      "  shipping\n",
      "\n",
      "<class 'list'>:\n",
      "  sub_status\n",
      "  deal_ids\n",
      "  non_mercado_pago_payment_methods\n",
      "  variations\n",
      "  attributes\n",
      "  tags\n",
      "  coverage_areas\n",
      "  descriptions\n",
      "  pictures\n",
      "\n",
      "<class 'float'>:\n",
      "  base_price\n",
      "  price\n",
      "\n",
      "<class 'int'>:\n",
      "  seller_id\n",
      "  stop_time\n",
      "  initial_quantity\n",
      "  start_time\n",
      "  sold_quantity\n",
      "  available_quantity\n",
      "\n",
      "<class 'NoneType'>:\n",
      "  warranty\n",
      "  official_store_id\n",
      "  differential_pricing\n",
      "  original_price\n",
      "  video_id\n",
      "  catalog_product_id\n",
      "  subtitle\n",
      "\n"
     ]
    }
   ],
   "source": [
    "dtypes = {k: type(v) for k, v in dict_objects[0].items()}\n",
    "for dtype in set(dtypes.values()):\n",
    "    print(f'{dtype}:')\n",
    "    for k, v in dtypes.items():\n",
    "        if v == dtype:\n",
    "            print(f'  {k}')\n",
    "    print()"
   ]
  },
  {
   "cell_type": "markdown",
   "metadata": {},
   "source": [
    "### Boolean columns"
   ]
  },
  {
   "cell_type": "markdown",
   "metadata": {},
   "source": [
    "#### Accepts mercadopago"
   ]
  },
  {
   "cell_type": "code",
   "execution_count": null,
   "metadata": {},
   "outputs": [],
   "source": []
  },
  {
   "cell_type": "markdown",
   "metadata": {},
   "source": [
    "#### Automatic relist"
   ]
  },
  {
   "cell_type": "code",
   "execution_count": null,
   "metadata": {},
   "outputs": [],
   "source": []
  },
  {
   "cell_type": "markdown",
   "metadata": {},
   "source": [
    "### Categorical features"
   ]
  },
  {
   "cell_type": "code",
   "execution_count": null,
   "metadata": {},
   "outputs": [],
   "source": []
  },
  {
   "cell_type": "markdown",
   "metadata": {},
   "source": [
    "### Numerical features"
   ]
  },
  {
   "cell_type": "code",
   "execution_count": null,
   "metadata": {},
   "outputs": [],
   "source": []
  },
  {
   "cell_type": "markdown",
   "metadata": {},
   "source": [
    "### Dictionary columns\n"
   ]
  },
  {
   "cell_type": "markdown",
   "metadata": {},
   "source": [
    "##### Seller address\n",
    "\n",
    "Extract location information from the dictionary\n"
   ]
  },
  {
   "cell_type": "code",
   "execution_count": 15,
   "metadata": {},
   "outputs": [],
   "source": [
    "location_features = ['country', 'state', 'city']\n",
    "for feature in location_features:\n",
    "    df[feature] = df['seller_address'].apply(\n",
    "        lambda x, k=feature: x.get(k, {}).get('name', None)\n",
    "    )\n",
    "\n",
    "df.drop(columns=['seller_address'], inplace=True)"
   ]
  },
  {
   "cell_type": "markdown",
   "metadata": {},
   "source": [
    "##### Shipping\n",
    "\n",
    "Extract shipping information from the dictionary\n"
   ]
  },
  {
   "cell_type": "code",
   "execution_count": 16,
   "metadata": {},
   "outputs": [],
   "source": [
    "shipping_df = pd.json_normalize(df['shipping'])\n",
    "shipping_df.columns = [\n",
    "    'local_pick_up',\n",
    "    'shipping_methods',\n",
    "    'shipping_tags',\n",
    "    'free_shipping',\n",
    "    'shipping_mode',\n",
    "    'dimensions',\n",
    "    'shipping_free_methods',\n",
    "]\n",
    "\n",
    "df = pd.concat([df.drop('shipping', axis=1), shipping_df], axis=1)"
   ]
  },
  {
   "cell_type": "markdown",
   "metadata": {},
   "source": [
    "### List columns\n"
   ]
  },
  {
   "cell_type": "code",
   "execution_count": 17,
   "metadata": {},
   "outputs": [],
   "source": [
    "list_cols = [\n",
    "    'sub_status',\n",
    "    'deal_ids',\n",
    "    'non_mercado_pago_payment_methods',\n",
    "    'variations',\n",
    "    'attributes',\n",
    "    'tags',\n",
    "    'coverage_areas',\n",
    "    'descriptions',\n",
    "    'pictures',\n",
    "]"
   ]
  },
  {
   "cell_type": "code",
   "execution_count": 18,
   "metadata": {},
   "outputs": [
    {
     "name": "stdout",
     "output_type": "stream",
     "text": [
      "sub_status\n",
      "Unique values: 4\n",
      "[]: 89109\n",
      "['deleted']: 7\n",
      "['expired']: 13\n",
      "['suspended']: 871\n",
      "------------------------------------------------------------\n",
      "deal_ids\n",
      "Unique values: 31\n",
      "------------------------------------------------------------\n",
      "non_mercado_pago_payment_methods\n",
      "'<' not supported between instances of 'dict' and 'dict'\n",
      "------------------------------------------------------------\n",
      "variations\n",
      "'<' not supported between instances of 'dict' and 'dict'\n",
      "------------------------------------------------------------\n",
      "attributes\n",
      "'<' not supported between instances of 'dict' and 'dict'\n",
      "------------------------------------------------------------\n",
      "tags\n",
      "Unique values: 8\n",
      "[]: 22412\n",
      "['dragged_bids_and_visits']: 65315\n",
      "['dragged_visits']: 464\n",
      "['dragged_visits', 'free_relist']: 259\n",
      "['good_quality_thumbnail']: 346\n",
      "['good_quality_thumbnail', 'dragged_bids_and_visits']: 1191\n",
      "['poor_quality_thumbnail']: 3\n",
      "['poor_quality_thumbnail', 'dragged_bids_and_visits']: 10\n",
      "------------------------------------------------------------\n",
      "coverage_areas\n",
      "Unique values: 1\n",
      "[]: 90000\n",
      "------------------------------------------------------------\n",
      "descriptions\n",
      "Unique values: 87584\n",
      "------------------------------------------------------------\n",
      "pictures\n",
      "'<' not supported between instances of 'dict' and 'dict'\n",
      "------------------------------------------------------------\n"
     ]
    }
   ],
   "source": [
    "for col in list_cols:\n",
    "    print(col)\n",
    "    try:\n",
    "        values, counts = np.unique(df[col].values, return_counts=True)\n",
    "        print('Unique values:', len(values))\n",
    "        if len(values) < 10:\n",
    "            print('\\n'.join([f'{v}: {c}' for v, c in zip(values, counts)]))\n",
    "    except Exception as e:\n",
    "        print(e)\n",
    "    print('-' * 60)"
   ]
  },
  {
   "cell_type": "markdown",
   "metadata": {},
   "source": [
    "##### Substatus\n",
    "\n",
    "Make it a string instead of a list\n"
   ]
  },
  {
   "cell_type": "code",
   "execution_count": 19,
   "metadata": {},
   "outputs": [],
   "source": [
    "df['sub_status'] = df['sub_status'].apply(lambda x: x[0] if x else np.nan)"
   ]
  },
  {
   "cell_type": "markdown",
   "metadata": {},
   "source": [
    "#### Deal ids\n",
    "\n",
    "Drop this column since most of the values are empty\n"
   ]
  },
  {
   "cell_type": "code",
   "execution_count": 22,
   "metadata": {},
   "outputs": [],
   "source": [
    "df.drop(columns=['deal_ids'], inplace=True)"
   ]
  },
  {
   "cell_type": "markdown",
   "metadata": {},
   "source": [
    "#### Non mercado pago payment methods\n",
    "\n",
    "Make each payment method a flag column\n"
   ]
  },
  {
   "cell_type": "code",
   "execution_count": 45,
   "metadata": {},
   "outputs": [
    {
     "data": {
      "text/plain": [
       "{'Acordar con el comprador',\n",
       " 'American Express',\n",
       " 'Cheque certificado',\n",
       " 'Contra reembolso',\n",
       " 'Diners',\n",
       " 'Efectivo',\n",
       " 'Giro postal',\n",
       " 'MasterCard',\n",
       " 'Mastercard Maestro',\n",
       " 'MercadoPago',\n",
       " 'Tarjeta de crédito',\n",
       " 'Transferencia bancaria',\n",
       " 'Visa',\n",
       " 'Visa Electron'}"
      ]
     },
     "execution_count": 45,
     "metadata": {},
     "output_type": "execute_result"
    }
   ],
   "source": [
    "all_payment_methods = set()\n",
    "for x in df['non_mercado_pago_payment_methods'].values:\n",
    "    if x:\n",
    "        for method in x:\n",
    "            all_payment_methods.add(method['description'])\n",
    "all_payment_methods"
   ]
  },
  {
   "cell_type": "code",
   "execution_count": 47,
   "metadata": {},
   "outputs": [],
   "source": [
    "def extract_payment_methods(payment_methods):\n",
    "    \"\"\"Extract payment methods from a list of dictionaries.\"\"\"\n",
    "    if not payment_methods:\n",
    "        return None\n",
    "\n",
    "    card_prefixes = {'visa', 'mastercard', 'american'}\n",
    "\n",
    "    def categorize_method(method):\n",
    "        description = method['description'].lower()\n",
    "        return (\n",
    "            'pay_tarjeta'\n",
    "            if any(description.startswith(prefix) for prefix in card_prefixes)\n",
    "            else f'pay_{description.split()[0]}'\n",
    "        )\n",
    "\n",
    "    unique_methods = {categorize_method(method) for method in payment_methods}\n",
    "    return ' / '.join(unique_methods)\n",
    "\n",
    "\n",
    "# Extract payment methods\n",
    "payment_df = df['non_mercado_pago_payment_methods'].apply(extract_payment_methods)\n",
    "payment_methods_dummies = payment_df.str.get_dummies(sep=' / ')\n",
    "payment_methods_dummies['n_payment_methods'] = payment_methods_dummies.sum(axis=1)\n",
    "df = pd.concat([df, payment_methods_dummies], axis=1)\n",
    "df.drop(columns=['non_mercado_pago_payment_methods'], inplace=True)"
   ]
  },
  {
   "cell_type": "markdown",
   "metadata": {},
   "source": [
    "#### Variations\n",
    "\n",
    "Make a binary column if the item has variations or not\n"
   ]
  },
  {
   "cell_type": "code",
   "execution_count": 50,
   "metadata": {},
   "outputs": [],
   "source": [
    "df['has_variations'] = df['variations'].apply(lambda x: 1 if x else 0)\n",
    "df.drop(columns=['variations'], inplace=True)"
   ]
  },
  {
   "cell_type": "markdown",
   "metadata": {},
   "source": [
    "#### Attributes\n",
    "\n",
    "Extract the attributes from the dictionary and use the most informative ones\n"
   ]
  },
  {
   "cell_type": "code",
   "execution_count": 51,
   "metadata": {},
   "outputs": [],
   "source": [
    "def clean_name(name):\n",
    "    \"\"\"Normalize attribute names\"\"\"\n",
    "    name = re.sub(r'[^\\w\\s]', '', name)\n",
    "    name = re.sub(r'\\s+', ' ', name)\n",
    "    name = re.sub(r'\\b(de|del)\\s+', '', name, flags=re.IGNORECASE)\n",
    "    name = name.replace(' ', '_').lower().strip()\n",
    "    name = unicodedata.normalize('NFKD', name).encode('ascii', 'ignore').decode('utf-8')\n",
    "    return name\n",
    "\n",
    "\n",
    "# Flatten and consolidate attributes\n",
    "len_mask = df['attributes'].apply(lambda x: len(x)) > 0\n",
    "attributes_df = pd.json_normalize(df.loc[len_mask, 'attributes'])\n",
    "all_attributes = attributes_df.values.tolist()\n",
    "\n",
    "attributes = []\n",
    "for row in all_attributes:\n",
    "    for attribute in row:\n",
    "        if attribute:\n",
    "            attribute_name = clean_name(attribute['name'])\n",
    "            value = clean_name(attribute['value_name'])\n",
    "            attributes.append({'attribute': attribute_name, 'value': value})\n",
    "\n",
    "attributes_df = pd.DataFrame(attributes)\n",
    "common_attributes = (attributes_df['attribute'].value_counts() >= 100).index.tolist()"
   ]
  },
  {
   "cell_type": "code",
   "execution_count": 52,
   "metadata": {},
   "outputs": [],
   "source": [
    "def consolidate_attributes(attributes):\n",
    "    \"\"\"Consolidate attributes\"\"\"\n",
    "    new_attributes = {}\n",
    "    for attribute in attributes:\n",
    "        attribute_name = clean_name(attribute['name'])\n",
    "        value = clean_name(attribute['value_name'])\n",
    "        if (attribute_name in common_attributes) and ('pieza' not in attribute_name):\n",
    "            new_attributes[f'attr_{attribute_name}'] = value\n",
    "\n",
    "    return new_attributes\n",
    "\n",
    "\n",
    "# Consolidate attributes\n",
    "attributes_dict_df = df['attributes'].apply(consolidate_attributes).to_frame()\n",
    "attributes_normalized_df = pd.json_normalize(attributes_dict_df['attributes'])\n",
    "attributes_dict_df = pd.concat([df[['condition']], attributes_normalized_df], axis=1)\n",
    "attributes_dict_df.fillna('missing', inplace=True)"
   ]
  },
  {
   "cell_type": "markdown",
   "metadata": {},
   "source": [
    "The hypothesis is that what is informative is not the value of the attribute but if the\n",
    "item has that attribute or not. For example, the value of the attribute \"antigüedad\" is not\n",
    "informative, but if the item has the attribute \"antigüedad\" is informative for our task.\n",
    "\n",
    "To test this hypothesis we will use the gini impurity to see which attributes are more informative.\n"
   ]
  },
  {
   "cell_type": "code",
   "execution_count": 53,
   "metadata": {},
   "outputs": [],
   "source": [
    "def gini_impurity(value_counts):\n",
    "    n = value_counts.sum()\n",
    "    p_sum = 0\n",
    "    for key in value_counts.keys():\n",
    "        p_sum = p_sum + (value_counts[key] / n) * (value_counts[key] / n)\n",
    "    gini = 1 - p_sum\n",
    "    return gini\n",
    "\n",
    "\n",
    "# Calculate Gini Impurity for the class\n",
    "class_value_counts = attributes_dict_df[target_column].value_counts()\n",
    "gini_class = gini_impurity(class_value_counts)\n",
    "\n",
    "# Calculate Gini Impurity for each attribute\n",
    "gini_attiribute = {}\n",
    "for attribute_name in attributes_dict_df.columns[1:]:\n",
    "    # We remove the missing values to compute the gini of the attribute alone.\n",
    "    # Since most items have no attributes, the nulls bias the gini a lot.\n",
    "    attributes_dict_df_A = attributes_dict_df[['condition', attribute_name]].query(\n",
    "        f'{attribute_name} != \"missing\"'\n",
    "    )\n",
    "    attribute_values = attributes_dict_df_A[attribute_name].value_counts()\n",
    "    gini_A = 0\n",
    "    for key in attribute_values.keys():\n",
    "        key_mask = attributes_dict_df_A[attribute_name] == key\n",
    "        df_k = attributes_dict_df_A[target_column][key_mask].value_counts()\n",
    "        n_k = attribute_values[key]\n",
    "        n = attributes_dict_df_A.shape[0]\n",
    "        gini_k = gini_impurity(df_k)\n",
    "        gini_A += (n_k / n) * gini_k\n",
    "\n",
    "    gini_attiribute[attribute_name] = gini_A\n",
    "\n",
    "gini_df = pd.DataFrame.from_dict(gini_attiribute, orient='index', columns=['gini'])"
   ]
  },
  {
   "cell_type": "markdown",
   "metadata": {},
   "source": [
    "Let's plot the distribution of the gini impurity for each attribute\n"
   ]
  },
  {
   "cell_type": "code",
   "execution_count": 55,
   "metadata": {},
   "outputs": [
    {
     "name": "stdout",
     "output_type": "stream",
     "text": [
      "\n",
      "Gini Impurity of the class is 0.497\n"
     ]
    },
    {
     "data": {
      "image/png": "[encoded data removed]",
      "text/plain": [
       "<Figure size 1000x350 with 1 Axes>"
      ]
     },
     "metadata": {},
     "output_type": "display_data"
    }
   ],
   "source": [
    "print(f'\\nGini Impurity of the class is {gini_class:.3f}')\n",
    "\n",
    "plt.figure(figsize=(10, 3.5), dpi=100)\n",
    "sns.histplot(\n",
    "    gini_df.gini,\n",
    "    bins=50,\n",
    "    stat='count',\n",
    "    color='#fed906',\n",
    "    edgecolor=colors['lines'],\n",
    "    linewidth=0.6,\n",
    "    alpha=1,\n",
    ")\n",
    "plt.title('Gini Impurity of Attributes')\n",
    "plt.xlabel('')\n",
    "sns.despine(left=True)\n",
    "plt.show()"
   ]
  },
  {
   "cell_type": "markdown",
   "metadata": {},
   "source": [
    "Let's keep the attributes below 0.15 of gini impurity\n"
   ]
  },
  {
   "cell_type": "code",
   "execution_count": 65,
   "metadata": {},
   "outputs": [
    {
     "name": "stdout",
     "output_type": "stream",
     "text": [
      "Number of valid attributes: 98\n"
     ]
    }
   ],
   "source": [
    "valid_attributes = gini_df[gini_df['gini'] < 0.15].index.tolist()\n",
    "print(f'Number of valid attributes: {len(valid_attributes)}')"
   ]
  },
  {
   "cell_type": "markdown",
   "metadata": {},
   "source": [
    "Now let process the column in the main dataframe\n"
   ]
  },
  {
   "cell_type": "code",
   "execution_count": 76,
   "metadata": {},
   "outputs": [],
   "source": [
    "def consolidate_attributes(attributes):\n",
    "    \"\"\"Consolidate attributes\"\"\"\n",
    "    if not attributes:\n",
    "        return None\n",
    "    new_attributes = {}\n",
    "    for attribute in attributes:\n",
    "        attribute_name = 'attr_' + clean_name(attribute['name'])\n",
    "        value = clean_name(attribute['value_name'])\n",
    "        if attribute_name in valid_attributes:\n",
    "            new_attributes[f'{attribute_name}'] = value\n",
    "    return new_attributes\n",
    "\n",
    "\n",
    "# Consolidate attributes\n",
    "attributes_series = df['attributes'].apply(consolidate_attributes)\n",
    "attributes_normalized_df = pd.json_normalize(attributes_series)\n",
    "attributes_normalized_df['n_attributes'] = attributes_normalized_df.notna().sum(axis=1)\n",
    "\n",
    "# Join with original DataFrame\n",
    "df = pd.concat([df, attributes_normalized_df], axis=1)\n",
    "df.drop(columns=['attributes'], inplace=True)"
   ]
  },
  {
   "cell_type": "markdown",
   "metadata": {},
   "source": [
    "#### Tags\n",
    "\n",
    "Turn the tags into flag columns\n"
   ]
  },
  {
   "cell_type": "code",
   "execution_count": 80,
   "metadata": {},
   "outputs": [],
   "source": [
    "df['tags_str'] = df['tags'].apply(lambda x: ' / '.join(x))\n",
    "tags_dummies = df['tags_str'].str.get_dummies(sep=' / ')\n",
    "df = pd.concat([df, tags_dummies], axis=1)\n",
    "df.drop(columns=['tags', 'tags_str'], inplace=True)"
   ]
  },
  {
   "cell_type": "markdown",
   "metadata": {},
   "source": [
    "#### Coverage areas\n",
    "\n",
    "Drop this column since it is empty\n"
   ]
  },
  {
   "cell_type": "code",
   "execution_count": null,
   "metadata": {},
   "outputs": [],
   "source": [
    "# coverage_areas\n",
    "# Drop this column since it is empty\n",
    "df.drop(columns=['coverage_areas'], inplace=True)"
   ]
  },
  {
   "cell_type": "markdown",
   "metadata": {},
   "source": [
    "#### Descriptions\n",
    "\n",
    "Drop descriptions since they are all unique\n"
   ]
  },
  {
   "cell_type": "code",
   "execution_count": null,
   "metadata": {},
   "outputs": [],
   "source": [
    "print(df.descriptions.sample(3))\n",
    "df[['descriptions']].apply(lambda x: x.str.len().value_counts(dropna=False))"
   ]
  },
  {
   "cell_type": "markdown",
   "metadata": {},
   "source": [
    "#### Pictures\n",
    "\n",
    "Only keep the number of pictures and the average resolution\n"
   ]
  },
  {
   "cell_type": "code",
   "execution_count": 82,
   "metadata": {},
   "outputs": [],
   "source": [
    "df['n_pictures'] = df['pictures'].apply(len)"
   ]
  },
  {
   "cell_type": "code",
   "execution_count": 112,
   "metadata": {},
   "outputs": [],
   "source": [
    "def get_pixels(size):\n",
    "    \"\"\"Get the number of pixels of a picture.\"\"\"\n",
    "    w, h = map(int, size.split('x'))\n",
    "    return w * h\n",
    "\n",
    "\n",
    "df['pixels_per_picture'] = df['pictures'].apply(\n",
    "    lambda x: np.median(\n",
    "        [get_pixels(picture['size']) for picture in x if picture['size']]\n",
    "    )\n",
    "    if x\n",
    "    else np.nan\n",
    ")"
   ]
  },
  {
   "cell_type": "code",
   "execution_count": 140,
   "metadata": {},
   "outputs": [
    {
     "data": {
      "image/png": "[encoded data removed]",
      "text/plain": [
       "<Figure size 800x400 with 2 Axes>"
      ]
     },
     "metadata": {},
     "output_type": "display_data"
    }
   ],
   "source": [
    "fig, axes = plt.subplots(nrows=1, ncols=2, figsize=(8, 4), dpi=100)\n",
    "\n",
    "std_params = {\n",
    "    'x': 'condition',\n",
    "    'data': df,\n",
    "    'fliersize': 0,\n",
    "    'linewidth': 0.6,\n",
    "    'linecolor': colors['lines'],\n",
    "    'legend': False,\n",
    "}\n",
    "\n",
    "# Number of pictures plot\n",
    "sns.boxplot(y='n_pictures', ax=axes[0], **std_params)\n",
    "axes[0].set_title('Number of pictures by condition')\n",
    "axes[0].set_ylabel('Pictures')\n",
    "axes[0].set_ylim(None, 21)\n",
    "\n",
    "# Image size plot\n",
    "sns.boxplot(y='pixels_per_picture', color=palette[2], ax=axes[1], **std_params)\n",
    "axes[1].set_title('Pixels of pictures by condition')\n",
    "axes[1].set_ylabel('Pixels')\n",
    "axes[1].set_ylim(50_000, 280_000)\n",
    "axes[1].yaxis.set_major_formatter(FuncFormatter(lambda x, _: f'{x / 1_000:.0f}k'))\n",
    "\n",
    "# Common ax settings\n",
    "for ax in axes:\n",
    "    ax.set_xlabel('')\n",
    "    ax.set_xticks([0, 1])\n",
    "    ax.set_xticklabels(['Used', 'New'])\n",
    "    ax.spines[['left', 'bottom']].set_visible(False)\n",
    "\n",
    "plt.tight_layout(w_pad=5)\n",
    "plt.show()"
   ]
  }
 ],
 "metadata": {
  "kernelspec": {
   "display_name": ".env",
   "language": "python",
   "name": "python3"
  },
  "language_info": {
   "codemirror_mode": {
    "name": "ipython",
    "version": 3
   },
   "file_extension": ".py",
   "mimetype": "text/x-python",
   "name": "python",
   "nbconvert_exporter": "python",
   "pygments_lexer": "ipython3",
   "version": "3.12.4"
  }
 },
 "nbformat": 4,
 "nbformat_minor": 2
}
