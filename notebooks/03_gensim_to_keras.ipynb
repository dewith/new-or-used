{
 "cells": [
  {
   "cell_type": "markdown",
   "id": "0",
   "metadata": {},
   "source": [
    "# Keras Model Building"
   ]
  },
  {
   "cell_type": "markdown",
   "id": "1",
   "metadata": {},
   "source": [
    "In the last flow, we need to deploy the model to Sagemaker. However, SageMaker is easier to use with one of the pre-defined model types - in this case Tensorflow. \n",
    "\n",
    "In fact, our deployment strategy for the KNN-based model we trained is to first \"export\" it to a TF-Recs model with keras (the function keras_model), and then deploy it to SageMaker with their TensorFlowModel abstraction. "
   ]
  },
  {
   "cell_type": "markdown",
   "id": "2",
   "metadata": {},
   "source": [
    "First we import the packages we need and define some config variables:"
   ]
  },
  {
   "cell_type": "code",
   "execution_count": null,
   "id": "3",
   "metadata": {},
   "outputs": [],
   "source": [
    "import os\n",
    "\n",
    "for _ in range(3):\n",
    "    if os.path.exists(f'{os.getcwd()}/setup.py'):\n",
    "        break\n",
    "    os.chdir('..')\n",
    "print('Current working directory:', os.getcwd())"
   ]
  },
  {
   "cell_type": "code",
   "execution_count": null,
   "id": "4",
   "metadata": {},
   "outputs": [],
   "source": [
    "os.environ['TF_CPP_MIN_LOG_LEVEL'] = '1'"
   ]
  },
  {
   "cell_type": "code",
   "execution_count": null,
   "id": "5",
   "metadata": {},
   "outputs": [],
   "source": [
    "import random\n",
    "import tarfile\n",
    "import time\n",
    "from pathlib import Path\n",
    "from typing import Tuple\n",
    "\n",
    "import numpy as np\n",
    "import tensorflow as tf\n",
    "import tensorflow_recommenders as tfrs\n",
    "\n",
    "from src.utils.logging import bprint\n",
    "from src.utils.meta import get_latest_successful_run\n",
    "from src.utils.styling import apply_styling"
   ]
  },
  {
   "cell_type": "code",
   "execution_count": null,
   "id": "6",
   "metadata": {},
   "outputs": [],
   "source": [
    "colors = apply_styling()\n",
    "palette = colors['palette']"
   ]
  },
  {
   "cell_type": "markdown",
   "id": "7",
   "metadata": {},
   "source": [
    "Let's retrieved the artifacts from the latest successful run. \n",
    "The `get_latest_successful_run` uses the `metaflow.Flow` object to get results of runs using the (class) name of the flows. "
   ]
  },
  {
   "cell_type": "code",
   "execution_count": null,
   "id": "8",
   "metadata": {},
   "outputs": [],
   "source": [
    "FLOW_NAME = 'ModelingFlow'\n",
    "latest_run = get_latest_successful_run(FLOW_NAME)\n",
    "final_vectors = latest_run.data.final_vectors\n",
    "final_dataset = latest_run.data.final_dataset"
   ]
  },
  {
   "cell_type": "code",
   "execution_count": null,
   "id": "9",
   "metadata": {},
   "outputs": [],
   "source": [
    "type(latest_run)"
   ]
  },
  {
   "cell_type": "markdown",
   "id": "10",
   "metadata": {},
   "source": [
    "### Retrieval Model"
   ]
  },
  {
   "cell_type": "markdown",
   "id": "11",
   "metadata": {},
   "source": [
    "First, we gather the ids and the embeddings of the songs"
   ]
  },
  {
   "cell_type": "code",
   "execution_count": null,
   "id": "12",
   "metadata": {},
   "outputs": [],
   "source": [
    "songs_ids = np.array(final_vectors.index_to_key)\n",
    "songs_embeddings = np.array([final_vectors[idx] for idx in songs_ids])"
   ]
  },
  {
   "cell_type": "markdown",
   "id": "13",
   "metadata": {},
   "source": [
    "We need to include an \"unknown\" item in the embedding matrix."
   ]
  },
  {
   "cell_type": "code",
   "execution_count": null,
   "id": "14",
   "metadata": {},
   "outputs": [],
   "source": [
    "num_embeddings = len(songs_embeddings)\n",
    "embedding_size = songs_embeddings[0].shape[0]\n",
    "bprint(f'Num of embeddings: {len(songs_embeddings):,}', level=3)\n",
    "bprint(f'Embeddings dimensions: {embedding_size}', level=3)\n",
    "\n",
    "bprint('Adding a vector for unknown items', level=3)\n",
    "unknown_vector = np.zeros((1, embedding_size))\n",
    "embedding_matrix = np.vstack([unknown_vector, songs_embeddings])\n",
    "bprint('First item:', embedding_matrix[0][0:5], level=4)\n",
    "bprint('Shape of the matrix:', embedding_matrix.shape, level=4)\n",
    "assert embedding_matrix[0][0] == 0.0\n",
    "\n",
    "bprint('Initializing layers and network', level=3)\n",
    "lookup_layer = tf.keras.layers.StringLookup(vocabulary=songs_ids, mask_token=None)\n",
    "embedding_layer = tf.keras.layers.Embedding(\n",
    "    input_dim=embedding_matrix.shape[0],\n",
    "    output_dim=embedding_matrix.shape[1],\n",
    "    weights=[embedding_matrix],\n",
    "    trainable=False,\n",
    ")\n",
    "embedding_layer.build((None,))\n",
    "\n",
    "model = tf.keras.Sequential([lookup_layer, embedding_layer])\n",
    "\n",
    "bprint('Creating retrieval model', level=3)\n",
    "brute_force = tfrs.layers.factorized_top_k.BruteForce(model)\n",
    "song_index = brute_force.index(candidates=songs_embeddings, identifiers=songs_ids)"
   ]
  },
  {
   "cell_type": "markdown",
   "id": "15",
   "metadata": {},
   "source": [
    "Finally, we test the model with one of the songs."
   ]
  },
  {
   "cell_type": "code",
   "execution_count": null,
   "id": "16",
   "metadata": {},
   "outputs": [],
   "source": [
    "def get_recommendations(song_id, k=10):\n",
    "    song_vector = model(np.array([song_id]))\n",
    "    rec_scores, rec_ids = song_index(tf.constant([song_id]), k=k)\n",
    "    return song_vector, rec_scores, rec_ids\n",
    "\n",
    "def pprint_recommendations(song_id, k=10):\n",
    "    song_vector, rec_scores, rec_ids = get_recommendations(song_id, k=k)\n",
    "    bprint('Song ID:', song_id, level=4, prefix='*')\n",
    "    bprint('Song vector:', song_vector.numpy()[0][:5], level=4)\n",
    "    bprint('Recommendations after track:', level=4)\n",
    "    for score, song_id in zip(rec_scores[0].numpy(), rec_ids[0].numpy()):\n",
    "        song_id = str(song_id, 'utf-8')\n",
    "        if not song_id == song_id:\n",
    "            continue\n",
    "        bprint(f'{score:.2f} - {song_id}', level=5)"
   ]
  },
  {
   "cell_type": "code",
   "execution_count": null,
   "id": "17",
   "metadata": {},
   "outputs": [],
   "source": [
    "type(get_recommendations('Alabimbombao~', k=5)[1])"
   ]
  },
  {
   "cell_type": "code",
   "execution_count": null,
   "id": "18",
   "metadata": {},
   "outputs": [],
   "source": [
    "bprint('Testing retrieval model', level=3)\n",
    "test_id = 'Alabimbombao~'  # Unknown!\n",
    "pprint_recommendations(test_id, k=5)\n",
    "\n",
    "test_index = 3\n",
    "test_id = songs_ids[test_index]\n",
    "pprint_recommendations(test_id, k=5)"
   ]
  }
 ],
 "metadata": {
  "kernelspec": {
   "display_name": "Python 3 (ipykernel)",
   "language": "python",
   "name": "python3"
  },
  "language_info": {
   "codemirror_mode": {
    "name": "ipython",
    "version": 3
   },
   "file_extension": ".py",
   "mimetype": "text/x-python",
   "name": "python",
   "nbconvert_exporter": "python",
   "pygments_lexer": "ipython3",
   "version": "3.11.5"
  },
  "vscode": {
   "interpreter": {
    "hash": "a665b5d41d17b532ea9890333293a1b812fa0b73c9c25c950b3cedf1bebd0438"
   }
  }
 },
 "nbformat": 4,
 "nbformat_minor": 5
}
