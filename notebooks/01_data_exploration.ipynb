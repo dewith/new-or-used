{
 "cells": [
  {
   "cell_type": "markdown",
   "metadata": {},
   "source": [
    "# Dataset Exploration\n"
   ]
  },
  {
   "cell_type": "markdown",
   "metadata": {},
   "source": [
    "Here we are going to explore the dataset with thousands of Mercado Libre items to see which features are more suitable for our model.\n"
   ]
  },
  {
   "cell_type": "markdown",
   "metadata": {},
   "source": [
    "First we import the packages we need and set the palette for our plots.\n"
   ]
  },
  {
   "cell_type": "code",
   "execution_count": 1,
   "metadata": {},
   "outputs": [
    {
     "name": "stdout",
     "output_type": "stream",
     "text": [
      "Current working directory: /Users/dewith/Repos/new-or-used\n"
     ]
    }
   ],
   "source": [
    "import os\n",
    "\n",
    "for _ in range(3):\n",
    "    if os.path.exists(f'{os.getcwd()}/setup.py'):\n",
    "        break\n",
    "    os.chdir('..')\n",
    "print('Current working directory:', os.getcwd())"
   ]
  },
  {
   "cell_type": "code",
   "execution_count": 2,
   "metadata": {},
   "outputs": [],
   "source": [
    "import json\n",
    "import re\n",
    "import unicodedata\n",
    "from collections import Counter\n",
    "\n",
    "import matplotlib.pyplot as plt\n",
    "import nltk\n",
    "import numpy as np\n",
    "import pandas as pd\n",
    "import seaborn as sns\n",
    "from matplotlib.ticker import FuncFormatter\n",
    "from nltk.corpus import stopwords\n",
    "\n",
    "from src.utils.config import get_dataset_path\n",
    "from src.utils.styling import apply_styling, make_palette"
   ]
  },
  {
   "cell_type": "code",
   "execution_count": 3,
   "metadata": {},
   "outputs": [
    {
     "name": "stderr",
     "output_type": "stream",
     "text": [
      "[nltk_data] Downloading package stopwords to\n",
      "[nltk_data]     /Users/dewith/nltk_data...\n",
      "[nltk_data]   Package stopwords is already up-to-date!\n"
     ]
    },
    {
     "data": {
      "text/plain": [
       "True"
      ]
     },
     "execution_count": 3,
     "metadata": {},
     "output_type": "execute_result"
    }
   ],
   "source": [
    "# Seaborn\n",
    "colors = make_palette()\n",
    "palette = colors['palette']\n",
    "apply_styling(colors)\n",
    "\n",
    "# Pandas\n",
    "pd.set_option('display.max_columns', 100)\n",
    "pd.set_option('display.max_rows', 100)\n",
    "# pd.set_option('display.float_format', lambda x: f'{x:.3f}')\n",
    "# pd.set_option('display.max_colwidth', 50)\n",
    "\n",
    "# NLTK\n",
    "nltk.download('stopwords')"
   ]
  },
  {
   "cell_type": "markdown",
   "metadata": {},
   "source": [
    "## Data Loading\n"
   ]
  },
  {
   "cell_type": "markdown",
   "metadata": {},
   "source": [
    "Read the jsonl file\n"
   ]
  },
  {
   "cell_type": "code",
   "execution_count": 4,
   "metadata": {},
   "outputs": [
    {
     "name": "stdout",
     "output_type": "stream",
     "text": [
      "Number of lines: 90000\n"
     ]
    }
   ],
   "source": [
    "train_path = get_dataset_path('raw_items_train')\n",
    "with open(train_path, 'r') as f:\n",
    "    lines = f.readlines()\n",
    "    dict_objects = [json.loads(line) for line in lines[:]]\n",
    "    print('Number of lines:', len(lines))"
   ]
  },
  {
   "cell_type": "markdown",
   "metadata": {},
   "source": [
    "Load the data into a pandas dataframe\n"
   ]
  },
  {
   "cell_type": "code",
   "execution_count": 5,
   "metadata": {},
   "outputs": [],
   "source": [
    "df = pd.DataFrame.from_records(dict_objects)"
   ]
  },
  {
   "cell_type": "markdown",
   "metadata": {},
   "source": [
    "## Data Exploration\n"
   ]
  },
  {
   "cell_type": "markdown",
   "metadata": {},
   "source": [
    "### Target variable\n",
    "\n",
    "Let's see the distribution of the target variable\n"
   ]
  },
  {
   "cell_type": "code",
   "execution_count": 6,
   "metadata": {},
   "outputs": [],
   "source": [
    "target_column = 'condition'"
   ]
  },
  {
   "cell_type": "code",
   "execution_count": 7,
   "metadata": {},
   "outputs": [
    {
     "data": {
      "image/png": "[encoded data removed]",
      "text/plain": [
       "<Figure size 500x350 with 1 Axes>"
      ]
     },
     "metadata": {},
     "output_type": "display_data"
    }
   ],
   "source": [
    "plt.figure(figsize=(5, 3.5), dpi=100)\n",
    "sns.barplot(\n",
    "    df[target_column].value_counts(dropna=False),\n",
    "    edgecolor=colors['lines'],\n",
    "    linewidth=0.6,\n",
    "    alpha=1,\n",
    ")\n",
    "plt.title(\"Distribution of the items' conditions\")\n",
    "plt.xlabel('')\n",
    "plt.ylabel('')\n",
    "sns.despine(left=True)\n",
    "plt.show()"
   ]
  },
  {
   "cell_type": "code",
   "execution_count": 8,
   "metadata": {},
   "outputs": [
    {
     "name": "stdout",
     "output_type": "stream",
     "text": [
      "Majority class baseline: 0.537\n"
     ]
    }
   ],
   "source": [
    "df[target_column] = df[target_column].map({'new': 1, 'used': 0})\n",
    "print('Majority class baseline:', df.condition.mean().round(3))"
   ]
  },
  {
   "cell_type": "markdown",
   "metadata": {},
   "source": [
    "### Schema\n"
   ]
  },
  {
   "cell_type": "code",
   "execution_count": 9,
   "metadata": {},
   "outputs": [
    {
     "name": "stdout",
     "output_type": "stream",
     "text": [
      "{\n",
      "  \"seller_address\": {\n",
      "    \"country\": {\n",
      "      \"name\": \"Argentina\",\n",
      "      \"id\": \"AR\"\n",
      "    },\n",
      "    \"state\": {\n",
      "      \"name\": \"Capital Federal\",\n",
      "      \"id\": \"AR-C\"\n",
      "    },\n",
      "    \"city\": {\n",
      "      \"name\": \"San Crist\\u00f3bal\",\n",
      "      \"id\": \"TUxBQlNBTjkwNTZa\"\n",
      "    }\n",
      "  },\n",
      "  \"warranty\": null,\n",
      "  \"sub_status\": [],\n",
      "  \"condition\": \"new\",\n",
      "  \"deal_ids\": [],\n",
      "  \"base_price\": 80.0,\n",
      "  \"shipping\": {\n",
      "    \"local_pick_up\": true,\n",
      "    \"methods\": [],\n",
      "    \"tags\": [],\n",
      "    \"free_shipping\": false,\n",
      "    \"mode\": \"not_specified\",\n",
      "    \"dimensions\": null\n",
      "  },\n",
      "  \"non_mercado_pago_payment_methods\": [\n",
      "    {\n",
      "      \"description\": \"Transferencia bancaria\",\n",
      "      \"id\": \"MLATB\",\n",
      "      \"type\": \"G\"\n",
      "    },\n",
      "    {\n",
      "      \"description\": \"Acordar con el comprador\",\n",
      "      \"id\": \"MLAWC\",\n",
      "      \"type\": \"G\"\n",
      "    },\n",
      "    {\n",
      "      \"description\": \"Efectivo\",\n",
      "      \"id\": \"MLAMO\",\n",
      "      \"type\": \"G\"\n",
      "    }\n",
      "  ],\n",
      "  \"seller_id\": 8208882349,\n",
      "  \"variations\": [],\n",
      "  \"site_id\": \"MLA\",\n",
      "  \"listing_type_id\": \"bronze\",\n",
      "  \"price\": 80.0,\n",
      "  \"attributes\": [],\n",
      "  \"buying_mode\": \"buy_it_now\",\n",
      "  \"tags\": [\n",
      "    \"dragged_bids_and_visits\"\n",
      "  ],\n",
      "  \"listing_source\": \"\",\n",
      "  \"parent_item_id\": \"MLA6553902747\",\n",
      "  \"coverage_areas\": [],\n",
      "  \"category_id\": \"MLA126406\",\n",
      "  \"descriptions\": [\n",
      "    \"{'id': 'MLA4695330653-912855983'}\"\n",
      "  ],\n",
      "  \"last_updated\": \"2015-09-05T20:42:58.000Z\",\n",
      "  \"international_delivery_mode\": \"none\",\n",
      "  \"pictures\": [\n",
      "    {\n",
      "      \"size\": \"500x375\",\n",
      "      \"secure_url\": \"https://a248.e.akamai.net/mla-s1-p.mlstatic.com/5386-MLA4695330653_052013-O.jpg\",\n",
      "      \"max_size\": \"1200x900\",\n",
      "      \"url\": \"http://mla-s1-p.mlstatic.com/5386-MLA4695330653_052013-O.jpg\",\n",
      "      \"quality\": \"\",\n",
      "      \"id\": \"5386-MLA4695330653_052013\"\n",
      "    },\n",
      "    {\n",
      "      \"size\": \"500x375\",\n",
      "      \"secure_url\": \"https://a248.e.akamai.net/mla-s1-p.mlstatic.com/5361-MLA4695330653_052013-O.jpg\",\n",
      "      \"max_size\": \"1200x900\",\n",
      "      \"url\": \"http://mla-s1-p.mlstatic.com/5361-MLA4695330653_052013-O.jpg\",\n",
      "      \"quality\": \"\",\n",
      "      \"id\": \"5361-MLA4695330653_052013\"\n",
      "    }\n",
      "  ],\n",
      "  \"id\": \"MLA4695330653\",\n",
      "  \"official_store_id\": null,\n",
      "  \"differential_pricing\": null,\n",
      "  \"accepts_mercadopago\": true,\n",
      "  \"original_price\": null,\n",
      "  \"currency_id\": \"ARS\",\n",
      "  \"thumbnail\": \"http://mla-s1-p.mlstatic.com/5386-MLA4695330653_052013-I.jpg\",\n",
      "  \"title\": \"Auriculares Samsung Originales Manos Libres Cable Usb Oferta\",\n",
      "  \"automatic_relist\": false,\n",
      "  \"date_created\": \"2015-09-05T20:42:53.000Z\",\n",
      "  \"secure_thumbnail\": \"https://a248.e.akamai.net/mla-s1-p.mlstatic.com/5386-MLA4695330653_052013-I.jpg\",\n",
      "  \"stop_time\": 1446669773000,\n",
      "  \"status\": \"active\",\n",
      "  \"video_id\": null,\n",
      "  \"catalog_product_id\": null,\n",
      "  \"subtitle\": null,\n",
      "  \"initial_quantity\": 1,\n",
      "  \"start_time\": 1441485773000,\n",
      "  \"permalink\": \"http://articulo.mercadolibre.com.ar/MLA4695330653-auriculares-samsung-originales-manos-libres-cable-usb-oferta-_JM\",\n",
      "  \"sold_quantity\": 0,\n",
      "  \"available_quantity\": 1\n",
      "}\n"
     ]
    }
   ],
   "source": [
    "print(json.dumps(dict_objects[0], indent=2))"
   ]
  },
  {
   "cell_type": "markdown",
   "metadata": {},
   "source": [
    "#### Dtypes\n"
   ]
  },
  {
   "cell_type": "code",
   "execution_count": 10,
   "metadata": {},
   "outputs": [
    {
     "name": "stdout",
     "output_type": "stream",
     "text": [
      "<class 'bool'>:\n",
      "  accepts_mercadopago\n",
      "  automatic_relist\n",
      "\n",
      "<class 'str'>:\n",
      "  condition\n",
      "  site_id\n",
      "  listing_type_id\n",
      "  buying_mode\n",
      "  listing_source\n",
      "  parent_item_id\n",
      "  category_id\n",
      "  last_updated\n",
      "  international_delivery_mode\n",
      "  id\n",
      "  currency_id\n",
      "  thumbnail\n",
      "  title\n",
      "  date_created\n",
      "  secure_thumbnail\n",
      "  status\n",
      "  permalink\n",
      "\n",
      "<class 'dict'>:\n",
      "  seller_address\n",
      "  shipping\n",
      "\n",
      "<class 'list'>:\n",
      "  sub_status\n",
      "  deal_ids\n",
      "  non_mercado_pago_payment_methods\n",
      "  variations\n",
      "  attributes\n",
      "  tags\n",
      "  coverage_areas\n",
      "  descriptions\n",
      "  pictures\n",
      "\n",
      "<class 'float'>:\n",
      "  base_price\n",
      "  price\n",
      "\n",
      "<class 'int'>:\n",
      "  seller_id\n",
      "  stop_time\n",
      "  initial_quantity\n",
      "  start_time\n",
      "  sold_quantity\n",
      "  available_quantity\n",
      "\n",
      "<class 'NoneType'>:\n",
      "  warranty\n",
      "  official_store_id\n",
      "  differential_pricing\n",
      "  original_price\n",
      "  video_id\n",
      "  catalog_product_id\n",
      "  subtitle\n",
      "\n"
     ]
    }
   ],
   "source": [
    "dtypes = {k: type(v) for k, v in dict_objects[0].items()}\n",
    "for dtype in set(dtypes.values()):\n",
    "    print(f'{dtype}:')\n",
    "    for k, v in dtypes.items():\n",
    "        if v == dtype:\n",
    "            print(f'  {k}')\n",
    "    print()"
   ]
  },
  {
   "cell_type": "markdown",
   "metadata": {},
   "source": [
    "### Boolean columns\n"
   ]
  },
  {
   "cell_type": "markdown",
   "metadata": {},
   "source": [
    "#### Accepts mercadopago\n"
   ]
  },
  {
   "cell_type": "code",
   "execution_count": 11,
   "metadata": {},
   "outputs": [
    {
     "name": "stdout",
     "output_type": "stream",
     "text": [
      "accepts_mercadopago\n",
      "True     88018\n",
      "False     1982\n",
      "Name: count, dtype: int64\n"
     ]
    },
    {
     "data": {
      "text/html": [
       "<div>\n",
       "<style scoped>\n",
       "    .dataframe tbody tr th:only-of-type {\n",
       "        vertical-align: middle;\n",
       "    }\n",
       "\n",
       "    .dataframe tbody tr th {\n",
       "        vertical-align: top;\n",
       "    }\n",
       "\n",
       "    .dataframe thead th {\n",
       "        text-align: right;\n",
       "    }\n",
       "</style>\n",
       "<table border=\"1\" class=\"dataframe\">\n",
       "  <thead>\n",
       "    <tr style=\"text-align: right;\">\n",
       "      <th>condition</th>\n",
       "      <th>0</th>\n",
       "      <th>1</th>\n",
       "      <th>All</th>\n",
       "    </tr>\n",
       "    <tr>\n",
       "      <th>accepts_mercadopago</th>\n",
       "      <th></th>\n",
       "      <th></th>\n",
       "      <th></th>\n",
       "    </tr>\n",
       "  </thead>\n",
       "  <tbody>\n",
       "    <tr>\n",
       "      <th>False</th>\n",
       "      <td>3.7</td>\n",
       "      <td>0.9</td>\n",
       "      <td>2.2</td>\n",
       "    </tr>\n",
       "    <tr>\n",
       "      <th>True</th>\n",
       "      <td>96.3</td>\n",
       "      <td>99.1</td>\n",
       "      <td>97.8</td>\n",
       "    </tr>\n",
       "  </tbody>\n",
       "</table>\n",
       "</div>"
      ],
      "text/plain": [
       "condition               0     1   All\n",
       "accepts_mercadopago                  \n",
       "False                 3.7   0.9   2.2\n",
       "True                 96.3  99.1  97.8"
      ]
     },
     "execution_count": 11,
     "metadata": {},
     "output_type": "execute_result"
    }
   ],
   "source": [
    "print(df.accepts_mercadopago.value_counts())\n",
    "\n",
    "(\n",
    "    pd.crosstab(df.accepts_mercadopago, df.condition, normalize='columns', margins=True)\n",
    "    * 100\n",
    ").round(1)"
   ]
  },
  {
   "cell_type": "markdown",
   "metadata": {},
   "source": [
    "Ok, let's keep this one since not accepting Mercado Pago is a little bit more common in used items.\n"
   ]
  },
  {
   "cell_type": "code",
   "execution_count": 12,
   "metadata": {},
   "outputs": [],
   "source": [
    "df.accepts_mercadopago = df.accepts_mercadopago.astype(int)"
   ]
  },
  {
   "cell_type": "markdown",
   "metadata": {},
   "source": [
    "#### Automatic relist\n"
   ]
  },
  {
   "cell_type": "code",
   "execution_count": 13,
   "metadata": {},
   "outputs": [
    {
     "name": "stdout",
     "output_type": "stream",
     "text": [
      "automatic_relist\n",
      "False    85773\n",
      "True      4227\n",
      "Name: count, dtype: int64\n"
     ]
    },
    {
     "data": {
      "text/html": [
       "<div>\n",
       "<style scoped>\n",
       "    .dataframe tbody tr th:only-of-type {\n",
       "        vertical-align: middle;\n",
       "    }\n",
       "\n",
       "    .dataframe tbody tr th {\n",
       "        vertical-align: top;\n",
       "    }\n",
       "\n",
       "    .dataframe thead th {\n",
       "        text-align: right;\n",
       "    }\n",
       "</style>\n",
       "<table border=\"1\" class=\"dataframe\">\n",
       "  <thead>\n",
       "    <tr style=\"text-align: right;\">\n",
       "      <th>condition</th>\n",
       "      <th>0</th>\n",
       "      <th>1</th>\n",
       "      <th>All</th>\n",
       "    </tr>\n",
       "    <tr>\n",
       "      <th>automatic_relist</th>\n",
       "      <th></th>\n",
       "      <th></th>\n",
       "      <th></th>\n",
       "    </tr>\n",
       "  </thead>\n",
       "  <tbody>\n",
       "    <tr>\n",
       "      <th>False</th>\n",
       "      <td>99.5</td>\n",
       "      <td>91.6</td>\n",
       "      <td>95.3</td>\n",
       "    </tr>\n",
       "    <tr>\n",
       "      <th>True</th>\n",
       "      <td>0.5</td>\n",
       "      <td>8.4</td>\n",
       "      <td>4.7</td>\n",
       "    </tr>\n",
       "  </tbody>\n",
       "</table>\n",
       "</div>"
      ],
      "text/plain": [
       "condition            0     1   All\n",
       "automatic_relist                  \n",
       "False             99.5  91.6  95.3\n",
       "True               0.5   8.4   4.7"
      ]
     },
     "execution_count": 13,
     "metadata": {},
     "output_type": "execute_result"
    }
   ],
   "source": [
    "print(df.automatic_relist.value_counts())\n",
    "\n",
    "(\n",
    "    pd.crosstab(df.automatic_relist, df.condition, normalize='columns', margins=True)\n",
    "    * 100\n",
    ").round(1)"
   ]
  },
  {
   "cell_type": "markdown",
   "metadata": {},
   "source": [
    "Based on the cross table, we can see that the automatic relist is not very common when the item is used\n"
   ]
  },
  {
   "cell_type": "code",
   "execution_count": 14,
   "metadata": {},
   "outputs": [],
   "source": [
    "df.automatic_relist = df.automatic_relist.astype(int)"
   ]
  },
  {
   "cell_type": "markdown",
   "metadata": {},
   "source": [
    "### Categorical columns\n"
   ]
  },
  {
   "cell_type": "markdown",
   "metadata": {},
   "source": [
    "#### Droppable columns\n"
   ]
  },
  {
   "cell_type": "code",
   "execution_count": 15,
   "metadata": {},
   "outputs": [],
   "source": [
    "def describe_cat_col(df, col: str):\n",
    "    \"\"\"Prints the distribution of a categorical column.\"\"\"\n",
    "    print(f'COLUMN: {col}')\n",
    "\n",
    "    # Eval nulls\n",
    "    size = len(df)\n",
    "    n_nulls = df[col].isnull().sum()\n",
    "    print(f'-> Nulls: {n_nulls} ({n_nulls / size:.1%})')\n",
    "\n",
    "    # Eval unique values\n",
    "    n_unique = df[col].nunique()\n",
    "    print(f'-> Unique values: {n_unique}')\n",
    "    if n_unique < 10:\n",
    "        print(df[col].value_counts())\n",
    "    else:\n",
    "        print(df[col].value_counts().head(5))\n",
    "        print('  ...')\n",
    "\n",
    "    return n_nulls, n_unique"
   ]
  },
  {
   "cell_type": "code",
   "execution_count": 16,
   "metadata": {},
   "outputs": [
    {
     "name": "stdout",
     "output_type": "stream",
     "text": [
      "COLUMN: site_id\n",
      "-> Nulls: 0 (0.0%)\n",
      "-> Unique values: 1\n",
      "site_id\n",
      "MLA    90000\n",
      "Name: count, dtype: int64\n",
      "❌ Drop it\n",
      "--------------------------------------------------------------------------------\n",
      "COLUMN: listing_type_id\n",
      "-> Nulls: 0 (0.0%)\n",
      "-> Unique values: 7\n",
      "listing_type_id\n",
      "bronze          56904\n",
      "free            19260\n",
      "silver           8195\n",
      "gold_special     2693\n",
      "gold             2170\n",
      "gold_premium      765\n",
      "gold_pro           13\n",
      "Name: count, dtype: int64\n",
      "✅ Ok to keep\n",
      "--------------------------------------------------------------------------------\n",
      "COLUMN: buying_mode\n",
      "-> Nulls: 0 (0.0%)\n",
      "-> Unique values: 3\n",
      "buying_mode\n",
      "buy_it_now    87311\n",
      "classified     1982\n",
      "auction         707\n",
      "Name: count, dtype: int64\n",
      "✅ Ok to keep\n",
      "--------------------------------------------------------------------------------\n",
      "COLUMN: listing_source\n",
      "-> Nulls: 0 (0.0%)\n",
      "-> Unique values: 1\n",
      "listing_source\n",
      "    90000\n",
      "Name: count, dtype: int64\n",
      "❌ Drop it\n",
      "--------------------------------------------------------------------------------\n",
      "COLUMN: parent_item_id\n",
      "-> Nulls: 20690 (23.0%)\n",
      "-> Unique values: 69310\n",
      "parent_item_id\n",
      "MLA3661010119    1\n",
      "MLA6553902747    1\n",
      "MLA7727150374    1\n",
      "MLA6561247998    1\n",
      "MLA3133256685    1\n",
      "Name: count, dtype: int64\n",
      "  ...\n",
      "❌ Drop it\n",
      "--------------------------------------------------------------------------------\n",
      "COLUMN: category_id\n",
      "-> Nulls: 0 (0.0%)\n",
      "-> Unique values: 10491\n",
      "category_id\n",
      "MLA1227     4139\n",
      "MLA2044     1759\n",
      "MLA41287     829\n",
      "MLA3530      685\n",
      "MLA2038      601\n",
      "Name: count, dtype: int64\n",
      "  ...\n",
      "✅ Ok to keep\n",
      "--------------------------------------------------------------------------------\n",
      "COLUMN: last_updated\n",
      "-> Nulls: 0 (0.0%)\n",
      "-> Unique values: 86015\n",
      "last_updated\n",
      "2015-09-18T13:21:35.000Z    6\n",
      "2015-09-30T12:20:39.000Z    6\n",
      "2015-09-18T13:21:40.000Z    6\n",
      "2015-09-18T13:20:41.000Z    6\n",
      "2015-09-16T20:59:03.000Z    5\n",
      "Name: count, dtype: int64\n",
      "  ...\n",
      "❌ Drop it\n",
      "--------------------------------------------------------------------------------\n",
      "COLUMN: international_delivery_mode\n",
      "-> Nulls: 0 (0.0%)\n",
      "-> Unique values: 1\n",
      "international_delivery_mode\n",
      "none    90000\n",
      "Name: count, dtype: int64\n",
      "❌ Drop it\n",
      "--------------------------------------------------------------------------------\n",
      "COLUMN: id\n",
      "-> Nulls: 0 (0.0%)\n",
      "-> Unique values: 90000\n",
      "id\n",
      "MLA8241142190    1\n",
      "MLA4695330653    1\n",
      "MLA7160447179    1\n",
      "MLA7367189936    1\n",
      "MLA9191625553    1\n",
      "Name: count, dtype: int64\n",
      "  ...\n",
      "❌ Drop it\n",
      "--------------------------------------------------------------------------------\n",
      "COLUMN: currency_id\n",
      "-> Nulls: 0 (0.0%)\n",
      "-> Unique values: 2\n",
      "currency_id\n",
      "ARS    89496\n",
      "USD      504\n",
      "Name: count, dtype: int64\n",
      "✅ Ok to keep\n",
      "--------------------------------------------------------------------------------\n",
      "COLUMN: thumbnail\n",
      "-> Nulls: 0 (0.0%)\n",
      "-> Unique values: 89260\n",
      "thumbnail\n",
      "                                                                          703\n",
      "http://www.mercadolibre.com/jm/img?s=STC&v=I&f=proccesing_image_es.jpg     35\n",
      "http://mla-s1-p.mlstatic.com/6279-MLApp_27_21489919_1-I.jpg                 4\n",
      "http://mla-s1-p.mlstatic.com/6270-MLApp_27_19602074_1-I.jpg                 2\n",
      "http://mla-s1-p.mlstatic.com/797901-MLA6054779321_092015-I.jpg              1\n",
      "Name: count, dtype: int64\n",
      "  ...\n",
      "❌ Drop it\n",
      "--------------------------------------------------------------------------------\n",
      "COLUMN: title\n",
      "-> Nulls: 0 (0.0%)\n",
      "-> Unique values: 89008\n",
      "title\n",
      "50 Suspensores Para Short De Baño Tela Calada           66\n",
      "50 Suspensores Para Short De Baño Nido De Abeja         45\n",
      "Confeccion Short De Baño Bermudas Hombre Y Niño         32\n",
      "50 Suspensores Para Short De Baño Tela Nido De Abeja    30\n",
      "Camisas Corte Y Confeccion Producto Terminado           30\n",
      "Name: count, dtype: int64\n",
      "  ...\n",
      "❌ Drop it\n",
      "--------------------------------------------------------------------------------\n",
      "COLUMN: date_created\n",
      "-> Nulls: 0 (0.0%)\n",
      "-> Unique values: 79247\n",
      "date_created\n",
      "2015-09-17T18:26:59.000Z    7\n",
      "2015-10-12T22:37:43.000Z    7\n",
      "2015-09-15T12:02:24.000Z    7\n",
      "2015-09-28T14:10:39.000Z    7\n",
      "2015-09-03T20:22:05.000Z    7\n",
      "Name: count, dtype: int64\n",
      "  ...\n",
      "❌ Drop it\n",
      "--------------------------------------------------------------------------------\n",
      "COLUMN: secure_thumbnail\n",
      "-> Nulls: 0 (0.0%)\n",
      "-> Unique values: 89260\n",
      "secure_thumbnail\n",
      "                                                                                     703\n",
      "https://www.mercadolibre.com/jm/img?s=STC&v=I&f=proccesing_image_es.jpg               35\n",
      "https://a248.e.akamai.net/mla-s1-p.mlstatic.com/6279-MLApp_27_21489919_1-I.jpg         4\n",
      "https://a248.e.akamai.net/mla-s1-p.mlstatic.com/6270-MLApp_27_19602074_1-I.jpg         2\n",
      "https://a248.e.akamai.net/mla-s1-p.mlstatic.com/797901-MLA6054779321_092015-I.jpg      1\n",
      "Name: count, dtype: int64\n",
      "  ...\n",
      "❌ Drop it\n",
      "--------------------------------------------------------------------------------\n",
      "COLUMN: status\n",
      "-> Nulls: 0 (0.0%)\n",
      "-> Unique values: 4\n",
      "status\n",
      "active            86116\n",
      "paused             3863\n",
      "closed               20\n",
      "not_yet_active        1\n",
      "Name: count, dtype: int64\n",
      "✅ Ok to keep\n",
      "--------------------------------------------------------------------------------\n",
      "COLUMN: permalink\n",
      "-> Nulls: 0 (0.0%)\n",
      "-> Unique values: 90000\n",
      "permalink\n",
      "http://articulo.mercadolibre.com.ar/MLA8241142190-campera-de-mujer-tucci-reversible-_JM                               1\n",
      "http://articulo.mercadolibre.com.ar/MLA4695330653-auriculares-samsung-originales-manos-libres-cable-usb-oferta-_JM    1\n",
      "http://articulo.mercadolibre.com.ar/MLA7160447179-cuchillo-daga-acero-carbon-casco-yelmo-solingen-con-vaina-_JM       1\n",
      "http://articulo.mercadolibre.com.ar/MLA7367189936-antigua-revista-billiken-n-1826-ano-1954-_JM                        1\n",
      "http://articulo.mercadolibre.com.ar/MLA9191625553-alarma-guardtex-gx412-seguridad-para-el-automotor-_JM               1\n",
      "Name: count, dtype: int64\n",
      "  ...\n",
      "❌ Drop it\n",
      "--------------------------------------------------------------------------------\n"
     ]
    }
   ],
   "source": [
    "cat_cols = [\n",
    "    'site_id',\n",
    "    'listing_type_id',\n",
    "    'buying_mode',\n",
    "    'listing_source',\n",
    "    'parent_item_id',\n",
    "    'category_id',\n",
    "    'last_updated',\n",
    "    'international_delivery_mode',\n",
    "    'id',\n",
    "    'currency_id',\n",
    "    'thumbnail',\n",
    "    'title',\n",
    "    'date_created',\n",
    "    'secure_thumbnail',\n",
    "    'status',\n",
    "    'permalink',\n",
    "]\n",
    "\n",
    "df_size = len(df)\n",
    "drop_cols = []\n",
    "for col in cat_cols:\n",
    "    # Take a glance at the column\n",
    "    n_nulls, n_unique = describe_cat_col(df, col)\n",
    "\n",
    "    # Eval if column should be dropped\n",
    "    too_many_nulls = n_nulls / df_size > 0.9\n",
    "    too_many_unique = n_unique > (df_size * 0.5)\n",
    "    all_the_same = n_unique == 1\n",
    "    if too_many_nulls or too_many_unique or all_the_same:\n",
    "        drop_cols.append(col)\n",
    "        print('❌ Drop it')\n",
    "    else:\n",
    "        print('✅ Ok to keep')\n",
    "\n",
    "    print('-' * 80)"
   ]
  },
  {
   "cell_type": "code",
   "execution_count": 17,
   "metadata": {},
   "outputs": [
    {
     "name": "stdout",
     "output_type": "stream",
     "text": [
      "Columns to keep: ['listing_type_id', 'buying_mode', 'category_id', 'currency_id', 'status']\n",
      "Columns to drop: ['site_id', 'listing_source', 'parent_item_id', 'last_updated', 'international_delivery_mode', 'id', 'thumbnail', 'title', 'date_created', 'secure_thumbnail', 'permalink']\n"
     ]
    }
   ],
   "source": [
    "print('Columns to keep:', [col for col in cat_cols if col not in drop_cols])\n",
    "print('Columns to drop:', drop_cols)"
   ]
  },
  {
   "cell_type": "markdown",
   "metadata": {},
   "source": [
    "- The status of the item can be dropped since we can expect to use the model to predict new items that are active at the beggining.\n",
    "\n",
    "- We cannot drop the title since it contains valuable information for the model.\n"
   ]
  },
  {
   "cell_type": "code",
   "execution_count": 18,
   "metadata": {},
   "outputs": [
    {
     "name": "stdout",
     "output_type": "stream",
     "text": [
      "Columns to drop: ['site_id', 'listing_source', 'parent_item_id', 'last_updated', 'international_delivery_mode', 'id', 'thumbnail', 'date_created', 'secure_thumbnail', 'permalink', 'status']\n"
     ]
    }
   ],
   "source": [
    "drop_cols.remove('title')\n",
    "drop_cols.append('status')\n",
    "print('Columns to drop:', drop_cols)"
   ]
  },
  {
   "cell_type": "code",
   "execution_count": 19,
   "metadata": {},
   "outputs": [],
   "source": [
    "for col in drop_cols:\n",
    "    df.drop(col, axis=1, inplace=True)"
   ]
  },
  {
   "cell_type": "markdown",
   "metadata": {},
   "source": [
    "#### Category ID\n",
    "\n",
    "Reduce the cardinality of the column by grouping the categories that have less than 200 items\n"
   ]
  },
  {
   "cell_type": "code",
   "execution_count": 20,
   "metadata": {},
   "outputs": [
    {
     "data": {
      "image/png": "[encoded data removed]",
      "text/plain": [
       "<Figure size 1000x350 with 1 Axes>"
      ]
     },
     "metadata": {},
     "output_type": "display_data"
    }
   ],
   "source": [
    "plt.figure(figsize=(10, 3.5), dpi=100)\n",
    "category_counts = df.category_id.value_counts()\n",
    "sns.histplot(\n",
    "    category_counts, bins=200, edgecolor=colors['lines'], linewidth=0.6, alpha=1\n",
    ")\n",
    "sns.rugplot(category_counts, color=colors['lines'])\n",
    "plt.title(\n",
    "    'Count of items per category. Median: {:.1f}'.format(category_counts.median())\n",
    ")\n",
    "plt.xlabel('')\n",
    "plt.xlim(0, 1000)\n",
    "sns.despine(left=True)\n",
    "plt.show()"
   ]
  },
  {
   "cell_type": "code",
   "execution_count": 21,
   "metadata": {},
   "outputs": [],
   "source": [
    "valid_categories = category_counts.where(category_counts > 200).dropna().index\n",
    "df.category_id = df.category_id.where(df.category_id.isin(valid_categories), 'Other')"
   ]
  },
  {
   "cell_type": "markdown",
   "metadata": {},
   "source": [
    "#### Title\n",
    "\n",
    "Normalize the title column and get the length of the title\n"
   ]
  },
  {
   "cell_type": "code",
   "execution_count": 29,
   "metadata": {},
   "outputs": [],
   "source": [
    "def normalize_text(text, stops=None):\n",
    "    \"\"\"\n",
    "    Normalize text by converting to lowercase, removing accents, punctuation,\n",
    "    special characters, extra whitespace, and stopwords.\n",
    "    \"\"\"\n",
    "    # Convert to lowercase\n",
    "    text = text.lower()\n",
    "    # Remove accents\n",
    "    text = unicodedata.normalize('NFKD', text)\n",
    "    # Remove punctuation and special characters\n",
    "    # text = re.sub(r'[^\\w\\s]|\\d', '', text)\n",
    "    text = re.sub(r'[^\\w\\s]', '', text)\n",
    "    # Remove extra whitespace\n",
    "    text = re.sub(r'\\s+', ' ', text).strip()\n",
    "    # Remove stopwords\n",
    "    if stops:\n",
    "        text = ' '.join([word for word in text.split() if word not in stops])\n",
    "    return text"
   ]
  },
  {
   "cell_type": "code",
   "execution_count": 23,
   "metadata": {},
   "outputs": [],
   "source": [
    "df['title_norm'] = df.title.apply(normalize_text, stops=set(stopwords.words('spanish')))\n",
    "df['title_len'] = df.title_norm.str.len()\n",
    "\n",
    "df.drop('title', axis=1, inplace=True)"
   ]
  },
  {
   "cell_type": "markdown",
   "metadata": {},
   "source": [
    "Let's see the distribution of the title length per label\n"
   ]
  },
  {
   "cell_type": "code",
   "execution_count": 24,
   "metadata": {},
   "outputs": [
    {
     "data": {
      "image/png": "[encoded data removed]",
      "text/plain": [
       "<Figure size 400x400 with 1 Axes>"
      ]
     },
     "metadata": {},
     "output_type": "display_data"
    }
   ],
   "source": [
    "fig, ax = plt.subplots(1, 1, figsize=(4, 4))\n",
    "sns.boxplot(\n",
    "    x='condition',\n",
    "    y='title_len',\n",
    "    data=df,\n",
    "    fliersize=0.6,\n",
    "    linewidth=0.6,\n",
    "    linecolor=colors['lines'],\n",
    "    legend=False,\n",
    "    saturation=1,\n",
    "    ax=ax,\n",
    ")\n",
    "ax.set_title('Length of the title by condition')\n",
    "ax.set_ylabel('Characters')\n",
    "ax.set_xlabel('')\n",
    "ax.set_xticks([0, 1])\n",
    "ax.set_xticklabels(['Used', 'New'])\n",
    "ax.spines[['left', 'bottom']].set_visible(False)\n",
    "\n",
    "plt.tight_layout()\n",
    "plt.show()"
   ]
  },
  {
   "cell_type": "code",
   "execution_count": 31,
   "metadata": {},
   "outputs": [
    {
     "data": {
      "image/png": "[encoded data removed]",
      "text/plain": [
       "<Figure size 1400x600 with 2 Axes>"
      ]
     },
     "metadata": {},
     "output_type": "display_data"
    }
   ],
   "source": [
    "fig, axes = plt.subplots(1, 2, figsize=(14, 6), sharex=True)\n",
    "\n",
    "top_n = 20\n",
    "words_count = df.title_norm.str.split().apply(len)\n",
    "conditions = {0: 'Used', 1: 'New'}\n",
    "for i, condition in enumerate(df.condition.unique()):\n",
    "    all_text = ' '.join(\n",
    "        df.query(f'condition == {condition}')['title_norm'].dropna().astype(str)\n",
    "    )\n",
    "    words = [w for w in all_text.split() if len(w) > 2]\n",
    "    word_freq = Counter(words)\n",
    "    top_words = word_freq.most_common(top_n)\n",
    "    words, counts = zip(*top_words)\n",
    "\n",
    "    sns.barplot(\n",
    "        x=counts,\n",
    "        y=words,\n",
    "        ax=axes[i],\n",
    "        color=palette[i],\n",
    "        edgecolor=colors['lines'],\n",
    "        linewidth=0.6,\n",
    "        alpha=1,\n",
    "        saturation=1,\n",
    "    )\n",
    "\n",
    "    axes[i].set_title(f'Most common words in {conditions[condition]} items')\n",
    "    axes[i].set_ylabel(''), axes[i].set_xlabel('')\n",
    "    axes[i].spines[['left', 'bottom']].set_visible(False)\n",
    "\n",
    "plt.tight_layout()\n",
    "plt.show()"
   ]
  },
  {
   "cell_type": "markdown",
   "metadata": {},
   "source": [
    "### Numerical columns\n"
   ]
  },
  {
   "cell_type": "code",
   "execution_count": null,
   "metadata": {},
   "outputs": [],
   "source": []
  },
  {
   "cell_type": "code",
   "execution_count": null,
   "metadata": {},
   "outputs": [],
   "source": []
  },
  {
   "cell_type": "markdown",
   "metadata": {},
   "source": [
    "### Dictionary columns\n"
   ]
  },
  {
   "cell_type": "markdown",
   "metadata": {},
   "source": [
    "##### Seller address\n",
    "\n",
    "Extract location information from the dictionary\n"
   ]
  },
  {
   "cell_type": "code",
   "execution_count": 15,
   "metadata": {},
   "outputs": [],
   "source": [
    "location_features = ['country', 'state', 'city']\n",
    "for feature in location_features:\n",
    "    df[feature] = df['seller_address'].apply(\n",
    "        lambda x, k=feature: x.get(k, {}).get('name', None)\n",
    "    )\n",
    "\n",
    "df.drop(columns=['seller_address'], inplace=True)"
   ]
  },
  {
   "cell_type": "markdown",
   "metadata": {},
   "source": [
    "##### Shipping\n",
    "\n",
    "Extract shipping information from the dictionary\n"
   ]
  },
  {
   "cell_type": "code",
   "execution_count": 16,
   "metadata": {},
   "outputs": [],
   "source": [
    "shipping_df = pd.json_normalize(df['shipping'])\n",
    "shipping_df.columns = [\n",
    "    'local_pick_up',\n",
    "    'shipping_methods',\n",
    "    'shipping_tags',\n",
    "    'free_shipping',\n",
    "    'shipping_mode',\n",
    "    'dimensions',\n",
    "    'shipping_free_methods',\n",
    "]\n",
    "\n",
    "df = pd.concat([df.drop('shipping', axis=1), shipping_df], axis=1)"
   ]
  },
  {
   "cell_type": "markdown",
   "metadata": {},
   "source": [
    "### List columns\n"
   ]
  },
  {
   "cell_type": "code",
   "execution_count": 17,
   "metadata": {},
   "outputs": [],
   "source": [
    "list_cols = [\n",
    "    'sub_status',\n",
    "    'deal_ids',\n",
    "    'non_mercado_pago_payment_methods',\n",
    "    'variations',\n",
    "    'attributes',\n",
    "    'tags',\n",
    "    'coverage_areas',\n",
    "    'descriptions',\n",
    "    'pictures',\n",
    "]"
   ]
  },
  {
   "cell_type": "code",
   "execution_count": null,
   "metadata": {},
   "outputs": [],
   "source": [
    "for col in list_cols:\n",
    "    print(col)\n",
    "    try:\n",
    "        values, counts = np.unique(df[col].values, return_counts=True)\n",
    "        print('Unique values:', len(values))\n",
    "        if len(values) < 10:\n",
    "            print('\\n'.join([f'{v}: {c}' for v, c in zip(values, counts)]))\n",
    "    except Exception as e:\n",
    "        print(e)\n",
    "    print('-' * 60)"
   ]
  },
  {
   "cell_type": "markdown",
   "metadata": {},
   "source": [
    "##### Substatus\n",
    "\n",
    "Make it a string instead of a list\n"
   ]
  },
  {
   "cell_type": "code",
   "execution_count": 19,
   "metadata": {},
   "outputs": [],
   "source": [
    "df['sub_status'] = df['sub_status'].apply(lambda x: x[0] if x else np.nan)"
   ]
  },
  {
   "cell_type": "markdown",
   "metadata": {},
   "source": [
    "#### Deal ids\n",
    "\n",
    "Drop this column since most of the values are empty\n"
   ]
  },
  {
   "cell_type": "code",
   "execution_count": 22,
   "metadata": {},
   "outputs": [],
   "source": [
    "df.drop(columns=['deal_ids'], inplace=True)"
   ]
  },
  {
   "cell_type": "markdown",
   "metadata": {},
   "source": [
    "#### Non mercado pago payment methods\n",
    "\n",
    "Make each payment method a flag column\n"
   ]
  },
  {
   "cell_type": "code",
   "execution_count": null,
   "metadata": {},
   "outputs": [],
   "source": [
    "all_payment_methods = set()\n",
    "for x in df['non_mercado_pago_payment_methods'].values:\n",
    "    if x:\n",
    "        for method in x:\n",
    "            all_payment_methods.add(method['description'])\n",
    "all_payment_methods"
   ]
  },
  {
   "cell_type": "code",
   "execution_count": 47,
   "metadata": {},
   "outputs": [],
   "source": [
    "def extract_payment_methods(payment_methods):\n",
    "    \"\"\"Extract payment methods from a list of dictionaries.\"\"\"\n",
    "    if not payment_methods:\n",
    "        return None\n",
    "\n",
    "    card_prefixes = {'visa', 'mastercard', 'american'}\n",
    "\n",
    "    def categorize_method(method):\n",
    "        description = method['description'].lower()\n",
    "        return (\n",
    "            'pay_tarjeta'\n",
    "            if any(description.startswith(prefix) for prefix in card_prefixes)\n",
    "            else f'pay_{description.split()[0]}'\n",
    "        )\n",
    "\n",
    "    unique_methods = {categorize_method(method) for method in payment_methods}\n",
    "    return ' / '.join(unique_methods)\n",
    "\n",
    "\n",
    "# Extract payment methods\n",
    "payment_df = df['non_mercado_pago_payment_methods'].apply(extract_payment_methods)\n",
    "payment_methods_dummies = payment_df.str.get_dummies(sep=' / ')\n",
    "payment_methods_dummies['n_payment_methods'] = payment_methods_dummies.sum(axis=1)\n",
    "df = pd.concat([df, payment_methods_dummies], axis=1)\n",
    "df.drop(columns=['non_mercado_pago_payment_methods'], inplace=True)"
   ]
  },
  {
   "cell_type": "markdown",
   "metadata": {},
   "source": [
    "#### Variations\n",
    "\n",
    "Make a binary column if the item has variations or not\n"
   ]
  },
  {
   "cell_type": "code",
   "execution_count": 50,
   "metadata": {},
   "outputs": [],
   "source": [
    "df['has_variations'] = df['variations'].apply(lambda x: 1 if x else 0)\n",
    "df.drop(columns=['variations'], inplace=True)"
   ]
  },
  {
   "cell_type": "markdown",
   "metadata": {},
   "source": [
    "#### Attributes\n",
    "\n",
    "Extract the attributes from the dictionary and use the most informative ones\n"
   ]
  },
  {
   "cell_type": "code",
   "execution_count": 51,
   "metadata": {},
   "outputs": [],
   "source": [
    "def clean_name(name):\n",
    "    \"\"\"Normalize attribute names\"\"\"\n",
    "    name = re.sub(r'[^\\w\\s]', '', name)\n",
    "    name = re.sub(r'\\s+', ' ', name)\n",
    "    name = re.sub(r'\\b(de|del)\\s+', '', name, flags=re.IGNORECASE)\n",
    "    name = name.replace(' ', '_').lower().strip()\n",
    "    name = unicodedata.normalize('NFKD', name).encode('ascii', 'ignore').decode('utf-8')\n",
    "    return name\n",
    "\n",
    "\n",
    "# Flatten and consolidate attributes\n",
    "len_mask = df['attributes'].apply(lambda x: len(x)) > 0\n",
    "attributes_df = pd.json_normalize(df.loc[len_mask, 'attributes'])\n",
    "all_attributes = attributes_df.values.tolist()\n",
    "\n",
    "attributes = []\n",
    "for row in all_attributes:\n",
    "    for attribute in row:\n",
    "        if attribute:\n",
    "            attribute_name = clean_name(attribute['name'])\n",
    "            value = clean_name(attribute['value_name'])\n",
    "            attributes.append({'attribute': attribute_name, 'value': value})\n",
    "\n",
    "attributes_df = pd.DataFrame(attributes)\n",
    "common_attributes = (attributes_df['attribute'].value_counts() >= 100).index.tolist()"
   ]
  },
  {
   "cell_type": "code",
   "execution_count": 52,
   "metadata": {},
   "outputs": [],
   "source": [
    "def consolidate_attributes(attributes):\n",
    "    \"\"\"Consolidate attributes\"\"\"\n",
    "    new_attributes = {}\n",
    "    for attribute in attributes:\n",
    "        attribute_name = clean_name(attribute['name'])\n",
    "        value = clean_name(attribute['value_name'])\n",
    "        if (attribute_name in common_attributes) and ('pieza' not in attribute_name):\n",
    "            new_attributes[f'attr_{attribute_name}'] = value\n",
    "\n",
    "    return new_attributes\n",
    "\n",
    "\n",
    "# Consolidate attributes\n",
    "attributes_dict_df = df['attributes'].apply(consolidate_attributes).to_frame()\n",
    "attributes_normalized_df = pd.json_normalize(attributes_dict_df['attributes'])\n",
    "attributes_dict_df = pd.concat([df[['condition']], attributes_normalized_df], axis=1)\n",
    "attributes_dict_df.fillna('missing', inplace=True)"
   ]
  },
  {
   "cell_type": "markdown",
   "metadata": {},
   "source": [
    "The hypothesis is that what is informative is not the value of the attribute but if the\n",
    "item has that attribute or not. For example, the value of the attribute \"antigüedad\" is not\n",
    "informative, but if the item has the attribute \"antigüedad\" is informative for our task.\n",
    "\n",
    "To test this hypothesis we will use the gini impurity to see which attributes are more informative.\n"
   ]
  },
  {
   "cell_type": "code",
   "execution_count": 53,
   "metadata": {},
   "outputs": [],
   "source": [
    "def gini_impurity(value_counts):\n",
    "    n = value_counts.sum()\n",
    "    p_sum = 0\n",
    "    for key in value_counts.keys():\n",
    "        p_sum = p_sum + (value_counts[key] / n) * (value_counts[key] / n)\n",
    "    gini = 1 - p_sum\n",
    "    return gini\n",
    "\n",
    "\n",
    "# Calculate Gini Impurity for the class\n",
    "class_value_counts = attributes_dict_df[target_column].value_counts()\n",
    "gini_class = gini_impurity(class_value_counts)\n",
    "\n",
    "# Calculate Gini Impurity for each attribute\n",
    "gini_attiribute = {}\n",
    "for attribute_name in attributes_dict_df.columns[1:]:\n",
    "    # We remove the missing values to compute the gini of the attribute alone.\n",
    "    # Since most items have no attributes, the nulls bias the gini a lot.\n",
    "    attributes_dict_df_A = attributes_dict_df[['condition', attribute_name]].query(\n",
    "        f'{attribute_name} != \"missing\"'\n",
    "    )\n",
    "    attribute_values = attributes_dict_df_A[attribute_name].value_counts()\n",
    "    gini_A = 0\n",
    "    for key in attribute_values.keys():\n",
    "        key_mask = attributes_dict_df_A[attribute_name] == key\n",
    "        df_k = attributes_dict_df_A[target_column][key_mask].value_counts()\n",
    "        n_k = attribute_values[key]\n",
    "        n = attributes_dict_df_A.shape[0]\n",
    "        gini_k = gini_impurity(df_k)\n",
    "        gini_A += (n_k / n) * gini_k\n",
    "\n",
    "    gini_attiribute[attribute_name] = gini_A\n",
    "\n",
    "gini_df = pd.DataFrame.from_dict(gini_attiribute, orient='index', columns=['gini'])"
   ]
  },
  {
   "cell_type": "markdown",
   "metadata": {},
   "source": [
    "Let's plot the distribution of the gini impurity for each attribute\n"
   ]
  },
  {
   "cell_type": "code",
   "execution_count": null,
   "metadata": {},
   "outputs": [],
   "source": [
    "print(f'\\nGini Impurity of the class is {gini_class:.3f}')\n",
    "\n",
    "plt.figure(figsize=(10, 3.5), dpi=100)\n",
    "sns.histplot(\n",
    "    gini_df.gini,\n",
    "    bins=50,\n",
    "    stat='count',\n",
    "    color='#fed906',\n",
    "    edgecolor=colors['lines'],\n",
    "    linewidth=0.6,\n",
    "    alpha=1,\n",
    ")\n",
    "plt.title('Gini Impurity of Attributes')\n",
    "plt.xlabel('')\n",
    "sns.despine(left=True)\n",
    "plt.show()"
   ]
  },
  {
   "cell_type": "markdown",
   "metadata": {},
   "source": [
    "Let's keep the attributes below 0.15 of gini impurity\n"
   ]
  },
  {
   "cell_type": "code",
   "execution_count": null,
   "metadata": {},
   "outputs": [],
   "source": [
    "valid_attributes = gini_df[gini_df['gini'] < 0.15].index.tolist()\n",
    "print(f'Number of valid attributes: {len(valid_attributes)}')"
   ]
  },
  {
   "cell_type": "markdown",
   "metadata": {},
   "source": [
    "Now let process the column in the main dataframe\n"
   ]
  },
  {
   "cell_type": "code",
   "execution_count": 76,
   "metadata": {},
   "outputs": [],
   "source": [
    "def consolidate_attributes(attributes):\n",
    "    \"\"\"Consolidate attributes\"\"\"\n",
    "    if not attributes:\n",
    "        return None\n",
    "    new_attributes = {}\n",
    "    for attribute in attributes:\n",
    "        attribute_name = 'attr_' + clean_name(attribute['name'])\n",
    "        value = clean_name(attribute['value_name'])\n",
    "        if attribute_name in valid_attributes:\n",
    "            new_attributes[f'{attribute_name}'] = value\n",
    "    return new_attributes\n",
    "\n",
    "\n",
    "# Consolidate attributes\n",
    "attributes_series = df['attributes'].apply(consolidate_attributes)\n",
    "attributes_normalized_df = pd.json_normalize(attributes_series)\n",
    "attributes_normalized_df['n_attributes'] = attributes_normalized_df.notna().sum(axis=1)\n",
    "\n",
    "# Join with original DataFrame\n",
    "df = pd.concat([df, attributes_normalized_df], axis=1)\n",
    "df.drop(columns=['attributes'], inplace=True)"
   ]
  },
  {
   "cell_type": "markdown",
   "metadata": {},
   "source": [
    "#### Tags\n",
    "\n",
    "Turn the tags into flag columns\n"
   ]
  },
  {
   "cell_type": "code",
   "execution_count": 80,
   "metadata": {},
   "outputs": [],
   "source": [
    "df['tags_str'] = df['tags'].apply(lambda x: ' / '.join(x))\n",
    "tags_dummies = df['tags_str'].str.get_dummies(sep=' / ')\n",
    "df = pd.concat([df, tags_dummies], axis=1)\n",
    "df.drop(columns=['tags', 'tags_str'], inplace=True)"
   ]
  },
  {
   "cell_type": "markdown",
   "metadata": {},
   "source": [
    "#### Coverage areas\n",
    "\n",
    "Drop this column since it is empty\n"
   ]
  },
  {
   "cell_type": "code",
   "execution_count": null,
   "metadata": {},
   "outputs": [],
   "source": [
    "# coverage_areas\n",
    "# Drop this column since it is empty\n",
    "df.drop(columns=['coverage_areas'], inplace=True)"
   ]
  },
  {
   "cell_type": "markdown",
   "metadata": {},
   "source": [
    "#### Descriptions\n",
    "\n",
    "Drop descriptions since they are all unique\n"
   ]
  },
  {
   "cell_type": "code",
   "execution_count": null,
   "metadata": {},
   "outputs": [],
   "source": [
    "print(df.descriptions.sample(3))\n",
    "df[['descriptions']].apply(lambda x: x.str.len().value_counts(dropna=False))"
   ]
  },
  {
   "cell_type": "markdown",
   "metadata": {},
   "source": [
    "#### Pictures\n",
    "\n",
    "Only keep the number of pictures and the average resolution\n"
   ]
  },
  {
   "cell_type": "code",
   "execution_count": 82,
   "metadata": {},
   "outputs": [],
   "source": [
    "df['n_pictures'] = df['pictures'].apply(len)"
   ]
  },
  {
   "cell_type": "code",
   "execution_count": 112,
   "metadata": {},
   "outputs": [],
   "source": [
    "def get_pixels(size):\n",
    "    \"\"\"Get the number of pixels of a picture.\"\"\"\n",
    "    w, h = map(int, size.split('x'))\n",
    "    return w * h\n",
    "\n",
    "\n",
    "df['pixels_per_picture'] = df['pictures'].apply(\n",
    "    lambda x: np.median(\n",
    "        [get_pixels(picture['size']) for picture in x if picture['size']]\n",
    "    )\n",
    "    if x\n",
    "    else np.nan\n",
    ")"
   ]
  },
  {
   "cell_type": "code",
   "execution_count": null,
   "metadata": {},
   "outputs": [],
   "source": [
    "fig, axes = plt.subplots(nrows=1, ncols=2, figsize=(8, 4), dpi=100)\n",
    "\n",
    "std_params = {\n",
    "    'x': 'condition',\n",
    "    'data': df,\n",
    "    'fliersize': 0,\n",
    "    'linewidth': 0.6,\n",
    "    'linecolor': colors['lines'],\n",
    "    'legend': False,\n",
    "}\n",
    "\n",
    "# Number of pictures plot\n",
    "sns.boxplot(y='n_pictures', ax=axes[0], **std_params)\n",
    "axes[0].set_title('Number of pictures by condition')\n",
    "axes[0].set_ylabel('Pictures')\n",
    "axes[0].set_ylim(None, 21)\n",
    "\n",
    "# Image size plot\n",
    "sns.boxplot(y='pixels_per_picture', color=palette[2], ax=axes[1], **std_params)\n",
    "axes[1].set_title('Pixels of pictures by condition')\n",
    "axes[1].set_ylabel('Pixels')\n",
    "axes[1].set_ylim(50_000, 280_000)\n",
    "axes[1].yaxis.set_major_formatter(FuncFormatter(lambda x, _: f'{x / 1_000:.0f}k'))\n",
    "\n",
    "# Common ax settings\n",
    "for ax in axes:\n",
    "    ax.set_xlabel('')\n",
    "    ax.set_xticks([0, 1])\n",
    "    ax.set_xticklabels(['Used', 'New'])\n",
    "    ax.spines[['left', 'bottom']].set_visible(False)\n",
    "\n",
    "plt.tight_layout(w_pad=5)\n",
    "plt.show()"
   ]
  }
 ],
 "metadata": {
  "kernelspec": {
   "display_name": ".env",
   "language": "python",
   "name": "python3"
  },
  "language_info": {
   "codemirror_mode": {
    "name": "ipython",
    "version": 3
   },
   "file_extension": ".py",
   "mimetype": "text/x-python",
   "name": "python",
   "nbconvert_exporter": "python",
   "pygments_lexer": "ipython3",
   "version": "3.12.4"
  }
 },
 "nbformat": 4,
 "nbformat_minor": 2
}
