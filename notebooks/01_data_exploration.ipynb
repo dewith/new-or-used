{
 "cells": [
  {
   "cell_type": "markdown",
   "metadata": {},
   "source": [
    "# Dataset Exploration"
   ]
  },
  {
   "cell_type": "markdown",
   "metadata": {},
   "source": [
    "Here we explore the dataset with thousands of Spotify songs and their playlist groupings."
   ]
  },
  {
   "cell_type": "markdown",
   "metadata": {},
   "source": [
    "First we import the packages we need and set the palette for our plots."
   ]
  },
  {
   "cell_type": "code",
   "execution_count": null,
   "metadata": {},
   "outputs": [],
   "source": [
    "import os\n",
    "\n",
    "for _ in range(3):\n",
    "    if os.path.exists(f'{os.getcwd()}/setup.py'):\n",
    "        break\n",
    "    os.chdir('..')\n",
    "print('Current working directory:', os.getcwd())"
   ]
  },
  {
   "cell_type": "code",
   "execution_count": null,
   "metadata": {},
   "outputs": [],
   "source": [
    "from collections import Counter\n",
    "\n",
    "import matplotlib.pyplot as plt\n",
    "import numpy as np\n",
    "import pandas as pd\n",
    "import powerlaw\n",
    "\n",
    "from src.utils.config import get_dataset_path\n",
    "from src.utils.styling import apply_styling"
   ]
  },
  {
   "cell_type": "code",
   "execution_count": null,
   "metadata": {},
   "outputs": [],
   "source": [
    "colors = apply_styling()\n",
    "palette = colors['palette']"
   ]
  },
  {
   "cell_type": "markdown",
   "metadata": {},
   "source": [
    "Read the parquet file"
   ]
  },
  {
   "cell_type": "code",
   "execution_count": null,
   "metadata": {},
   "outputs": [],
   "source": [
    "df = pd.read_parquet(get_dataset_path('master_spotify'))\n",
    "print('Rows: ', len(df))\n",
    "df.head(3)"
   ]
  },
  {
   "cell_type": "markdown",
   "metadata": {},
   "source": [
    "What artists and songs are most popular?"
   ]
  },
  {
   "cell_type": "code",
   "execution_count": null,
   "metadata": {},
   "outputs": [],
   "source": [
    "artist_counter = Counter(list(df['artist']))\n",
    "song_counter = Counter(list(df['track']))\n",
    "print('Top artists: {}'.format(artist_counter.most_common(10)))\n",
    "print('Top songs: {}'.format(song_counter.most_common(10)))"
   ]
  },
  {
   "cell_type": "markdown",
   "metadata": {},
   "source": [
    "Let's visualize the distribution of tracks and artist in our dataset."
   ]
  },
  {
   "cell_type": "code",
   "execution_count": null,
   "metadata": {},
   "outputs": [],
   "source": [
    "fig, axs = plt.subplots(1, 2, figsize=(10, 4))\n",
    "\n",
    "# Histogram of artists\n",
    "n_bins = 40\n",
    "axs[0].hist(artist_counter.values(), bins=n_bins, color=palette[0])\n",
    "axs[0].set_title('Artists')\n",
    "axs[0].set_yscale('log')\n",
    "# axs[0].ticklabel_format(axis='x', style='sci', scilimits=(0, 0))\n",
    "axs[0].set_ylabel('No. of artists')\n",
    "axs[0].set_xlabel('No. of times artist is in a playlist')\n",
    "\n",
    "# Histogram of songs\n",
    "axs[1].hist(song_counter.values(), bins=n_bins, color=palette[1])\n",
    "axs[1].set_title('Songs')\n",
    "axs[1].set_yscale('log')\n",
    "axs[1].set_ylabel('No. of songs')\n",
    "axs[1].set_xlabel('No. of times song is in a playlist')\n",
    "\n",
    "fig.tight_layout(pad=3.0)\n",
    "fig.savefig('data/06_viz/artists_songs_histogram.png', bbox_inches='tight')\n",
    "plt.show()"
   ]
  },
  {
   "cell_type": "markdown",
   "metadata": {},
   "source": [
    "Since it looks like our data is very skewed, we can use the `powerlaw` powerlaw library and formally compare the distribution of how artists are represented in playlists to a powerlaw. Specifically, we use the package to visualize the [probability density function](https://pythonhosted.org/powerlaw/#powerlaw.Fit.plot_pdf) for the theoretical distribution estimated using the number of times artists are represented in playlists."
   ]
  },
  {
   "cell_type": "code",
   "execution_count": null,
   "metadata": {},
   "outputs": [],
   "source": [
    "data = list(artist_counter.values())\n",
    "fit = powerlaw.Fit(data, discrete=True)"
   ]
  },
  {
   "cell_type": "code",
   "execution_count": null,
   "metadata": {},
   "outputs": [],
   "source": [
    "fig, axs = plt.subplots(1, 2, figsize=(10, 4))\n",
    "\n",
    "fit.plot_pdf(\n",
    "    color=palette[2], linewidth=1.5, linestyle='-', ax=axs[0], label='Power law fit'\n",
    ")\n",
    "fit.power_law.plot_pdf(\n",
    "    color=palette[2],\n",
    "    linewidth=1.5,\n",
    "    linestyle='--',\n",
    "    ax=axs[0],\n",
    "    label='Theoretical power law',\n",
    ")\n",
    "axs[0].hist(\n",
    "    data,\n",
    "    bins=np.logspace(np.log10(1), np.log10(max(data)), 40),\n",
    "    density=True,\n",
    "    alpha=0.75,\n",
    "    color=colors['lines'],\n",
    ")\n",
    "axs[0].set_xscale('log')\n",
    "axs[0].set_yscale('log')\n",
    "axs[0].set_title('Artist Playlist Distribution vs Power Law')\n",
    "axs[0].set_ylabel('Density')\n",
    "axs[0].set_xlabel('No. of times artist is in a playlist')\n",
    "axs[0].legend(frameon=False)\n",
    "axs[1].axis('off')\n",
    "\n",
    "fig.tight_layout(pad=3.0)\n",
    "fig.savefig('data/06_viz/artists_powerlaw.png', bbox_inches='tight')\n",
    "plt.show()"
   ]
  },
  {
   "cell_type": "markdown",
   "metadata": {},
   "source": [
    "In this notebook, we explored a dataset with millions of Spotify songs and their playlist groupings. You saw which artists and songs are most popular and observed how the distribution of how artists are represented in playlists follows a power law."
   ]
  }
 ],
 "metadata": {
  "kernelspec": {
   "display_name": ".env",
   "language": "python",
   "name": "python3"
  },
  "language_info": {
   "codemirror_mode": {
    "name": "ipython",
    "version": 3
   },
   "file_extension": ".py",
   "mimetype": "text/x-python",
   "name": "python",
   "nbconvert_exporter": "python",
   "pygments_lexer": "ipython3",
   "version": "3.11.5"
  }
 },
 "nbformat": 4,
 "nbformat_minor": 2
}
